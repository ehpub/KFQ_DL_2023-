{
  "nbformat": 4,
  "nbformat_minor": 0,
  "metadata": {
    "colab": {
      "provenance": [],
      "authorship_tag": "ABX9TyO2iVmCHWVZaLooGeYgP7nR",
      "include_colab_link": true
    },
    "kernelspec": {
      "name": "python3",
      "display_name": "Python 3"
    },
    "language_info": {
      "name": "python"
    }
  },
  "cells": [
    {
      "cell_type": "markdown",
      "metadata": {
        "id": "view-in-github",
        "colab_type": "text"
      },
      "source": [
        "<a href=\"https://colab.research.google.com/github/ehpub/KFQ_DL_2023-/blob/main/2023_kfq_%EB%94%A5%EB%9F%AC%EB%8B%9D_%EB%89%B4%EC%8A%A4_%EA%B8%B0%EC%82%AC_%EB%B6%84%EB%A5%98.ipynb\" target=\"_parent\"><img src=\"https://colab.research.google.com/assets/colab-badge.svg\" alt=\"Open In Colab\"/></a>"
      ]
    },
    {
      "cell_type": "markdown",
      "source": [
        "참고 교재: https://www.gilbut.co.kr/book/view?bookcode=BN003496"
      ],
      "metadata": {
        "id": "P9MzUUy5O2k9"
      }
    },
    {
      "cell_type": "code",
      "execution_count": 12,
      "metadata": {
        "id": "uFSQ-q2lO2Ii"
      },
      "outputs": [],
      "source": [
        "import tensorflow as tf\n",
        "from tensorflow import keras\n",
        "from keras import layers\n",
        "from keras import models\n",
        "from keras.datasets import reuters\n",
        "import numpy as np"
      ]
    },
    {
      "cell_type": "code",
      "source": [
        "(x_train,y_train),(x_test,y_test) = reuters.load_data(num_words=10000)"
      ],
      "metadata": {
        "id": "ci7RflJfPgTi"
      },
      "execution_count": 13,
      "outputs": []
    },
    {
      "cell_type": "code",
      "source": [
        "print(x_train[0])"
      ],
      "metadata": {
        "colab": {
          "base_uri": "https://localhost:8080/"
        },
        "id": "remWjJc_P0fw",
        "outputId": "f3c6d180-edf2-4473-e062-9876af131a95"
      },
      "execution_count": 14,
      "outputs": [
        {
          "output_type": "stream",
          "name": "stdout",
          "text": [
            "[1, 2, 2, 8, 43, 10, 447, 5, 25, 207, 270, 5, 3095, 111, 16, 369, 186, 90, 67, 7, 89, 5, 19, 102, 6, 19, 124, 15, 90, 67, 84, 22, 482, 26, 7, 48, 4, 49, 8, 864, 39, 209, 154, 6, 151, 6, 83, 11, 15, 22, 155, 11, 15, 7, 48, 9, 4579, 1005, 504, 6, 258, 6, 272, 11, 15, 22, 134, 44, 11, 15, 16, 8, 197, 1245, 90, 67, 52, 29, 209, 30, 32, 132, 6, 109, 15, 17, 12]\n"
          ]
        }
      ]
    },
    {
      "cell_type": "code",
      "source": [
        "x_train.shape , x_test.shape"
      ],
      "metadata": {
        "colab": {
          "base_uri": "https://localhost:8080/"
        },
        "id": "ZB5V_WSGP5dp",
        "outputId": "effdf26a-4674-4a8b-9a7d-de582c322f49"
      },
      "execution_count": 15,
      "outputs": [
        {
          "output_type": "execute_result",
          "data": {
            "text/plain": [
              "((8982,), (2246,))"
            ]
          },
          "metadata": {},
          "execution_count": 15
        }
      ]
    },
    {
      "cell_type": "code",
      "source": [
        "def vectorize_sequences(sequences, dimension=10000):\n",
        "  result = np.zeros((len(sequences),dimension))\n",
        "  for i, sequence in enumerate(sequences):\n",
        "    for j in sequence:\n",
        "      result[i,j] = 1.\n",
        "  return result"
      ],
      "metadata": {
        "id": "TixWDRUsQLT6"
      },
      "execution_count": 16,
      "outputs": []
    },
    {
      "cell_type": "code",
      "source": [
        "x_train = vectorize_sequences(x_train)\n",
        "x_test = vectorize_sequences(x_test)"
      ],
      "metadata": {
        "id": "LgoS4etlQeac"
      },
      "execution_count": 17,
      "outputs": []
    },
    {
      "cell_type": "code",
      "source": [
        "def to_one_hot(labels,dimension=46):\n",
        "  re = np.zeros((len(labels),dimension))\n",
        "  for i, label in enumerate(labels):\n",
        "    re[i,label]=1\n",
        "  return re"
      ],
      "metadata": {
        "id": "GtxIClwYQqNA"
      },
      "execution_count": 18,
      "outputs": []
    },
    {
      "cell_type": "code",
      "source": [
        "y_train[:10]"
      ],
      "metadata": {
        "colab": {
          "base_uri": "https://localhost:8080/"
        },
        "id": "7_Jkfq3ZTwaz",
        "outputId": "7b6a4ea2-7c60-4968-c7a5-ed6b0526fa00"
      },
      "execution_count": 22,
      "outputs": [
        {
          "output_type": "execute_result",
          "data": {
            "text/plain": [
              "array([ 3,  4,  3,  4,  4,  4,  4,  3,  3, 16])"
            ]
          },
          "metadata": {},
          "execution_count": 22
        }
      ]
    },
    {
      "cell_type": "code",
      "source": [
        "y_train = to_one_hot(y_train)\n",
        "y_test = to_one_hot(y_test)\n",
        "print(y_train[:10])"
      ],
      "metadata": {
        "colab": {
          "base_uri": "https://localhost:8080/"
        },
        "id": "DDqO-gWNTz64",
        "outputId": "ae884f15-3ccd-4762-e2b8-b02b4b249b41"
      },
      "execution_count": 23,
      "outputs": [
        {
          "output_type": "stream",
          "name": "stdout",
          "text": [
            "[[0. 0. 0. 1. 0. 0. 0. 0. 0. 0. 0. 0. 0. 0. 0. 0. 0. 0. 0. 0. 0. 0. 0. 0.\n",
            "  0. 0. 0. 0. 0. 0. 0. 0. 0. 0. 0. 0. 0. 0. 0. 0. 0. 0. 0. 0. 0. 0.]\n",
            " [0. 0. 0. 0. 1. 0. 0. 0. 0. 0. 0. 0. 0. 0. 0. 0. 0. 0. 0. 0. 0. 0. 0. 0.\n",
            "  0. 0. 0. 0. 0. 0. 0. 0. 0. 0. 0. 0. 0. 0. 0. 0. 0. 0. 0. 0. 0. 0.]\n",
            " [0. 0. 0. 1. 0. 0. 0. 0. 0. 0. 0. 0. 0. 0. 0. 0. 0. 0. 0. 0. 0. 0. 0. 0.\n",
            "  0. 0. 0. 0. 0. 0. 0. 0. 0. 0. 0. 0. 0. 0. 0. 0. 0. 0. 0. 0. 0. 0.]\n",
            " [0. 0. 0. 0. 1. 0. 0. 0. 0. 0. 0. 0. 0. 0. 0. 0. 0. 0. 0. 0. 0. 0. 0. 0.\n",
            "  0. 0. 0. 0. 0. 0. 0. 0. 0. 0. 0. 0. 0. 0. 0. 0. 0. 0. 0. 0. 0. 0.]\n",
            " [0. 0. 0. 0. 1. 0. 0. 0. 0. 0. 0. 0. 0. 0. 0. 0. 0. 0. 0. 0. 0. 0. 0. 0.\n",
            "  0. 0. 0. 0. 0. 0. 0. 0. 0. 0. 0. 0. 0. 0. 0. 0. 0. 0. 0. 0. 0. 0.]\n",
            " [0. 0. 0. 0. 1. 0. 0. 0. 0. 0. 0. 0. 0. 0. 0. 0. 0. 0. 0. 0. 0. 0. 0. 0.\n",
            "  0. 0. 0. 0. 0. 0. 0. 0. 0. 0. 0. 0. 0. 0. 0. 0. 0. 0. 0. 0. 0. 0.]\n",
            " [0. 0. 0. 0. 1. 0. 0. 0. 0. 0. 0. 0. 0. 0. 0. 0. 0. 0. 0. 0. 0. 0. 0. 0.\n",
            "  0. 0. 0. 0. 0. 0. 0. 0. 0. 0. 0. 0. 0. 0. 0. 0. 0. 0. 0. 0. 0. 0.]\n",
            " [0. 0. 0. 1. 0. 0. 0. 0. 0. 0. 0. 0. 0. 0. 0. 0. 0. 0. 0. 0. 0. 0. 0. 0.\n",
            "  0. 0. 0. 0. 0. 0. 0. 0. 0. 0. 0. 0. 0. 0. 0. 0. 0. 0. 0. 0. 0. 0.]\n",
            " [0. 0. 0. 1. 0. 0. 0. 0. 0. 0. 0. 0. 0. 0. 0. 0. 0. 0. 0. 0. 0. 0. 0. 0.\n",
            "  0. 0. 0. 0. 0. 0. 0. 0. 0. 0. 0. 0. 0. 0. 0. 0. 0. 0. 0. 0. 0. 0.]\n",
            " [0. 0. 0. 0. 0. 0. 0. 0. 0. 0. 0. 0. 0. 0. 0. 0. 1. 0. 0. 0. 0. 0. 0. 0.\n",
            "  0. 0. 0. 0. 0. 0. 0. 0. 0. 0. 0. 0. 0. 0. 0. 0. 0. 0. 0. 0. 0. 0.]]\n"
          ]
        }
      ]
    },
    {
      "cell_type": "code",
      "source": [
        "model = models.Sequential()\n",
        "model.add(layers.Dense(64,activation=\"relu\"))\n",
        "model.add(layers.Dense(64,activation=\"relu\"))\n",
        "model.add(layers.Dense(46,activation=\"softmax\"))"
      ],
      "metadata": {
        "id": "CsFm8_MxUDKO"
      },
      "execution_count": 30,
      "outputs": []
    },
    {
      "cell_type": "code",
      "source": [
        "model.compile(loss=keras.losses.categorical_crossentropy,\n",
        "              optimizer='rmsprop',\n",
        "              metrics=['accuracy'])"
      ],
      "metadata": {
        "id": "nD8uqeq9Xi0c"
      },
      "execution_count": 31,
      "outputs": []
    },
    {
      "cell_type": "code",
      "source": [
        "x_val = x_train[:1000]\n",
        "px_train = x_train[1000:]\n",
        "y_val = y_train[:1000]\n",
        "py_train = y_train[1000:]"
      ],
      "metadata": {
        "id": "SgpLfisVYKmL"
      },
      "execution_count": 26,
      "outputs": []
    },
    {
      "cell_type": "code",
      "source": [
        "hist = model.fit(px_train,py_train,\n",
        "                 epochs=100,\n",
        "                 batch_size=512,\n",
        "                 validation_data=(x_val,y_val))"
      ],
      "metadata": {
        "colab": {
          "base_uri": "https://localhost:8080/"
        },
        "id": "re-gHveGYmZf",
        "outputId": "6f9a7452-4704-4966-e3f0-817258120790"
      },
      "execution_count": 32,
      "outputs": [
        {
          "output_type": "stream",
          "name": "stdout",
          "text": [
            "Epoch 1/100\n",
            "16/16 [==============================] - 2s 115ms/step - loss: 2.7183 - accuracy: 0.5009 - val_loss: 1.7949 - val_accuracy: 0.6130\n",
            "Epoch 2/100\n",
            "16/16 [==============================] - 1s 82ms/step - loss: 1.5250 - accuracy: 0.6716 - val_loss: 1.3702 - val_accuracy: 0.6930\n",
            "Epoch 3/100\n",
            "16/16 [==============================] - 1s 53ms/step - loss: 1.1653 - accuracy: 0.7433 - val_loss: 1.1906 - val_accuracy: 0.7370\n",
            "Epoch 4/100\n",
            "16/16 [==============================] - 1s 53ms/step - loss: 0.9485 - accuracy: 0.7973 - val_loss: 1.0687 - val_accuracy: 0.7580\n",
            "Epoch 5/100\n",
            "16/16 [==============================] - 1s 54ms/step - loss: 0.7865 - accuracy: 0.8287 - val_loss: 0.9983 - val_accuracy: 0.7890\n",
            "Epoch 6/100\n",
            "16/16 [==============================] - 1s 54ms/step - loss: 0.6594 - accuracy: 0.8567 - val_loss: 0.9397 - val_accuracy: 0.7950\n",
            "Epoch 7/100\n",
            "16/16 [==============================] - 1s 54ms/step - loss: 0.5538 - accuracy: 0.8782 - val_loss: 0.8927 - val_accuracy: 0.8080\n",
            "Epoch 8/100\n",
            "16/16 [==============================] - 1s 54ms/step - loss: 0.4668 - accuracy: 0.8974 - val_loss: 0.9037 - val_accuracy: 0.7950\n",
            "Epoch 9/100\n",
            "16/16 [==============================] - 1s 53ms/step - loss: 0.3870 - accuracy: 0.9183 - val_loss: 0.8653 - val_accuracy: 0.8000\n",
            "Epoch 10/100\n",
            "16/16 [==============================] - 1s 53ms/step - loss: 0.3338 - accuracy: 0.9278 - val_loss: 0.8638 - val_accuracy: 0.8080\n",
            "Epoch 11/100\n",
            "16/16 [==============================] - 1s 64ms/step - loss: 0.2873 - accuracy: 0.9357 - val_loss: 0.8844 - val_accuracy: 0.8110\n",
            "Epoch 12/100\n",
            "16/16 [==============================] - 1s 54ms/step - loss: 0.2519 - accuracy: 0.9422 - val_loss: 0.8522 - val_accuracy: 0.8120\n",
            "Epoch 13/100\n",
            "16/16 [==============================] - 1s 54ms/step - loss: 0.2237 - accuracy: 0.9486 - val_loss: 0.8825 - val_accuracy: 0.8100\n",
            "Epoch 14/100\n",
            "16/16 [==============================] - 1s 87ms/step - loss: 0.2016 - accuracy: 0.9493 - val_loss: 0.8947 - val_accuracy: 0.8130\n",
            "Epoch 15/100\n",
            "16/16 [==============================] - 2s 156ms/step - loss: 0.1799 - accuracy: 0.9514 - val_loss: 0.8707 - val_accuracy: 0.8170\n",
            "Epoch 16/100\n",
            "16/16 [==============================] - 2s 109ms/step - loss: 0.1692 - accuracy: 0.9538 - val_loss: 0.8670 - val_accuracy: 0.8230\n",
            "Epoch 17/100\n",
            "16/16 [==============================] - 2s 102ms/step - loss: 0.1588 - accuracy: 0.9533 - val_loss: 0.8830 - val_accuracy: 0.8210\n",
            "Epoch 18/100\n",
            "16/16 [==============================] - 1s 64ms/step - loss: 0.1455 - accuracy: 0.9569 - val_loss: 0.9044 - val_accuracy: 0.8160\n",
            "Epoch 19/100\n",
            "16/16 [==============================] - 1s 53ms/step - loss: 0.1446 - accuracy: 0.9551 - val_loss: 0.9029 - val_accuracy: 0.8200\n",
            "Epoch 20/100\n",
            "16/16 [==============================] - 1s 56ms/step - loss: 0.1337 - accuracy: 0.9579 - val_loss: 0.9526 - val_accuracy: 0.8070\n",
            "Epoch 21/100\n",
            "16/16 [==============================] - 1s 56ms/step - loss: 0.1263 - accuracy: 0.9580 - val_loss: 0.9106 - val_accuracy: 0.8170\n",
            "Epoch 22/100\n",
            "16/16 [==============================] - 1s 55ms/step - loss: 0.1259 - accuracy: 0.9578 - val_loss: 0.9434 - val_accuracy: 0.8130\n",
            "Epoch 23/100\n",
            "16/16 [==============================] - 1s 52ms/step - loss: 0.1207 - accuracy: 0.9578 - val_loss: 0.9516 - val_accuracy: 0.8030\n",
            "Epoch 24/100\n",
            "16/16 [==============================] - 1s 68ms/step - loss: 0.1127 - accuracy: 0.9582 - val_loss: 0.9529 - val_accuracy: 0.8150\n",
            "Epoch 25/100\n",
            "16/16 [==============================] - 2s 96ms/step - loss: 0.1180 - accuracy: 0.9573 - val_loss: 0.9530 - val_accuracy: 0.8120\n",
            "Epoch 26/100\n",
            "16/16 [==============================] - 1s 75ms/step - loss: 0.1148 - accuracy: 0.9563 - val_loss: 0.9958 - val_accuracy: 0.7990\n",
            "Epoch 27/100\n",
            "16/16 [==============================] - 1s 51ms/step - loss: 0.1092 - accuracy: 0.9588 - val_loss: 0.9570 - val_accuracy: 0.8080\n",
            "Epoch 28/100\n",
            "16/16 [==============================] - 1s 54ms/step - loss: 0.1111 - accuracy: 0.9563 - val_loss: 0.9837 - val_accuracy: 0.8150\n",
            "Epoch 29/100\n",
            "16/16 [==============================] - 1s 55ms/step - loss: 0.1083 - accuracy: 0.9572 - val_loss: 1.0039 - val_accuracy: 0.8070\n",
            "Epoch 30/100\n",
            "16/16 [==============================] - 1s 56ms/step - loss: 0.1088 - accuracy: 0.9570 - val_loss: 0.9706 - val_accuracy: 0.8150\n",
            "Epoch 31/100\n",
            "16/16 [==============================] - 1s 54ms/step - loss: 0.1054 - accuracy: 0.9568 - val_loss: 0.9785 - val_accuracy: 0.8150\n",
            "Epoch 32/100\n",
            "16/16 [==============================] - 1s 52ms/step - loss: 0.1020 - accuracy: 0.9590 - val_loss: 1.0357 - val_accuracy: 0.8000\n",
            "Epoch 33/100\n",
            "16/16 [==============================] - 1s 54ms/step - loss: 0.1044 - accuracy: 0.9572 - val_loss: 0.9780 - val_accuracy: 0.8110\n",
            "Epoch 34/100\n",
            "16/16 [==============================] - 1s 56ms/step - loss: 0.0988 - accuracy: 0.9583 - val_loss: 1.0041 - val_accuracy: 0.8090\n",
            "Epoch 35/100\n",
            "16/16 [==============================] - 1s 56ms/step - loss: 0.0985 - accuracy: 0.9573 - val_loss: 1.0110 - val_accuracy: 0.8070\n",
            "Epoch 36/100\n",
            "16/16 [==============================] - 1s 54ms/step - loss: 0.1008 - accuracy: 0.9594 - val_loss: 1.0150 - val_accuracy: 0.8140\n",
            "Epoch 37/100\n",
            "16/16 [==============================] - 1s 55ms/step - loss: 0.1000 - accuracy: 0.9587 - val_loss: 1.0889 - val_accuracy: 0.7930\n",
            "Epoch 38/100\n",
            "16/16 [==============================] - 1s 93ms/step - loss: 0.0985 - accuracy: 0.9594 - val_loss: 1.0236 - val_accuracy: 0.8160\n",
            "Epoch 39/100\n",
            "16/16 [==============================] - 1s 89ms/step - loss: 0.0996 - accuracy: 0.9573 - val_loss: 1.0635 - val_accuracy: 0.7970\n",
            "Epoch 40/100\n",
            "16/16 [==============================] - 1s 54ms/step - loss: 0.1002 - accuracy: 0.9568 - val_loss: 1.0167 - val_accuracy: 0.8220\n",
            "Epoch 41/100\n",
            "16/16 [==============================] - 1s 54ms/step - loss: 0.0956 - accuracy: 0.9600 - val_loss: 1.0761 - val_accuracy: 0.8030\n",
            "Epoch 42/100\n",
            "16/16 [==============================] - 1s 53ms/step - loss: 0.0983 - accuracy: 0.9604 - val_loss: 1.0788 - val_accuracy: 0.8080\n",
            "Epoch 43/100\n",
            "16/16 [==============================] - 1s 56ms/step - loss: 0.0943 - accuracy: 0.9583 - val_loss: 1.0490 - val_accuracy: 0.8070\n",
            "Epoch 44/100\n",
            "16/16 [==============================] - 1s 53ms/step - loss: 0.0975 - accuracy: 0.9578 - val_loss: 1.0226 - val_accuracy: 0.8100\n",
            "Epoch 45/100\n",
            "16/16 [==============================] - 1s 51ms/step - loss: 0.0944 - accuracy: 0.9588 - val_loss: 1.0406 - val_accuracy: 0.8090\n",
            "Epoch 46/100\n",
            "16/16 [==============================] - 1s 53ms/step - loss: 0.0940 - accuracy: 0.9599 - val_loss: 1.1058 - val_accuracy: 0.8030\n",
            "Epoch 47/100\n",
            "16/16 [==============================] - 1s 56ms/step - loss: 0.0950 - accuracy: 0.9592 - val_loss: 1.0328 - val_accuracy: 0.8080\n",
            "Epoch 48/100\n",
            "16/16 [==============================] - 1s 56ms/step - loss: 0.0933 - accuracy: 0.9567 - val_loss: 1.0224 - val_accuracy: 0.8070\n",
            "Epoch 49/100\n",
            "16/16 [==============================] - 1s 56ms/step - loss: 0.0939 - accuracy: 0.9582 - val_loss: 1.0503 - val_accuracy: 0.8060\n",
            "Epoch 50/100\n",
            "16/16 [==============================] - 1s 57ms/step - loss: 0.0932 - accuracy: 0.9603 - val_loss: 1.0479 - val_accuracy: 0.8120\n",
            "Epoch 51/100\n",
            "16/16 [==============================] - 1s 76ms/step - loss: 0.0926 - accuracy: 0.9590 - val_loss: 1.0472 - val_accuracy: 0.8090\n",
            "Epoch 52/100\n",
            "16/16 [==============================] - 2s 98ms/step - loss: 0.0910 - accuracy: 0.9583 - val_loss: 1.0847 - val_accuracy: 0.7940\n",
            "Epoch 53/100\n",
            "16/16 [==============================] - 1s 62ms/step - loss: 0.0912 - accuracy: 0.9594 - val_loss: 1.0503 - val_accuracy: 0.8090\n",
            "Epoch 54/100\n",
            "16/16 [==============================] - 1s 54ms/step - loss: 0.0895 - accuracy: 0.9598 - val_loss: 1.0569 - val_accuracy: 0.8070\n",
            "Epoch 55/100\n",
            "16/16 [==============================] - 1s 56ms/step - loss: 0.0906 - accuracy: 0.9589 - val_loss: 1.0243 - val_accuracy: 0.8120\n",
            "Epoch 56/100\n",
            "16/16 [==============================] - 1s 55ms/step - loss: 0.0899 - accuracy: 0.9585 - val_loss: 1.0846 - val_accuracy: 0.8060\n",
            "Epoch 57/100\n",
            "16/16 [==============================] - 1s 54ms/step - loss: 0.0897 - accuracy: 0.9599 - val_loss: 1.0491 - val_accuracy: 0.8140\n",
            "Epoch 58/100\n",
            "16/16 [==============================] - 1s 54ms/step - loss: 0.0894 - accuracy: 0.9584 - val_loss: 1.0571 - val_accuracy: 0.8030\n",
            "Epoch 59/100\n",
            "16/16 [==============================] - 1s 56ms/step - loss: 0.0890 - accuracy: 0.9587 - val_loss: 1.1027 - val_accuracy: 0.7940\n",
            "Epoch 60/100\n",
            "16/16 [==============================] - 1s 53ms/step - loss: 0.0900 - accuracy: 0.9588 - val_loss: 1.0354 - val_accuracy: 0.8120\n",
            "Epoch 61/100\n",
            "16/16 [==============================] - 1s 54ms/step - loss: 0.0872 - accuracy: 0.9607 - val_loss: 1.0475 - val_accuracy: 0.8130\n",
            "Epoch 62/100\n",
            "16/16 [==============================] - 1s 55ms/step - loss: 0.0887 - accuracy: 0.9588 - val_loss: 1.0968 - val_accuracy: 0.7960\n",
            "Epoch 63/100\n",
            "16/16 [==============================] - 1s 53ms/step - loss: 0.0888 - accuracy: 0.9585 - val_loss: 1.0496 - val_accuracy: 0.8050\n",
            "Epoch 64/100\n",
            "16/16 [==============================] - 1s 66ms/step - loss: 0.0851 - accuracy: 0.9605 - val_loss: 1.0617 - val_accuracy: 0.8060\n",
            "Epoch 65/100\n",
            "16/16 [==============================] - 2s 95ms/step - loss: 0.0859 - accuracy: 0.9614 - val_loss: 1.1030 - val_accuracy: 0.8070\n",
            "Epoch 66/100\n",
            "16/16 [==============================] - 1s 73ms/step - loss: 0.0909 - accuracy: 0.9564 - val_loss: 1.0904 - val_accuracy: 0.8040\n",
            "Epoch 67/100\n",
            "16/16 [==============================] - 1s 54ms/step - loss: 0.0867 - accuracy: 0.9590 - val_loss: 1.1092 - val_accuracy: 0.8030\n",
            "Epoch 68/100\n",
            "16/16 [==============================] - 1s 52ms/step - loss: 0.0856 - accuracy: 0.9588 - val_loss: 1.1207 - val_accuracy: 0.7970\n",
            "Epoch 69/100\n",
            "16/16 [==============================] - 1s 54ms/step - loss: 0.0859 - accuracy: 0.9603 - val_loss: 1.0764 - val_accuracy: 0.8040\n",
            "Epoch 70/100\n",
            "16/16 [==============================] - 1s 55ms/step - loss: 0.0841 - accuracy: 0.9610 - val_loss: 1.0881 - val_accuracy: 0.8130\n",
            "Epoch 71/100\n",
            "16/16 [==============================] - 1s 54ms/step - loss: 0.0892 - accuracy: 0.9582 - val_loss: 1.0905 - val_accuracy: 0.8050\n",
            "Epoch 72/100\n",
            "16/16 [==============================] - 1s 53ms/step - loss: 0.0839 - accuracy: 0.9612 - val_loss: 1.0607 - val_accuracy: 0.8150\n",
            "Epoch 73/100\n",
            "16/16 [==============================] - 1s 54ms/step - loss: 0.0845 - accuracy: 0.9578 - val_loss: 1.0737 - val_accuracy: 0.8130\n",
            "Epoch 74/100\n",
            "16/16 [==============================] - 1s 50ms/step - loss: 0.0855 - accuracy: 0.9595 - val_loss: 1.1321 - val_accuracy: 0.7890\n",
            "Epoch 75/100\n",
            "16/16 [==============================] - 1s 53ms/step - loss: 0.0829 - accuracy: 0.9603 - val_loss: 1.0843 - val_accuracy: 0.8030\n",
            "Epoch 76/100\n",
            "16/16 [==============================] - 1s 55ms/step - loss: 0.0858 - accuracy: 0.9594 - val_loss: 1.0577 - val_accuracy: 0.8040\n",
            "Epoch 77/100\n",
            "16/16 [==============================] - 1s 55ms/step - loss: 0.0856 - accuracy: 0.9567 - val_loss: 1.0592 - val_accuracy: 0.8120\n",
            "Epoch 78/100\n",
            "16/16 [==============================] - 1s 91ms/step - loss: 0.0818 - accuracy: 0.9608 - val_loss: 1.0333 - val_accuracy: 0.8150\n",
            "Epoch 79/100\n",
            "16/16 [==============================] - 1s 92ms/step - loss: 0.0862 - accuracy: 0.9573 - val_loss: 1.0645 - val_accuracy: 0.8100\n",
            "Epoch 80/100\n",
            "16/16 [==============================] - 1s 58ms/step - loss: 0.0843 - accuracy: 0.9602 - val_loss: 1.0369 - val_accuracy: 0.8140\n",
            "Epoch 81/100\n",
            "16/16 [==============================] - 1s 86ms/step - loss: 0.0834 - accuracy: 0.9577 - val_loss: 1.0754 - val_accuracy: 0.8140\n",
            "Epoch 82/100\n",
            "16/16 [==============================] - 1s 84ms/step - loss: 0.0797 - accuracy: 0.9607 - val_loss: 1.0523 - val_accuracy: 0.8130\n",
            "Epoch 83/100\n",
            "16/16 [==============================] - 1s 82ms/step - loss: 0.0822 - accuracy: 0.9603 - val_loss: 1.0798 - val_accuracy: 0.8110\n",
            "Epoch 84/100\n",
            "16/16 [==============================] - 1s 53ms/step - loss: 0.0816 - accuracy: 0.9595 - val_loss: 1.0568 - val_accuracy: 0.8170\n",
            "Epoch 85/100\n",
            "16/16 [==============================] - 1s 55ms/step - loss: 0.0826 - accuracy: 0.9595 - val_loss: 1.0700 - val_accuracy: 0.8100\n",
            "Epoch 86/100\n",
            "16/16 [==============================] - 1s 53ms/step - loss: 0.0830 - accuracy: 0.9582 - val_loss: 1.0833 - val_accuracy: 0.8130\n",
            "Epoch 87/100\n",
            "16/16 [==============================] - 1s 54ms/step - loss: 0.0795 - accuracy: 0.9604 - val_loss: 1.0711 - val_accuracy: 0.8070\n",
            "Epoch 88/100\n",
            "16/16 [==============================] - 1s 55ms/step - loss: 0.0814 - accuracy: 0.9594 - val_loss: 1.0860 - val_accuracy: 0.8030\n",
            "Epoch 89/100\n",
            "16/16 [==============================] - 1s 55ms/step - loss: 0.0832 - accuracy: 0.9579 - val_loss: 1.1028 - val_accuracy: 0.8030\n",
            "Epoch 90/100\n",
            "16/16 [==============================] - 1s 94ms/step - loss: 0.0823 - accuracy: 0.9589 - val_loss: 1.0719 - val_accuracy: 0.8130\n",
            "Epoch 91/100\n",
            "16/16 [==============================] - 2s 95ms/step - loss: 0.0824 - accuracy: 0.9584 - val_loss: 1.0804 - val_accuracy: 0.8080\n",
            "Epoch 92/100\n",
            "16/16 [==============================] - 1s 53ms/step - loss: 0.0798 - accuracy: 0.9589 - val_loss: 1.0798 - val_accuracy: 0.8050\n",
            "Epoch 93/100\n",
            "16/16 [==============================] - 1s 55ms/step - loss: 0.0815 - accuracy: 0.9584 - val_loss: 1.0498 - val_accuracy: 0.8020\n",
            "Epoch 94/100\n",
            "16/16 [==============================] - 1s 52ms/step - loss: 0.0834 - accuracy: 0.9589 - val_loss: 1.1163 - val_accuracy: 0.8090\n",
            "Epoch 95/100\n",
            "16/16 [==============================] - 1s 52ms/step - loss: 0.0794 - accuracy: 0.9597 - val_loss: 1.1048 - val_accuracy: 0.8010\n",
            "Epoch 96/100\n",
            "16/16 [==============================] - 1s 54ms/step - loss: 0.0804 - accuracy: 0.9585 - val_loss: 1.0696 - val_accuracy: 0.8070\n",
            "Epoch 97/100\n",
            "16/16 [==============================] - 1s 53ms/step - loss: 0.0827 - accuracy: 0.9584 - val_loss: 1.0656 - val_accuracy: 0.8150\n",
            "Epoch 98/100\n",
            "16/16 [==============================] - 1s 55ms/step - loss: 0.0778 - accuracy: 0.9592 - val_loss: 1.0768 - val_accuracy: 0.8070\n",
            "Epoch 99/100\n",
            "16/16 [==============================] - 1s 54ms/step - loss: 0.0825 - accuracy: 0.9590 - val_loss: 1.0548 - val_accuracy: 0.8170\n",
            "Epoch 100/100\n",
            "16/16 [==============================] - 1s 52ms/step - loss: 0.0768 - accuracy: 0.9603 - val_loss: 1.1058 - val_accuracy: 0.8100\n"
          ]
        }
      ]
    },
    {
      "cell_type": "code",
      "source": [
        "import matplotlib.pyplot as plt"
      ],
      "metadata": {
        "id": "66D49J7qY91R"
      },
      "execution_count": 28,
      "outputs": []
    },
    {
      "cell_type": "code",
      "source": [
        "plt.plot(hist.history['loss'],label='loss')\n",
        "plt.plot(hist.history['val_loss'],label='val loss')\n",
        "plt.legend()\n",
        "plt.show()"
      ],
      "metadata": {
        "colab": {
          "base_uri": "https://localhost:8080/",
          "height": 430
        },
        "id": "MAtNyNuXZU85",
        "outputId": "56d5260b-28aa-4a99-e474-97bc72168cfb"
      },
      "execution_count": 33,
      "outputs": [
        {
          "output_type": "display_data",
          "data": {
            "text/plain": [
              "<Figure size 640x480 with 1 Axes>"
            ],
            "image/png": "[encoded data removed]"
          },
          "metadata": {}
        }
      ]
    },
    {
      "cell_type": "code",
      "source": [
        "plt.plot(hist.history['accuracy'],label='accuracy')\n",
        "plt.plot(hist.history['val_accuracy'],label='val accuracy')\n",
        "plt.legend()\n",
        "plt.show()"
      ],
      "metadata": {
        "colab": {
          "base_uri": "https://localhost:8080/",
          "height": 430
        },
        "id": "bL5wjh-XZdam",
        "outputId": "a365be53-66bd-46db-d842-d601383fe21a"
      },
      "execution_count": 34,
      "outputs": [
        {
          "output_type": "display_data",
          "data": {
            "text/plain": [
              "<Figure size 640x480 with 1 Axes>"
            ],
            "image/png": "[encoded data removed]"
          },
          "metadata": {}
        }
      ]
    },
    {
      "cell_type": "code",
      "source": [
        "model = models.Sequential()\n",
        "model.add(layers.Dense(64,activation=\"relu\"))\n",
        "model.add(layers.Dense(64,activation=\"relu\"))\n",
        "model.add(layers.Dense(46,activation=\"softmax\"))\n",
        "model.compile(loss=keras.losses.categorical_crossentropy,\n",
        "              optimizer='rmsprop',\n",
        "              metrics=['accuracy'])\n",
        "hist = model.fit(x_train,y_train,\n",
        "                 epochs=9,\n",
        "                 batch_size=512)\n",
        "model.evaluate(x_test,y_test)"
      ],
      "metadata": {
        "colab": {
          "base_uri": "https://localhost:8080/"
        },
        "id": "39WOYV8AaXLz",
        "outputId": "ec463171-3a95-44f8-cf08-180345a2b133"
      },
      "execution_count": 37,
      "outputs": [
        {
          "output_type": "stream",
          "name": "stdout",
          "text": [
            "Epoch 1/9\n",
            "18/18 [==============================] - 2s 47ms/step - loss: 2.6451 - accuracy: 0.4785\n",
            "Epoch 2/9\n",
            "18/18 [==============================] - 1s 47ms/step - loss: 1.4925 - accuracy: 0.6878\n",
            "Epoch 3/9\n",
            "18/18 [==============================] - 1s 82ms/step - loss: 1.1432 - accuracy: 0.7514\n",
            "Epoch 4/9\n",
            "18/18 [==============================] - 2s 85ms/step - loss: 0.9294 - accuracy: 0.8028\n",
            "Epoch 5/9\n",
            "18/18 [==============================] - 1s 47ms/step - loss: 0.7679 - accuracy: 0.8373\n",
            "Epoch 6/9\n",
            "18/18 [==============================] - 1s 48ms/step - loss: 0.6343 - accuracy: 0.8644\n",
            "Epoch 7/9\n",
            "18/18 [==============================] - 1s 47ms/step - loss: 0.5261 - accuracy: 0.8913\n",
            "Epoch 8/9\n",
            "18/18 [==============================] - 1s 47ms/step - loss: 0.4443 - accuracy: 0.9084\n",
            "Epoch 9/9\n",
            "18/18 [==============================] - 1s 47ms/step - loss: 0.3791 - accuracy: 0.9187\n",
            "71/71 [==============================] - 0s 3ms/step - loss: 0.9500 - accuracy: 0.7809\n"
          ]
        },
        {
          "output_type": "execute_result",
          "data": {
            "text/plain": [
              "[0.9499990940093994, 0.7809438705444336]"
            ]
          },
          "metadata": {},
          "execution_count": 37
        }
      ]
    },
    {
      "cell_type": "code",
      "source": [
        "pred = model.predict(x_test)"
      ],
      "metadata": {
        "colab": {
          "base_uri": "https://localhost:8080/"
        },
        "id": "e2Kc6EjcaivZ",
        "outputId": "ddc4eb95-65ed-4e90-a345-bc9c7f001838"
      },
      "execution_count": 38,
      "outputs": [
        {
          "output_type": "stream",
          "name": "stdout",
          "text": [
            "71/71 [==============================] - 1s 10ms/step\n"
          ]
        }
      ]
    },
    {
      "cell_type": "code",
      "source": [
        "for p in pred[0]:\n",
        "  print(f'{p:.2f}',end=' ')"
      ],
      "metadata": {
        "colab": {
          "base_uri": "https://localhost:8080/"
        },
        "id": "mW__3U4zcD6O",
        "outputId": "419829cd-d160-4c9f-f1b7-5985c62866a9"
      },
      "execution_count": 40,
      "outputs": [
        {
          "output_type": "stream",
          "name": "stdout",
          "text": [
            "0.00 0.00 0.00 0.96 0.03 0.00 0.00 0.00 0.00 0.00 0.00 0.00 0.00 0.00 0.00 0.00 0.00 0.00 0.00 0.00 0.00 0.00 0.00 0.00 0.00 0.00 0.00 0.00 0.00 0.00 0.00 0.00 0.00 0.00 0.00 0.00 0.00 0.00 0.00 0.00 0.00 0.00 0.00 0.00 0.00 0.00 "
          ]
        }
      ]
    },
    {
      "cell_type": "code",
      "source": [
        "y_test[0]"
      ],
      "metadata": {
        "colab": {
          "base_uri": "https://localhost:8080/"
        },
        "id": "7e5py-tOcHHN",
        "outputId": "327447ad-5dd9-4df1-daf7-7a679bfa9aca"
      },
      "execution_count": 41,
      "outputs": [
        {
          "output_type": "execute_result",
          "data": {
            "text/plain": [
              "array([0., 0., 0., 1., 0., 0., 0., 0., 0., 0., 0., 0., 0., 0., 0., 0., 0.,\n",
              "       0., 0., 0., 0., 0., 0., 0., 0., 0., 0., 0., 0., 0., 0., 0., 0., 0.,\n",
              "       0., 0., 0., 0., 0., 0., 0., 0., 0., 0., 0., 0.])"
            ]
          },
          "metadata": {},
          "execution_count": 41
        }
      ]
    },
    {
      "cell_type": "code",
      "source": [
        "np.sum(pred[0])"
      ],
      "metadata": {
        "colab": {
          "base_uri": "https://localhost:8080/"
        },
        "id": "fp2HYKRCcSnO",
        "outputId": "2497eb07-2ef7-458d-9b74-fa7eaf7e9ca1"
      },
      "execution_count": 43,
      "outputs": [
        {
          "output_type": "execute_result",
          "data": {
            "text/plain": [
              "1.0000001"
            ]
          },
          "metadata": {},
          "execution_count": 43
        }
      ]
    },
    {
      "cell_type": "code",
      "source": [
        "a = np.array([0.2,0.3,0.4,0.1,0.6,0.7])\n",
        "sum(a)"
      ],
      "metadata": {
        "colab": {
          "base_uri": "https://localhost:8080/"
        },
        "id": "4lrtKmErcgI7",
        "outputId": "e8d56723-5bd3-4b58-ed8c-accb9bd0b17e"
      },
      "execution_count": 44,
      "outputs": [
        {
          "output_type": "execute_result",
          "data": {
            "text/plain": [
              "2.3"
            ]
          },
          "metadata": {},
          "execution_count": 44
        }
      ]
    },
    {
      "cell_type": "code",
      "source": [
        "b = a/sum(a)"
      ],
      "metadata": {
        "id": "NZ8gInZ0c7qV"
      },
      "execution_count": 45,
      "outputs": []
    },
    {
      "cell_type": "code",
      "source": [
        "b"
      ],
      "metadata": {
        "colab": {
          "base_uri": "https://localhost:8080/"
        },
        "id": "vt2k6511c9-j",
        "outputId": "c494fc38-dd92-4cf3-a55a-83b4d51c3c7d"
      },
      "execution_count": 46,
      "outputs": [
        {
          "output_type": "execute_result",
          "data": {
            "text/plain": [
              "array([0.08695652, 0.13043478, 0.17391304, 0.04347826, 0.26086957,\n",
              "       0.30434783])"
            ]
          },
          "metadata": {},
          "execution_count": 46
        }
      ]
    },
    {
      "cell_type": "code",
      "source": [
        "np.sum(b)"
      ],
      "metadata": {
        "colab": {
          "base_uri": "https://localhost:8080/"
        },
        "id": "BhTwWpKdc-zY",
        "outputId": "8b6f74b8-d831-4c6e-9f8b-7176ee50dac7"
      },
      "execution_count": 49,
      "outputs": [
        {
          "output_type": "execute_result",
          "data": {
            "text/plain": [
              "1.0"
            ]
          },
          "metadata": {},
          "execution_count": 49
        }
      ]
    },
    {
      "cell_type": "code",
      "source": [
        "r = 0\n",
        "for _ in range(20):\n",
        "  r += 0.1\n",
        "  print(r)"
      ],
      "metadata": {
        "colab": {
          "base_uri": "https://localhost:8080/"
        },
        "id": "y4vRuO04dC0J",
        "outputId": "5051f6b3-1958-4190-9e26-58f6f57bbdff"
      },
      "execution_count": 51,
      "outputs": [
        {
          "output_type": "stream",
          "name": "stdout",
          "text": [
            "0.1\n",
            "0.2\n",
            "0.30000000000000004\n",
            "0.4\n",
            "0.5\n",
            "0.6\n",
            "0.7\n",
            "0.7999999999999999\n",
            "0.8999999999999999\n",
            "0.9999999999999999\n",
            "1.0999999999999999\n",
            "1.2\n",
            "1.3\n",
            "1.4000000000000001\n",
            "1.5000000000000002\n",
            "1.6000000000000003\n",
            "1.7000000000000004\n",
            "1.8000000000000005\n",
            "1.9000000000000006\n",
            "2.0000000000000004\n"
          ]
        }
      ]
    },
    {
      "cell_type": "code",
      "source": [
        "(x_train,y_train),(x_test,y_test) = reuters.load_data(num_words=10000)"
      ],
      "metadata": {
        "id": "XaZQNxrNdP1o"
      },
      "execution_count": 52,
      "outputs": []
    },
    {
      "cell_type": "code",
      "source": [
        "x_train = vectorize_sequences(x_train)\n",
        "x_test = vectorize_sequences(x_test)"
      ],
      "metadata": {
        "id": "AAlaws-VdzRC"
      },
      "execution_count": 53,
      "outputs": []
    },
    {
      "cell_type": "code",
      "source": [
        "model = models.Sequential()\n",
        "model.add(layers.Dense(64,activation=\"relu\"))\n",
        "model.add(layers.Dense(64,activation=\"relu\"))\n",
        "model.add(layers.Dense(46,activation=\"softmax\"))\n",
        "model.compile(loss=keras.losses.sparse_categorical_crossentropy,\n",
        "              optimizer='rmsprop',\n",
        "              metrics=['accuracy'])\n",
        "hist = model.fit(x_train,y_train,\n",
        "                 epochs=9,\n",
        "                 batch_size=512)\n",
        "model.evaluate(x_test,y_test)"
      ],
      "metadata": {
        "colab": {
          "base_uri": "https://localhost:8080/"
        },
        "id": "to5n7_-Id1-c",
        "outputId": "293029e6-ca9b-4e3b-9a72-dc3b3336b8a2"
      },
      "execution_count": 56,
      "outputs": [
        {
          "output_type": "stream",
          "name": "stdout",
          "text": [
            "Epoch 1/9\n",
            "18/18 [==============================] - 2s 89ms/step - loss: 2.5428 - accuracy: 0.4535\n",
            "Epoch 2/9\n",
            "18/18 [==============================] - 1s 62ms/step - loss: 1.4561 - accuracy: 0.6866\n",
            "Epoch 3/9\n",
            "18/18 [==============================] - 1s 45ms/step - loss: 1.1165 - accuracy: 0.7540\n",
            "Epoch 4/9\n",
            "18/18 [==============================] - 1s 45ms/step - loss: 0.9038 - accuracy: 0.8051\n",
            "Epoch 5/9\n",
            "18/18 [==============================] - 1s 46ms/step - loss: 0.7372 - accuracy: 0.8440\n",
            "Epoch 6/9\n",
            "18/18 [==============================] - 1s 45ms/step - loss: 0.6124 - accuracy: 0.8749\n",
            "Epoch 7/9\n",
            "18/18 [==============================] - 1s 45ms/step - loss: 0.5069 - accuracy: 0.8956\n",
            "Epoch 8/9\n",
            "18/18 [==============================] - 1s 44ms/step - loss: 0.4245 - accuracy: 0.9086\n",
            "Epoch 9/9\n",
            "18/18 [==============================] - 1s 45ms/step - loss: 0.3614 - accuracy: 0.9217\n",
            "71/71 [==============================] - 0s 3ms/step - loss: 0.9038 - accuracy: 0.7956\n"
          ]
        },
        {
          "output_type": "execute_result",
          "data": {
            "text/plain": [
              "[0.9037559032440186, 0.7956367135047913]"
            ]
          },
          "metadata": {},
          "execution_count": 56
        }
      ]
    },
    {
      "cell_type": "code",
      "source": [],
      "metadata": {
        "id": "To8nVL1qd3qS"
      },
      "execution_count": null,
      "outputs": []
    }
  ]
}