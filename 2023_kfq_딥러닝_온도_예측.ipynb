{
  "nbformat": 4,
  "nbformat_minor": 0,
  "metadata": {
    "colab": {
      "provenance": [],
      "gpuType": "T4",
      "authorship_tag": "ABX9TyNHxhplYcaen4zaEulcHPmS",
      "include_colab_link": true
    },
    "kernelspec": {
      "name": "python3",
      "display_name": "Python 3"
    },
    "language_info": {
      "name": "python"
    },
    "accelerator": "GPU"
  },
  "cells": [
    {
      "cell_type": "markdown",
      "metadata": {
        "id": "view-in-github",
        "colab_type": "text"
      },
      "source": [
        "<a href=\"https://colab.research.google.com/github/ehpub/KFQ_DL_2023-/blob/main/2023_kfq_%EB%94%A5%EB%9F%AC%EB%8B%9D_%EC%98%A8%EB%8F%84_%EC%98%88%EC%B8%A1.ipynb\" target=\"_parent\"><img src=\"https://colab.research.google.com/assets/colab-badge.svg\" alt=\"Open In Colab\"/></a>"
      ]
    },
    {
      "cell_type": "markdown",
      "source": [
        "참고 교재: https://www.gilbut.co.kr/book/view?bookcode=BN003496"
      ],
      "metadata": {
        "id": "mVSyieylFSDh"
      }
    },
    {
      "cell_type": "code",
      "execution_count": 1,
      "metadata": {
        "colab": {
          "base_uri": "https://localhost:8080/"
        },
        "id": "Cj5gZQ_lFRen",
        "outputId": "e737d964-569b-4089-96df-f67cfe7c8f4f"
      },
      "outputs": [
        {
          "output_type": "stream",
          "name": "stdout",
          "text": [
            "--2023-07-24 07:18:40--  https://s3.amazonaws.com/keras-datasets/jena_climate_2009_2016.csv.zip\n",
            "Resolving s3.amazonaws.com (s3.amazonaws.com)... 52.217.236.152, 54.231.168.200, 52.217.224.8, ...\n",
            "Connecting to s3.amazonaws.com (s3.amazonaws.com)|52.217.236.152|:443... connected.\n",
            "HTTP request sent, awaiting response... 200 OK\n",
            "Length: 13565642 (13M) [application/zip]\n",
            "Saving to: ‘jena_climate_2009_2016.csv.zip’\n",
            "\n",
            "jena_climate_2009_2 100%[===================>]  12.94M  56.1MB/s    in 0.2s    \n",
            "\n",
            "2023-07-24 07:18:41 (56.1 MB/s) - ‘jena_climate_2009_2016.csv.zip’ saved [13565642/13565642]\n",
            "\n"
          ]
        }
      ],
      "source": [
        "!wget https://s3.amazonaws.com/keras-datasets/jena_climate_2009_2016.csv.zip"
      ]
    },
    {
      "cell_type": "code",
      "source": [
        "!unzip jena_climate_2009_2016.csv.zip"
      ],
      "metadata": {
        "colab": {
          "base_uri": "https://localhost:8080/"
        },
        "id": "bLKZZBmXVDep",
        "outputId": "587bc674-9287-41af-fa8e-5e483824a935"
      },
      "execution_count": 2,
      "outputs": [
        {
          "output_type": "stream",
          "name": "stdout",
          "text": [
            "Archive:  jena_climate_2009_2016.csv.zip\n",
            "  inflating: jena_climate_2009_2016.csv  \n",
            "  inflating: __MACOSX/._jena_climate_2009_2016.csv  \n"
          ]
        }
      ]
    },
    {
      "cell_type": "code",
      "source": [
        "import os"
      ],
      "metadata": {
        "id": "8LE5LlLRVb4j"
      },
      "execution_count": 3,
      "outputs": []
    },
    {
      "cell_type": "code",
      "source": [
        "fname = os.path.join('jena_climate_2009_2016.csv')\n",
        "f = open(fname)\n",
        "data = f.read()\n",
        "f.close()"
      ],
      "metadata": {
        "id": "dF1EQCXOWidh"
      },
      "execution_count": 4,
      "outputs": []
    },
    {
      "cell_type": "code",
      "source": [
        "lines = data.split('\\n')\n",
        "print(len(lines))"
      ],
      "metadata": {
        "colab": {
          "base_uri": "https://localhost:8080/"
        },
        "id": "Z6B0CFA7WvOi",
        "outputId": "a8eebe37-201c-4a05-cf90-e18adcb037b3"
      },
      "execution_count": 5,
      "outputs": [
        {
          "output_type": "stream",
          "name": "stdout",
          "text": [
            "420452\n"
          ]
        }
      ]
    },
    {
      "cell_type": "code",
      "source": [
        "header = lines[0].split(',')\n",
        "print(header)"
      ],
      "metadata": {
        "colab": {
          "base_uri": "https://localhost:8080/"
        },
        "id": "Q1FuoT7VW-cY",
        "outputId": "40df3d80-ded1-4441-f54b-f89cd761da34"
      },
      "execution_count": 6,
      "outputs": [
        {
          "output_type": "stream",
          "name": "stdout",
          "text": [
            "['\"Date Time\"', '\"p (mbar)\"', '\"T (degC)\"', '\"Tpot (K)\"', '\"Tdew (degC)\"', '\"rh (%)\"', '\"VPmax (mbar)\"', '\"VPact (mbar)\"', '\"VPdef (mbar)\"', '\"sh (g/kg)\"', '\"H2OC (mmol/mol)\"', '\"rho (g/m**3)\"', '\"wv (m/s)\"', '\"max. wv (m/s)\"', '\"wd (deg)\"']\n"
          ]
        }
      ]
    },
    {
      "cell_type": "code",
      "source": [
        "lines = lines[1:]"
      ],
      "metadata": {
        "id": "p-LA6EmDXMNt"
      },
      "execution_count": 7,
      "outputs": []
    },
    {
      "cell_type": "code",
      "source": [
        "print(len(lines))"
      ],
      "metadata": {
        "colab": {
          "base_uri": "https://localhost:8080/"
        },
        "id": "aFLsTtZmXXkm",
        "outputId": "eccd5a0c-4108-4b90-af22-daf056301d62"
      },
      "execution_count": 8,
      "outputs": [
        {
          "output_type": "stream",
          "name": "stdout",
          "text": [
            "420451\n"
          ]
        }
      ]
    },
    {
      "cell_type": "code",
      "source": [
        "import numpy as np"
      ],
      "metadata": {
        "id": "WFg3FtbQXa8W"
      },
      "execution_count": 9,
      "outputs": []
    },
    {
      "cell_type": "code",
      "source": [
        "temperature = np.zeros((len(lines),))\n",
        "temperature.shape"
      ],
      "metadata": {
        "colab": {
          "base_uri": "https://localhost:8080/"
        },
        "id": "p02NWhsIanwz",
        "outputId": "ffacdabf-119a-4920-e185-26e64158b2ff"
      },
      "execution_count": 10,
      "outputs": [
        {
          "output_type": "execute_result",
          "data": {
            "text/plain": [
              "(420451,)"
            ]
          },
          "metadata": {},
          "execution_count": 10
        }
      ]
    },
    {
      "cell_type": "code",
      "source": [
        "raw_data = np.zeros((len(lines),len(header)-1))\n",
        "raw_data.shape"
      ],
      "metadata": {
        "colab": {
          "base_uri": "https://localhost:8080/"
        },
        "id": "2UPca9f9ap9-",
        "outputId": "daec048e-b5df-4057-8553-607d1b3e435b"
      },
      "execution_count": 11,
      "outputs": [
        {
          "output_type": "execute_result",
          "data": {
            "text/plain": [
              "(420451, 14)"
            ]
          },
          "metadata": {},
          "execution_count": 11
        }
      ]
    },
    {
      "cell_type": "code",
      "source": [
        "for i, line in enumerate(lines):\n",
        "  values = [float(x) for x in line.split(',')[1:]]\n",
        "  temperature[i] = values[1]\n",
        "  raw_data[i,:] = values[:]"
      ],
      "metadata": {
        "id": "Ph5-WYMcbI19"
      },
      "execution_count": 12,
      "outputs": []
    },
    {
      "cell_type": "code",
      "source": [
        "import matplotlib.pyplot as plt"
      ],
      "metadata": {
        "id": "nzcNZ5w9cLap"
      },
      "execution_count": 13,
      "outputs": []
    },
    {
      "cell_type": "code",
      "source": [
        "plt.plot(temperature)\n",
        "plt.show()"
      ],
      "metadata": {
        "colab": {
          "base_uri": "https://localhost:8080/",
          "height": 434
        },
        "id": "knPuEU31cbNP",
        "outputId": "cc5cf318-aa0b-4503-da2f-8e1dded2d6a9"
      },
      "execution_count": 14,
      "outputs": [
        {
          "output_type": "display_data",
          "data": {
            "text/plain": [
              "<Figure size 640x480 with 1 Axes>"
            ],
            "image/png": "[encoded data removed]"
          },
          "metadata": {}
        }
      ]
    },
    {
      "cell_type": "code",
      "source": [
        "plt.plot(temperature[:1440])\n",
        "plt.show()"
      ],
      "metadata": {
        "colab": {
          "base_uri": "https://localhost:8080/",
          "height": 430
        },
        "id": "xag5lCzJcgTP",
        "outputId": "1e04343b-0de8-4281-fbf2-3ee2450315e7"
      },
      "execution_count": 15,
      "outputs": [
        {
          "output_type": "display_data",
          "data": {
            "text/plain": [
              "<Figure size 640x480 with 1 Axes>"
            ],
            "image/png": "[encoded data removed]"
          },
          "metadata": {}
        }
      ]
    },
    {
      "cell_type": "code",
      "source": [
        "num_train_samples = int(0.5 * len(raw_data))\n",
        "num_val_samples = int(0.25 * len(raw_data))\n",
        "num_test_samples = len(raw_data) - num_train_samples -num_val_samples\n",
        "num_train_samples, num_val_samples, num_test_samples"
      ],
      "metadata": {
        "colab": {
          "base_uri": "https://localhost:8080/"
        },
        "id": "kf9cGp5udYKm",
        "outputId": "a0116a19-fa28-441c-e0be-2ad4f28f586c"
      },
      "execution_count": 16,
      "outputs": [
        {
          "output_type": "execute_result",
          "data": {
            "text/plain": [
              "(210225, 105112, 105114)"
            ]
          },
          "metadata": {},
          "execution_count": 16
        }
      ]
    },
    {
      "cell_type": "code",
      "source": [
        "mean = raw_data[:num_train_samples].mean(axis=0)\n",
        "raw_data -= mean #평균을 0으로 수평 이동\n",
        "std = raw_data[:num_train_samples].std(axis=0)\n",
        "raw_data /= std #z-score로 변환"
      ],
      "metadata": {
        "id": "tfoJfdDrelcp"
      },
      "execution_count": 17,
      "outputs": []
    },
    {
      "cell_type": "code",
      "source": [
        "plt.hist(raw_data[:,1],bins=[-10,-3.5,-3,3,3.5,10])\n",
        "plt.show()"
      ],
      "metadata": {
        "colab": {
          "base_uri": "https://localhost:8080/",
          "height": 430
        },
        "id": "3luUoZHlfPlE",
        "outputId": "86d787a1-1f4e-4c3e-b9af-7ec5fbbd014b"
      },
      "execution_count": 18,
      "outputs": [
        {
          "output_type": "display_data",
          "data": {
            "text/plain": [
              "<Figure size 640x480 with 1 Axes>"
            ],
            "image/png": "[encoded data removed]"
          },
          "metadata": {}
        }
      ]
    },
    {
      "cell_type": "code",
      "source": [
        "raw_data[:,1].max(), raw_data[:,1].min()"
      ],
      "metadata": {
        "colab": {
          "base_uri": "https://localhost:8080/"
        },
        "id": "cuC3Ngo9fag7",
        "outputId": "1e97e700-195b-4da4-ee83-177fa1e6b0e8"
      },
      "execution_count": 19,
      "outputs": [
        {
          "output_type": "execute_result",
          "data": {
            "text/plain": [
              "(3.244116962984897, -3.62968450468683)"
            ]
          },
          "metadata": {},
          "execution_count": 19
        }
      ]
    },
    {
      "cell_type": "code",
      "source": [
        "import numpy as np\n",
        "from tensorflow import keras"
      ],
      "metadata": {
        "id": "6Zq7oYz8gcWl"
      },
      "execution_count": 20,
      "outputs": []
    },
    {
      "cell_type": "code",
      "source": [
        "int_sequence = np.arange(10)\n",
        "int_sequence"
      ],
      "metadata": {
        "colab": {
          "base_uri": "https://localhost:8080/"
        },
        "id": "eZ3pbousiAax",
        "outputId": "73637fb2-e02a-4898-e091-3f1d20d7441d"
      },
      "execution_count": 21,
      "outputs": [
        {
          "output_type": "execute_result",
          "data": {
            "text/plain": [
              "array([0, 1, 2, 3, 4, 5, 6, 7, 8, 9])"
            ]
          },
          "metadata": {},
          "execution_count": 21
        }
      ]
    },
    {
      "cell_type": "code",
      "source": [
        "period = 3\n",
        "dummy_dataset = keras.utils.timeseries_dataset_from_array(\n",
        "    data = int_sequence,\n",
        "    targets = int_sequence[period*2:],\n",
        "    sequence_length=period,\n",
        "    sampling_rate=2\n",
        ")\n",
        "for inputs,target in dummy_dataset:\n",
        "  print(inputs.shape, target.shape)"
      ],
      "metadata": {
        "colab": {
          "base_uri": "https://localhost:8080/"
        },
        "id": "qnv9FinJiS8-",
        "outputId": "cd399dd3-cbfb-476f-f728-923124601bb4"
      },
      "execution_count": 22,
      "outputs": [
        {
          "output_type": "stream",
          "name": "stdout",
          "text": [
            "(4, 3) (4,)\n"
          ]
        }
      ]
    },
    {
      "cell_type": "code",
      "source": [
        "inputs"
      ],
      "metadata": {
        "colab": {
          "base_uri": "https://localhost:8080/"
        },
        "id": "F51vu4iDit7t",
        "outputId": "f71d2c90-99b2-4c60-9892-ace15df2584c"
      },
      "execution_count": 23,
      "outputs": [
        {
          "output_type": "execute_result",
          "data": {
            "text/plain": [
              "<tf.Tensor: shape=(4, 3), dtype=int64, numpy=\n",
              "array([[0, 2, 4],\n",
              "       [1, 3, 5],\n",
              "       [2, 4, 6],\n",
              "       [3, 5, 7]])>"
            ]
          },
          "metadata": {},
          "execution_count": 23
        }
      ]
    },
    {
      "cell_type": "code",
      "source": [
        "target"
      ],
      "metadata": {
        "colab": {
          "base_uri": "https://localhost:8080/"
        },
        "id": "2uC1A2rJjIvT",
        "outputId": "fa7ccb9b-ae4b-444a-d70a-dbc3de3347c4"
      },
      "execution_count": 24,
      "outputs": [
        {
          "output_type": "execute_result",
          "data": {
            "text/plain": [
              "<tf.Tensor: shape=(4,), dtype=int64, numpy=array([6, 7, 8, 9])>"
            ]
          },
          "metadata": {},
          "execution_count": 24
        }
      ]
    },
    {
      "cell_type": "code",
      "source": [
        "sampling_rate = 6\n",
        "sequence_length = 120 #주기"
      ],
      "metadata": {
        "id": "AeT-6onokcVc"
      },
      "execution_count": 25,
      "outputs": []
    },
    {
      "cell_type": "code",
      "source": [
        "train_dataset = keras.utils.timeseries_dataset_from_array(\n",
        "    raw_data,\n",
        "    targets = temperature[sampling_rate*sequence_length+144:],\n",
        "    sequence_length=sequence_length,\n",
        "    sampling_rate=sampling_rate,\n",
        "    start_index = 0,\n",
        "    end_index = num_train_samples,\n",
        "    shuffle=True\n",
        ")\n",
        "val_dataset = keras.utils.timeseries_dataset_from_array(\n",
        "    raw_data,\n",
        "    targets = temperature[sampling_rate*sequence_length+144:],\n",
        "    sequence_length=sequence_length,\n",
        "    sampling_rate=sampling_rate,\n",
        "    start_index = num_train_samples,\n",
        "    end_index = num_train_samples +num_val_samples,\n",
        "    shuffle=True\n",
        ")\n",
        "test_dataset = keras.utils.timeseries_dataset_from_array(\n",
        "    raw_data[:-145],\n",
        "    targets = temperature[sampling_rate*sequence_length+144:],\n",
        "    sequence_length=sequence_length,\n",
        "    sampling_rate=sampling_rate,\n",
        "    start_index = num_train_samples +num_val_samples,\n",
        "    shuffle=True\n",
        ")"
      ],
      "metadata": {
        "id": "At1I2XBLmSfR"
      },
      "execution_count": 26,
      "outputs": []
    },
    {
      "cell_type": "code",
      "source": [
        "def evaluate_native_method(dataset):\n",
        "  total_abs_err = 0.\n",
        "  samples_seen = 0\n",
        "  for samples,targets in dataset:\n",
        "    try:\n",
        "      preds = samples[:,-1,1]*std[1]+mean[1] #zscore를 온도로 변환\n",
        "      total_abs_err += np.sum(np.abs(preds - targets))\n",
        "      samples_seen += samples.shape[0]\n",
        "    except:\n",
        "      print('um')\n",
        "      break\n",
        "  return total_abs_err/samples_seen"
      ],
      "metadata": {
        "id": "mCbU2BjrrkAy"
      },
      "execution_count": 71,
      "outputs": []
    },
    {
      "cell_type": "code",
      "source": [
        "print(evaluate_native_method(val_dataset))"
      ],
      "metadata": {
        "colab": {
          "base_uri": "https://localhost:8080/"
        },
        "id": "RaRoeQJLuV_y",
        "outputId": "d2b1df67-67fe-4b4d-c2db-22f066295702"
      },
      "execution_count": 72,
      "outputs": [
        {
          "output_type": "stream",
          "name": "stdout",
          "text": [
            "2.550047129596812\n"
          ]
        }
      ]
    },
    {
      "cell_type": "code",
      "source": [
        "print(evaluate_native_method(test_dataset))"
      ],
      "metadata": {
        "colab": {
          "base_uri": "https://localhost:8080/"
        },
        "id": "g9cT4Orj3ozU",
        "outputId": "0215125c-9cd6-4096-b008-fa47d16042fc"
      },
      "execution_count": 73,
      "outputs": [
        {
          "output_type": "stream",
          "name": "stdout",
          "text": [
            "2.736100239808155\n"
          ]
        }
      ]
    },
    {
      "cell_type": "code",
      "source": [
        "import tensorflow as tf\n",
        "from tensorflow import keras\n",
        "from keras import layers"
      ],
      "metadata": {
        "id": "P-fk_2SEw1FA"
      },
      "execution_count": 27,
      "outputs": []
    },
    {
      "cell_type": "code",
      "source": [
        "raw_data.shape[-1]"
      ],
      "metadata": {
        "colab": {
          "base_uri": "https://localhost:8080/"
        },
        "id": "mQizmzWj7B8C",
        "outputId": "e6d2c335-6104-4d8d-daec-57c868419379"
      },
      "execution_count": 77,
      "outputs": [
        {
          "output_type": "execute_result",
          "data": {
            "text/plain": [
              "14"
            ]
          },
          "metadata": {},
          "execution_count": 77
        }
      ]
    },
    {
      "cell_type": "code",
      "source": [
        "for x,y in test_dataset:\n",
        "  break\n",
        "x.shape"
      ],
      "metadata": {
        "colab": {
          "base_uri": "https://localhost:8080/"
        },
        "id": "9BjQI48y60Bq",
        "outputId": "5faeacf3-f2d3-4ffb-ca77-9e67bf2d218e"
      },
      "execution_count": 75,
      "outputs": [
        {
          "output_type": "execute_result",
          "data": {
            "text/plain": [
              "TensorShape([128, 120, 14])"
            ]
          },
          "metadata": {},
          "execution_count": 75
        }
      ]
    },
    {
      "cell_type": "code",
      "source": [
        "inputs = keras.Input(shape=(sequence_length,raw_data.shape[-1]))\n",
        "x = layers.Flatten()(inputs)\n",
        "x = layers.Dense(16,activation='relu')(x)\n",
        "outputs = layers.Dense(1)(x)\n",
        "model = keras.Model(inputs,outputs)"
      ],
      "metadata": {
        "id": "6rARXH_W1kDk"
      },
      "execution_count": 29,
      "outputs": []
    },
    {
      "cell_type": "code",
      "source": [
        "mcp= keras.callbacks.ModelCheckpoint('jena_dense.keras',\n",
        "                                      save_best_only=True)"
      ],
      "metadata": {
        "id": "fS0zfOQH7oMl"
      },
      "execution_count": 30,
      "outputs": []
    },
    {
      "cell_type": "code",
      "source": [
        "model.compile(loss='mse',metrics=['mae'])\n",
        "model.summary()"
      ],
      "metadata": {
        "colab": {
          "base_uri": "https://localhost:8080/"
        },
        "id": "ISxzp2o77z1E",
        "outputId": "6da1299d-3633-4e49-f3fb-80b3f989a986"
      },
      "execution_count": 31,
      "outputs": [
        {
          "output_type": "stream",
          "name": "stdout",
          "text": [
            "Model: \"model\"\n",
            "_________________________________________________________________\n",
            " Layer (type)                Output Shape              Param #   \n",
            "=================================================================\n",
            " input_1 (InputLayer)        [(None, 120, 14)]         0         \n",
            "                                                                 \n",
            " flatten (Flatten)           (None, 1680)              0         \n",
            "                                                                 \n",
            " dense (Dense)               (None, 16)                26896     \n",
            "                                                                 \n",
            " dense_1 (Dense)             (None, 1)                 17        \n",
            "                                                                 \n",
            "=================================================================\n",
            "Total params: 26,913\n",
            "Trainable params: 26,913\n",
            "Non-trainable params: 0\n",
            "_________________________________________________________________\n"
          ]
        }
      ]
    },
    {
      "cell_type": "code",
      "source": [
        "hist = model.fit(train_dataset,epochs=10,\n",
        "                 validation_data = val_dataset,\n",
        "                 callbacks=[mcp])"
      ],
      "metadata": {
        "colab": {
          "base_uri": "https://localhost:8080/"
        },
        "id": "0mL-TKCG8Bj6",
        "outputId": "d370d8b9-c9b3-4ad8-8527-39be1ee39f76"
      },
      "execution_count": 32,
      "outputs": [
        {
          "output_type": "stream",
          "name": "stdout",
          "text": [
            "Epoch 1/10\n",
            "1637/1637 [==============================] - 47s 27ms/step - loss: 11.5438 - mae: 2.6393 - val_loss: 12.1538 - val_mae: 2.7570\n",
            "Epoch 2/10\n",
            "1637/1637 [==============================] - 45s 27ms/step - loss: 8.6111 - mae: 2.3098 - val_loss: 12.6057 - val_mae: 2.8187\n",
            "Epoch 3/10\n",
            "1637/1637 [==============================] - 42s 26ms/step - loss: 7.9385 - mae: 2.2173 - val_loss: 11.0318 - val_mae: 2.6239\n",
            "Epoch 4/10\n",
            "1637/1637 [==============================] - 42s 25ms/step - loss: 7.5231 - mae: 2.1617 - val_loss: 12.1994 - val_mae: 2.7635\n",
            "Epoch 5/10\n",
            "1637/1637 [==============================] - 42s 26ms/step - loss: 7.2205 - mae: 2.1170 - val_loss: 11.5427 - val_mae: 2.6808\n",
            "Epoch 6/10\n",
            "1637/1637 [==============================] - 62s 38ms/step - loss: 7.0203 - mae: 2.0876 - val_loss: 11.6022 - val_mae: 2.6959\n",
            "Epoch 7/10\n",
            "1637/1637 [==============================] - 42s 25ms/step - loss: 6.8659 - mae: 2.0644 - val_loss: 11.0042 - val_mae: 2.6393\n",
            "Epoch 8/10\n",
            "1637/1637 [==============================] - 44s 27ms/step - loss: 6.7281 - mae: 2.0432 - val_loss: 11.4998 - val_mae: 2.6801\n",
            "Epoch 9/10\n",
            "1637/1637 [==============================] - 51s 31ms/step - loss: 6.6086 - mae: 2.0265 - val_loss: 11.9178 - val_mae: 2.7512\n",
            "Epoch 10/10\n",
            "1637/1637 [==============================] - 51s 31ms/step - loss: 6.5272 - mae: 2.0118 - val_loss: 11.5314 - val_mae: 2.7035\n"
          ]
        }
      ]
    },
    {
      "cell_type": "code",
      "source": [
        "model = keras.models.load_model('jena_dense.keras')\n",
        "model.evaluate(test_dataset)"
      ],
      "metadata": {
        "colab": {
          "base_uri": "https://localhost:8080/"
        },
        "id": "goM39aWb8YXP",
        "outputId": "2d4743c9-cf9e-4325-d3e5-72f5c695afc3"
      },
      "execution_count": 27,
      "outputs": [
        {
          "output_type": "stream",
          "name": "stdout",
          "text": [
            "815/815 [==============================] - 18s 17ms/step - loss: 12.0085 - mae: 2.7280\n"
          ]
        },
        {
          "output_type": "execute_result",
          "data": {
            "text/plain": [
              "[12.008506774902344, 2.7280004024505615]"
            ]
          },
          "metadata": {},
          "execution_count": 27
        }
      ]
    },
    {
      "cell_type": "code",
      "source": [
        "plt.plot(hist.history['loss'])\n",
        "plt.plot(hist.history['val_loss'])\n",
        "plt.show()"
      ],
      "metadata": {
        "colab": {
          "base_uri": "https://localhost:8080/",
          "height": 430
        },
        "id": "wjaph2ZUSGuU",
        "outputId": "39471c02-e34c-4310-b13d-74b8ff3af40c"
      },
      "execution_count": 34,
      "outputs": [
        {
          "output_type": "display_data",
          "data": {
            "text/plain": [
              "<Figure size 640x480 with 1 Axes>"
            ],
            "image/png": "[encoded data removed]"
          },
          "metadata": {}
        }
      ]
    },
    {
      "cell_type": "code",
      "source": [
        "plt.plot(hist.history['mae'])\n",
        "plt.plot(hist.history['val_mae'])\n",
        "plt.show()"
      ],
      "metadata": {
        "colab": {
          "base_uri": "https://localhost:8080/",
          "height": 430
        },
        "id": "-TckM0VwUL7s",
        "outputId": "ccfa9398-714c-4fa2-8638-768b051bc3d5"
      },
      "execution_count": 35,
      "outputs": [
        {
          "output_type": "display_data",
          "data": {
            "text/plain": [
              "<Figure size 640x480 with 1 Axes>"
            ],
            "image/png": "[encoded data removed]"
          },
          "metadata": {}
        }
      ]
    },
    {
      "cell_type": "markdown",
      "source": [
        "## 컨브넷으로 시도"
      ],
      "metadata": {
        "id": "7B4rBEqxWA4T"
      }
    },
    {
      "cell_type": "code",
      "source": [
        "inputs = keras.Input(shape=(sequence_length,raw_data.shape[-1]))\n",
        "x = layers.Conv1D(8,24,activation='relu')(inputs)\n",
        "x = layers.MaxPooling1D(2)(x)\n",
        "x = layers.Conv1D(8,12,activation='relu')(x)\n",
        "x = layers.MaxPooling1D(2)(x)\n",
        "x = layers.Conv1D(8,6,activation='relu')(x)\n",
        "x = layers.GlobalAveragePooling1D()(x)\n",
        "outputs = layers.Dense(1)(x)\n",
        "model = keras.Model(inputs,outputs)"
      ],
      "metadata": {
        "id": "HrvNTExPVEZB"
      },
      "execution_count": 36,
      "outputs": []
    },
    {
      "cell_type": "code",
      "source": [
        "mcp = keras.callbacks.ModelCheckpoint('jena_conv.keras',\n",
        "                                      save_best_only=True)\n",
        "model.compile(loss='mse',metrics=['mae'])\n",
        "model.summary()"
      ],
      "metadata": {
        "colab": {
          "base_uri": "https://localhost:8080/"
        },
        "id": "1HX8Yo5oXELN",
        "outputId": "da1485b0-172c-426e-b2a4-fe0c78645313"
      },
      "execution_count": 37,
      "outputs": [
        {
          "output_type": "stream",
          "name": "stdout",
          "text": [
            "Model: \"model_1\"\n",
            "_________________________________________________________________\n",
            " Layer (type)                Output Shape              Param #   \n",
            "=================================================================\n",
            " input_2 (InputLayer)        [(None, 120, 14)]         0         \n",
            "                                                                 \n",
            " conv1d (Conv1D)             (None, 97, 8)             2696      \n",
            "                                                                 \n",
            " max_pooling1d (MaxPooling1D  (None, 48, 8)            0         \n",
            " )                                                               \n",
            "                                                                 \n",
            " conv1d_1 (Conv1D)           (None, 37, 8)             776       \n",
            "                                                                 \n",
            " max_pooling1d_1 (MaxPooling  (None, 18, 8)            0         \n",
            " 1D)                                                             \n",
            "                                                                 \n",
            " conv1d_2 (Conv1D)           (None, 13, 8)             392       \n",
            "                                                                 \n",
            " global_average_pooling1d (G  (None, 8)                0         \n",
            " lobalAveragePooling1D)                                          \n",
            "                                                                 \n",
            " dense_2 (Dense)             (None, 1)                 9         \n",
            "                                                                 \n",
            "=================================================================\n",
            "Total params: 3,873\n",
            "Trainable params: 3,873\n",
            "Non-trainable params: 0\n",
            "_________________________________________________________________\n"
          ]
        }
      ]
    },
    {
      "cell_type": "code",
      "source": [
        "hist = model.fit(train_dataset,\n",
        "                 epochs=10,\n",
        "                 validation_data=val_dataset,\n",
        "                 callbacks=[mcp])"
      ],
      "metadata": {
        "colab": {
          "base_uri": "https://localhost:8080/"
        },
        "id": "faKsaejtXiRc",
        "outputId": "9ea4215a-1094-42b1-c632-b3a52e3124f4"
      },
      "execution_count": 38,
      "outputs": [
        {
          "output_type": "stream",
          "name": "stdout",
          "text": [
            "Epoch 1/10\n",
            "1637/1637 [==============================] - 52s 27ms/step - loss: 19.0288 - mae: 3.4261 - val_loss: 16.1172 - val_mae: 3.2005\n",
            "Epoch 2/10\n",
            "1637/1637 [==============================] - 50s 31ms/step - loss: 13.8264 - mae: 2.9493 - val_loss: 17.3223 - val_mae: 3.2810\n",
            "Epoch 3/10\n",
            "1637/1637 [==============================] - 46s 28ms/step - loss: 12.6262 - mae: 2.8096 - val_loss: 18.0997 - val_mae: 3.3544\n",
            "Epoch 4/10\n",
            "1637/1637 [==============================] - 52s 32ms/step - loss: 11.8795 - mae: 2.7238 - val_loss: 16.7433 - val_mae: 3.2201\n",
            "Epoch 5/10\n",
            "1637/1637 [==============================] - 52s 32ms/step - loss: 11.3104 - mae: 2.6590 - val_loss: 23.1395 - val_mae: 3.8268\n",
            "Epoch 6/10\n",
            "1637/1637 [==============================] - 53s 33ms/step - loss: 10.8473 - mae: 2.6057 - val_loss: 16.2987 - val_mae: 3.1879\n",
            "Epoch 7/10\n",
            "1637/1637 [==============================] - 45s 27ms/step - loss: 10.4389 - mae: 2.5586 - val_loss: 16.1669 - val_mae: 3.1620\n",
            "Epoch 8/10\n",
            "1637/1637 [==============================] - 44s 27ms/step - loss: 10.0940 - mae: 2.5132 - val_loss: 17.4658 - val_mae: 3.2611\n",
            "Epoch 9/10\n",
            "1637/1637 [==============================] - 45s 27ms/step - loss: 9.7589 - mae: 2.4698 - val_loss: 16.7231 - val_mae: 3.2187\n",
            "Epoch 10/10\n",
            "1637/1637 [==============================] - 52s 32ms/step - loss: 9.4900 - mae: 2.4344 - val_loss: 16.2988 - val_mae: 3.1739\n"
          ]
        }
      ]
    },
    {
      "cell_type": "code",
      "source": [
        "model = keras.models.load_model('jena_conv.keras')\n",
        "model.evaluate(test_dataset)"
      ],
      "metadata": {
        "colab": {
          "base_uri": "https://localhost:8080/"
        },
        "id": "Y1hB11SWX_yN",
        "outputId": "ddfdde6a-ecb4-4222-ae67-1d39eb3fd827"
      },
      "execution_count": 39,
      "outputs": [
        {
          "output_type": "stream",
          "name": "stdout",
          "text": [
            "815/815 [==============================] - 16s 19ms/step - loss: 17.1634 - mae: 3.3061\n"
          ]
        },
        {
          "output_type": "execute_result",
          "data": {
            "text/plain": [
              "[17.163406372070312, 3.3061375617980957]"
            ]
          },
          "metadata": {},
          "execution_count": 39
        }
      ]
    },
    {
      "cell_type": "code",
      "source": [
        "plt.plot(hist.history['loss'])\n",
        "plt.plot(hist.history['val_loss'])\n",
        "plt.show()"
      ],
      "metadata": {
        "colab": {
          "base_uri": "https://localhost:8080/",
          "height": 430
        },
        "id": "c-VaMJuxYVuc",
        "outputId": "d8382594-ff3b-4353-b955-08015641e523"
      },
      "execution_count": 40,
      "outputs": [
        {
          "output_type": "display_data",
          "data": {
            "text/plain": [
              "<Figure size 640x480 with 1 Axes>"
            ],
            "image/png": "[encoded data removed]"
          },
          "metadata": {}
        }
      ]
    },
    {
      "cell_type": "code",
      "source": [
        "plt.plot(hist.history['mae'])\n",
        "plt.plot(hist.history['val_mae'])\n",
        "plt.show()"
      ],
      "metadata": {
        "colab": {
          "base_uri": "https://localhost:8080/",
          "height": 430
        },
        "id": "M9twwtWvYYFr",
        "outputId": "86fc5273-1b91-4aff-f6ce-1026f5a543f4"
      },
      "execution_count": 41,
      "outputs": [
        {
          "output_type": "display_data",
          "data": {
            "text/plain": [
              "<Figure size 640x480 with 1 Axes>"
            ],
            "image/png": "[encoded data removed]"
          },
          "metadata": {}
        }
      ]
    },
    {
      "cell_type": "code",
      "source": [
        "inputs = keras.Input(shape=(sequence_length,raw_data.shape[-1]))\n",
        "x = layers.LSTM(16)(inputs)\n",
        "outputs = layers.Dense(1)(x)\n",
        "model = keras.Model(inputs,outputs)\n",
        "mcp = keras.callbacks.ModelCheckpoint('jena_lstm.keras',\n",
        "                                      save_best_only=True)\n",
        "model.compile(loss='mse',metrics=['mae'])\n",
        "model.summary()\n",
        "hist = model.fit(train_dataset,\n",
        "                 epochs=10,\n",
        "                 validation_data=val_dataset,\n",
        "                 callbacks=[mcp])\n",
        "model = keras.models.load_model('jena_lstm.keras')\n",
        "model.evaluate(test_dataset)\n",
        "plt.plot(hist.history['loss'])\n",
        "plt.plot(hist.history['val_loss'])\n",
        "plt.show()\n",
        "plt.plot(hist.history['mae'])\n",
        "plt.plot(hist.history['val_mae'])\n",
        "plt.show()"
      ],
      "metadata": {
        "colab": {
          "base_uri": "https://localhost:8080/",
          "height": 1000
        },
        "id": "O5lg5DxxauFx",
        "outputId": "c2645fc2-d6e1-44e8-adb0-0d32a0ef21e0"
      },
      "execution_count": 43,
      "outputs": [
        {
          "output_type": "stream",
          "name": "stdout",
          "text": [
            "Model: \"model_2\"\n",
            "_________________________________________________________________\n",
            " Layer (type)                Output Shape              Param #   \n",
            "=================================================================\n",
            " input_4 (InputLayer)        [(None, 120, 14)]         0         \n",
            "                                                                 \n",
            " lstm_1 (LSTM)               (None, 16)                1984      \n",
            "                                                                 \n",
            " dense_4 (Dense)             (None, 1)                 17        \n",
            "                                                                 \n",
            "=================================================================\n",
            "Total params: 2,001\n",
            "Trainable params: 2,001\n",
            "Non-trainable params: 0\n",
            "_________________________________________________________________\n",
            "Epoch 1/10\n",
            "1637/1637 [==============================] - 53s 31ms/step - loss: 29.2574 - mae: 3.8671 - val_loss: 10.4360 - val_mae: 2.5291\n",
            "Epoch 2/10\n",
            "1637/1637 [==============================] - 49s 30ms/step - loss: 10.4766 - mae: 2.5302 - val_loss: 10.5466 - val_mae: 2.5297\n",
            "Epoch 3/10\n",
            "1637/1637 [==============================] - 53s 32ms/step - loss: 9.9114 - mae: 2.4582 - val_loss: 11.0195 - val_mae: 2.5741\n",
            "Epoch 4/10\n",
            "1637/1637 [==============================] - 50s 30ms/step - loss: 9.5413 - mae: 2.4056 - val_loss: 10.4058 - val_mae: 2.5183\n",
            "Epoch 5/10\n",
            "1637/1637 [==============================] - 56s 34ms/step - loss: 9.1825 - mae: 2.3557 - val_loss: 10.6812 - val_mae: 2.5376\n",
            "Epoch 6/10\n",
            "1637/1637 [==============================] - 57s 35ms/step - loss: 8.8924 - mae: 2.3185 - val_loss: 10.9328 - val_mae: 2.5637\n",
            "Epoch 7/10\n",
            "1637/1637 [==============================] - 56s 34ms/step - loss: 8.6306 - mae: 2.2872 - val_loss: 10.9377 - val_mae: 2.5656\n",
            "Epoch 8/10\n",
            "1637/1637 [==============================] - 56s 34ms/step - loss: 8.4094 - mae: 2.2560 - val_loss: 10.8834 - val_mae: 2.5533\n",
            "Epoch 9/10\n",
            "1637/1637 [==============================] - 51s 31ms/step - loss: 8.2329 - mae: 2.2314 - val_loss: 10.6065 - val_mae: 2.5316\n",
            "Epoch 10/10\n",
            "1637/1637 [==============================] - 49s 30ms/step - loss: 8.0716 - mae: 2.2104 - val_loss: 10.7256 - val_mae: 2.5538\n",
            "815/815 [==============================] - 15s 18ms/step - loss: 11.5246 - mae: 2.6733\n"
          ]
        },
        {
          "output_type": "display_data",
          "data": {
            "text/plain": [
              "<Figure size 640x480 with 1 Axes>"
            ],
            "image/png": "[encoded data removed]"
          },
          "metadata": {}
        },
        {
          "output_type": "display_data",
          "data": {
            "text/plain": [
              "<Figure size 640x480 with 1 Axes>"
            ],
            "image/png": "[encoded data removed]"
          },
          "metadata": {}
        }
      ]
    },
    {
      "cell_type": "code",
      "source": [
        "model = keras.models.load_model('jena_lstm.keras')\n",
        "model.evaluate(test_dataset)"
      ],
      "metadata": {
        "colab": {
          "base_uri": "https://localhost:8080/"
        },
        "id": "Pe7CqkXkcJb1",
        "outputId": "2aac77f5-f8c5-4e30-c097-ad68f74f3f8d"
      },
      "execution_count": 44,
      "outputs": [
        {
          "output_type": "stream",
          "name": "stdout",
          "text": [
            "815/815 [==============================] - 16s 20ms/step - loss: 11.5246 - mae: 2.6733\n"
          ]
        },
        {
          "output_type": "execute_result",
          "data": {
            "text/plain": [
              "[11.524649620056152, 2.6733438968658447]"
            ]
          },
          "metadata": {},
          "execution_count": 44
        }
      ]
    },
    {
      "cell_type": "code",
      "source": [
        "import numpy as np"
      ],
      "metadata": {
        "id": "bhz6bunCfPq-"
      },
      "execution_count": 45,
      "outputs": []
    },
    {
      "cell_type": "code",
      "source": [
        "timesteps = 100\n",
        "input_features = 32\n",
        "output_features = 64\n",
        "inputs = np.random.random((timesteps,input_features))\n",
        "\n",
        "state_t = np.zeros((output_features,))\n",
        "\n",
        "W = np.random.random((output_features,input_features))\n",
        "U = np.random.random((output_features,output_features))\n",
        "b = np.random.random((output_features))\n",
        "\n",
        "successive_outputs = []\n",
        "for input_t in inputs:\n",
        "  output_t = np.tanh(np.dot(W,input_t) + np.dot(U,state_t)+b)\n",
        "  successive_outputs.append(output_t)\n",
        "  state_t = output_t\n",
        "final_output_sequence = np.stack(successive_outputs,axis=0)\n",
        "final_output_sequence.shape"
      ],
      "metadata": {
        "colab": {
          "base_uri": "https://localhost:8080/"
        },
        "id": "T49Mj4PIiAHg",
        "outputId": "1be421fb-5c77-4a85-cba2-629667471966"
      },
      "execution_count": 49,
      "outputs": [
        {
          "output_type": "execute_result",
          "data": {
            "text/plain": [
              "(100, 64)"
            ]
          },
          "metadata": {},
          "execution_count": 49
        }
      ]
    },
    {
      "cell_type": "code",
      "source": [
        "num_features = 14\n",
        "inputs = keras.Input(shape=(None,num_features))\n",
        "outputs = layers.SimpleRNN(16)(inputs)"
      ],
      "metadata": {
        "id": "_LbG5Ylkj3cc"
      },
      "execution_count": 50,
      "outputs": []
    },
    {
      "cell_type": "code",
      "source": [
        "num_features = 14\n",
        "steps = 120\n",
        "inputs = keras.Input(shape=(steps,num_features))\n",
        "outputs = layers.SimpleRNN(16,return_sequences=True)(inputs)\n",
        "print(outputs.shape)"
      ],
      "metadata": {
        "colab": {
          "base_uri": "https://localhost:8080/"
        },
        "id": "BvKdXk2BlCxi",
        "outputId": "d1388458-e760-43b7-f9b1-b4f9a8a941e0"
      },
      "execution_count": 51,
      "outputs": [
        {
          "output_type": "stream",
          "name": "stdout",
          "text": [
            "(None, 120, 16)\n"
          ]
        }
      ]
    },
    {
      "cell_type": "code",
      "source": [
        "inputs = keras.Input(shape=(steps,num_features))\n",
        "x = layers.SimpleRNN(16,return_sequences=True)(inputs)\n",
        "x = layers.SimpleRNN(16,return_sequences=True)(x)\n",
        "outputs = layers.SimpleRNN(16)(x)\n",
        "print(outputs.shape)"
      ],
      "metadata": {
        "colab": {
          "base_uri": "https://localhost:8080/"
        },
        "id": "RIaF_v2zl9hr",
        "outputId": "23195534-9644-4ef4-ad00-2a91a4179620"
      },
      "execution_count": 52,
      "outputs": [
        {
          "output_type": "stream",
          "name": "stdout",
          "text": [
            "(None, 16)\n"
          ]
        }
      ]
    },
    {
      "cell_type": "markdown",
      "source": [
        "## 순환 드랍아웃 사용하기"
      ],
      "metadata": {
        "id": "YBMEPwFbt2aV"
      }
    },
    {
      "cell_type": "code",
      "source": [
        "inputs = keras.Input(shape=(sequence_length,raw_data.shape[-1]))\n",
        "x = layers.LSTM(32,recurrent_dropout=0.25)(inputs)\n",
        "x = layers.Dropout(0.5)(x)\n",
        "outputs = layers.Dense(1)(x)\n",
        "model = keras.Model(inputs,outputs)\n",
        "\n",
        "mcp = keras.callbacks.ModelCheckpoint('jena_lstm_dropout.keras',\n",
        "                                      save_best_only=True)\n",
        "model.compile(loss='mse',metrics=['mae'])\n",
        "hist = model.fit(train_dataset,\n",
        "                 epochs=50,\n",
        "                 validation_data=val_dataset,\n",
        "                 callbacks=[mcp])"
      ],
      "metadata": {
        "colab": {
          "base_uri": "https://localhost:8080/"
        },
        "id": "o7eFG_i_mPew",
        "outputId": "ed7f581f-d0c0-4ae6-c872-6193e0900f1e"
      },
      "execution_count": 32,
      "outputs": [
        {
          "output_type": "stream",
          "name": "stdout",
          "text": [
            "Epoch 1/2\n",
            "1637/1637 [==============================] - 336s 203ms/step - loss: 22.6638 - mae: 3.5730 - val_loss: 10.0137 - val_mae: 2.4553\n",
            "Epoch 2/2\n",
            "1637/1637 [==============================] - 329s 201ms/step - loss: 14.7240 - mae: 2.9787 - val_loss: 10.1466 - val_mae: 2.4728\n"
          ]
        }
      ]
    },
    {
      "cell_type": "code",
      "source": [
        "model = keras.models.load_model('jena_lstm_dropout.keras')\n",
        "model.evaluate(test_dataset)"
      ],
      "metadata": {
        "colab": {
          "base_uri": "https://localhost:8080/"
        },
        "id": "hi1E33JLu92s",
        "outputId": "813c11b7-368b-45d0-db71-d977d91526da"
      },
      "execution_count": 28,
      "outputs": [
        {
          "output_type": "stream",
          "name": "stdout",
          "text": [
            "815/815 [==============================] - 42s 50ms/step - loss: 11.5094 - mae: 2.6768\n"
          ]
        },
        {
          "output_type": "execute_result",
          "data": {
            "text/plain": [
              "[11.509407997131348, 2.6768054962158203]"
            ]
          },
          "metadata": {},
          "execution_count": 28
        }
      ]
    },
    {
      "cell_type": "code",
      "source": [
        "inputs = keras.Input(shape=(sequence_length,raw_data.shape[-1]))\n",
        "x = layers.GRU(32,recurrent_dropout=0.5, return_sequences=True)(inputs)\n",
        "x = layers.GRU(32,recurrent_dropout=0.5)(x)\n",
        "x = layers.Dropout(0.5)(x)\n",
        "outputs = layers.Dense(1)(x)\n",
        "model = keras.Model(inputs,outputs)\n",
        "\n",
        "mcp = keras.callbacks.ModelCheckpoint('jena_stacked_gru_dropout.keras',\n",
        "                                      save_best_only=True)\n",
        "model.compile(loss='mse',metrics=['mae'])\n",
        "hist = model.fit(train_dataset,\n",
        "                 epochs=50,\n",
        "                 validation_data=val_dataset,\n",
        "                 callbacks=[mcp])"
      ],
      "metadata": {
        "colab": {
          "base_uri": "https://localhost:8080/"
        },
        "id": "DESB3b8wxzAF",
        "outputId": "c3b9f2e5-4321-45a5-bf7a-097fe9e9dc76"
      },
      "execution_count": 31,
      "outputs": [
        {
          "output_type": "stream",
          "name": "stdout",
          "text": [
            "Epoch 1/2\n",
            "1637/1637 [==============================] - 601s 364ms/step - loss: 20.3109 - mae: 3.3816 - val_loss: 9.2526 - val_mae: 2.3665\n",
            "Epoch 2/2\n",
            "1637/1637 [==============================] - 579s 354ms/step - loss: 13.6433 - mae: 2.8690 - val_loss: 9.2657 - val_mae: 2.3715\n"
          ]
        }
      ]
    },
    {
      "cell_type": "code",
      "source": [
        "model = keras.models.load_model('jena_stacked_gru_dropout.keras')\n",
        "model.evaluate(test_dataset)"
      ],
      "metadata": {
        "colab": {
          "base_uri": "https://localhost:8080/"
        },
        "id": "HJBO2HIWxRyb",
        "outputId": "4e5547f4-da1d-47a5-ba5d-08e78c1d0972"
      },
      "execution_count": 29,
      "outputs": [
        {
          "output_type": "stream",
          "name": "stdout",
          "text": [
            "815/815 [==============================] - 69s 84ms/step - loss: 10.6295 - mae: 2.5589\n"
          ]
        },
        {
          "output_type": "execute_result",
          "data": {
            "text/plain": [
              "[10.629505157470703, 2.5589022636413574]"
            ]
          },
          "metadata": {},
          "execution_count": 29
        }
      ]
    },
    {
      "cell_type": "code",
      "source": [],
      "metadata": {
        "id": "yz4er6EBxsx-"
      },
      "execution_count": null,
      "outputs": []
    }
  ]
}