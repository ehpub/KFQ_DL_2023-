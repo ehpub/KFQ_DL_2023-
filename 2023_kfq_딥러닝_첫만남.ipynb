{
  "nbformat": 4,
  "nbformat_minor": 0,
  "metadata": {
    "colab": {
      "provenance": [],
      "gpuType": "T4",
      "authorship_tag": "ABX9TyOEGjdhyuJjBKJimi1wDqdd",
      "include_colab_link": true
    },
    "kernelspec": {
      "name": "python3",
      "display_name": "Python 3"
    },
    "language_info": {
      "name": "python"
    },
    "accelerator": "GPU"
  },
  "cells": [
    {
      "cell_type": "markdown",
      "metadata": {
        "id": "view-in-github",
        "colab_type": "text"
      },
      "source": [
        "<a href=\"https://colab.research.google.com/github/ehpub/KFQ_DL_2023-/blob/main/2023_kfq_%EB%94%A5%EB%9F%AC%EB%8B%9D_%EC%B2%AB%EB%A7%8C%EB%82%A8.ipynb\" target=\"_parent\"><img src=\"https://colab.research.google.com/assets/colab-badge.svg\" alt=\"Open In Colab\"/></a>"
      ]
    },
    {
      "cell_type": "markdown",
      "source": [
        "참고 교재: https://www.gilbut.co.kr/book/view?bookcode=BN003496"
      ],
      "metadata": {
        "id": "s_L57XCUV6Ju"
      }
    },
    {
      "cell_type": "markdown",
      "source": [
        "## 산타는 강의\n",
        "\n",
        "전통적인 프로그램에서 중요하게 생각하는 알고리즘 중 하나 - 동적 알고리즘"
      ],
      "metadata": {
        "id": "pcnAqxpE8pqv"
      }
    },
    {
      "cell_type": "code",
      "execution_count": null,
      "metadata": {
        "id": "Exyocpj_Vt8D"
      },
      "outputs": [],
      "source": [
        "def fibonacci(n):\n",
        "  if n<=0:\n",
        "    return 0\n",
        "  if n==1 or n==2:\n",
        "    return 1\n",
        "  return fibonacci(n-1) + fibonacci(n-2)"
      ]
    },
    {
      "cell_type": "code",
      "source": [
        "for i in range(1,30):\n",
        "  print(fibonacci(i),end=' ')"
      ],
      "metadata": {
        "colab": {
          "base_uri": "https://localhost:8080/"
        },
        "id": "Fkw6xyRl83AB",
        "outputId": "a93bfe93-cee2-4a14-e1d1-d84eca4a78d8"
      },
      "execution_count": null,
      "outputs": [
        {
          "output_type": "stream",
          "name": "stdout",
          "text": [
            "1 1 2 3 5 8 13 21 34 55 89 144 233 377 610 987 1597 2584 4181 6765 10946 17711 28657 46368 75025 121393 196418 317811 514229 "
          ]
        }
      ]
    },
    {
      "cell_type": "code",
      "source": [
        "import time"
      ],
      "metadata": {
        "id": "mTrWbT9F9A8m"
      },
      "execution_count": null,
      "outputs": []
    },
    {
      "cell_type": "code",
      "source": [
        "for i in range(35,50):\n",
        "  print(\"#\",i,end=':')\n",
        "  s = time.time()\n",
        "  re = fibonacci(i)\n",
        "  e = time.time()\n",
        "  print(f\"소요시간:{e-s:.4f} 결과:{re}\")"
      ],
      "metadata": {
        "colab": {
          "base_uri": "https://localhost:8080/",
          "height": 499
        },
        "id": "xUMrs5r69J6b",
        "outputId": "4cb17139-b293-4ade-9021-808e99bea565"
      },
      "execution_count": null,
      "outputs": [
        {
          "output_type": "stream",
          "name": "stdout",
          "text": [
            "# 35:소요시간:2.7797 결과:9227465\n",
            "# 36:소요시간:5.9979 결과:14930352\n",
            "# 37:소요시간:7.6281 결과:24157817\n",
            "# 38:소요시간:13.1537 결과:39088169\n",
            "# 39:소요시간:23.3415 결과:63245986\n",
            "# 40:소요시간:33.7541 결과:102334155\n",
            "# 41:"
          ]
        },
        {
          "output_type": "error",
          "ename": "KeyboardInterrupt",
          "evalue": "ignored",
          "traceback": [
            "\u001b[0;31m---------------------------------------------------------------------------\u001b[0m",
            "\u001b[0;31mKeyboardInterrupt\u001b[0m                         Traceback (most recent call last)",
            "\u001b[0;32m<ipython-input-6-3b3e7ced8cc9>\u001b[0m in \u001b[0;36m<cell line: 1>\u001b[0;34m()\u001b[0m\n\u001b[1;32m      2\u001b[0m   \u001b[0mprint\u001b[0m\u001b[0;34m(\u001b[0m\u001b[0;34m\"#\"\u001b[0m\u001b[0;34m,\u001b[0m\u001b[0mi\u001b[0m\u001b[0;34m,\u001b[0m\u001b[0mend\u001b[0m\u001b[0;34m=\u001b[0m\u001b[0;34m':'\u001b[0m\u001b[0;34m)\u001b[0m\u001b[0;34m\u001b[0m\u001b[0;34m\u001b[0m\u001b[0m\n\u001b[1;32m      3\u001b[0m   \u001b[0ms\u001b[0m \u001b[0;34m=\u001b[0m \u001b[0mtime\u001b[0m\u001b[0;34m.\u001b[0m\u001b[0mtime\u001b[0m\u001b[0;34m(\u001b[0m\u001b[0;34m)\u001b[0m\u001b[0;34m\u001b[0m\u001b[0;34m\u001b[0m\u001b[0m\n\u001b[0;32m----> 4\u001b[0;31m   \u001b[0mre\u001b[0m \u001b[0;34m=\u001b[0m \u001b[0mfibonacci\u001b[0m\u001b[0;34m(\u001b[0m\u001b[0mi\u001b[0m\u001b[0;34m)\u001b[0m\u001b[0;34m\u001b[0m\u001b[0;34m\u001b[0m\u001b[0m\n\u001b[0m\u001b[1;32m      5\u001b[0m   \u001b[0me\u001b[0m \u001b[0;34m=\u001b[0m \u001b[0mtime\u001b[0m\u001b[0;34m.\u001b[0m\u001b[0mtime\u001b[0m\u001b[0;34m(\u001b[0m\u001b[0;34m)\u001b[0m\u001b[0;34m\u001b[0m\u001b[0;34m\u001b[0m\u001b[0m\n\u001b[1;32m      6\u001b[0m   \u001b[0mprint\u001b[0m\u001b[0;34m(\u001b[0m\u001b[0;34mf\"소요시간:{e-s:.4f} 결과:{re}\"\u001b[0m\u001b[0;34m)\u001b[0m\u001b[0;34m\u001b[0m\u001b[0;34m\u001b[0m\u001b[0m\n",
            "\u001b[0;32m<ipython-input-1-6daceb12140d>\u001b[0m in \u001b[0;36mfibonacci\u001b[0;34m(n)\u001b[0m\n\u001b[1;32m      4\u001b[0m   \u001b[0;32mif\u001b[0m \u001b[0mn\u001b[0m\u001b[0;34m==\u001b[0m\u001b[0;36m1\u001b[0m \u001b[0;32mor\u001b[0m \u001b[0mn\u001b[0m\u001b[0;34m==\u001b[0m\u001b[0;36m2\u001b[0m\u001b[0;34m:\u001b[0m\u001b[0;34m\u001b[0m\u001b[0;34m\u001b[0m\u001b[0m\n\u001b[1;32m      5\u001b[0m     \u001b[0;32mreturn\u001b[0m \u001b[0;36m1\u001b[0m\u001b[0;34m\u001b[0m\u001b[0;34m\u001b[0m\u001b[0m\n\u001b[0;32m----> 6\u001b[0;31m   \u001b[0;32mreturn\u001b[0m \u001b[0mfibonacci\u001b[0m\u001b[0;34m(\u001b[0m\u001b[0mn\u001b[0m\u001b[0;34m-\u001b[0m\u001b[0;36m1\u001b[0m\u001b[0;34m)\u001b[0m \u001b[0;34m+\u001b[0m \u001b[0mfibonacci\u001b[0m\u001b[0;34m(\u001b[0m\u001b[0mn\u001b[0m\u001b[0;34m-\u001b[0m\u001b[0;36m2\u001b[0m\u001b[0;34m)\u001b[0m\u001b[0;34m\u001b[0m\u001b[0;34m\u001b[0m\u001b[0m\n\u001b[0m",
            "\u001b[0;32m<ipython-input-1-6daceb12140d>\u001b[0m in \u001b[0;36mfibonacci\u001b[0;34m(n)\u001b[0m\n\u001b[1;32m      4\u001b[0m   \u001b[0;32mif\u001b[0m \u001b[0mn\u001b[0m\u001b[0;34m==\u001b[0m\u001b[0;36m1\u001b[0m \u001b[0;32mor\u001b[0m \u001b[0mn\u001b[0m\u001b[0;34m==\u001b[0m\u001b[0;36m2\u001b[0m\u001b[0;34m:\u001b[0m\u001b[0;34m\u001b[0m\u001b[0;34m\u001b[0m\u001b[0m\n\u001b[1;32m      5\u001b[0m     \u001b[0;32mreturn\u001b[0m \u001b[0;36m1\u001b[0m\u001b[0;34m\u001b[0m\u001b[0;34m\u001b[0m\u001b[0m\n\u001b[0;32m----> 6\u001b[0;31m   \u001b[0;32mreturn\u001b[0m \u001b[0mfibonacci\u001b[0m\u001b[0;34m(\u001b[0m\u001b[0mn\u001b[0m\u001b[0;34m-\u001b[0m\u001b[0;36m1\u001b[0m\u001b[0;34m)\u001b[0m \u001b[0;34m+\u001b[0m \u001b[0mfibonacci\u001b[0m\u001b[0;34m(\u001b[0m\u001b[0mn\u001b[0m\u001b[0;34m-\u001b[0m\u001b[0;36m2\u001b[0m\u001b[0;34m)\u001b[0m\u001b[0;34m\u001b[0m\u001b[0;34m\u001b[0m\u001b[0m\n\u001b[0m",
            "\u001b[0;32m<ipython-input-1-6daceb12140d>\u001b[0m in \u001b[0;36mfibonacci\u001b[0;34m(n)\u001b[0m\n\u001b[1;32m      4\u001b[0m   \u001b[0;32mif\u001b[0m \u001b[0mn\u001b[0m\u001b[0;34m==\u001b[0m\u001b[0;36m1\u001b[0m \u001b[0;32mor\u001b[0m \u001b[0mn\u001b[0m\u001b[0;34m==\u001b[0m\u001b[0;36m2\u001b[0m\u001b[0;34m:\u001b[0m\u001b[0;34m\u001b[0m\u001b[0;34m\u001b[0m\u001b[0m\n\u001b[1;32m      5\u001b[0m     \u001b[0;32mreturn\u001b[0m \u001b[0;36m1\u001b[0m\u001b[0;34m\u001b[0m\u001b[0;34m\u001b[0m\u001b[0m\n\u001b[0;32m----> 6\u001b[0;31m   \u001b[0;32mreturn\u001b[0m \u001b[0mfibonacci\u001b[0m\u001b[0;34m(\u001b[0m\u001b[0mn\u001b[0m\u001b[0;34m-\u001b[0m\u001b[0;36m1\u001b[0m\u001b[0;34m)\u001b[0m \u001b[0;34m+\u001b[0m \u001b[0mfibonacci\u001b[0m\u001b[0;34m(\u001b[0m\u001b[0mn\u001b[0m\u001b[0;34m-\u001b[0m\u001b[0;36m2\u001b[0m\u001b[0;34m)\u001b[0m\u001b[0;34m\u001b[0m\u001b[0;34m\u001b[0m\u001b[0m\n\u001b[0m",
            "\u001b[0;32m<ipython-input-1-6daceb12140d>\u001b[0m in \u001b[0;36mfibonacci\u001b[0;34m(n)\u001b[0m\n\u001b[1;32m      4\u001b[0m   \u001b[0;32mif\u001b[0m \u001b[0mn\u001b[0m\u001b[0;34m==\u001b[0m\u001b[0;36m1\u001b[0m \u001b[0;32mor\u001b[0m \u001b[0mn\u001b[0m\u001b[0;34m==\u001b[0m\u001b[0;36m2\u001b[0m\u001b[0;34m:\u001b[0m\u001b[0;34m\u001b[0m\u001b[0;34m\u001b[0m\u001b[0m\n\u001b[1;32m      5\u001b[0m     \u001b[0;32mreturn\u001b[0m \u001b[0;36m1\u001b[0m\u001b[0;34m\u001b[0m\u001b[0;34m\u001b[0m\u001b[0m\n\u001b[0;32m----> 6\u001b[0;31m   \u001b[0;32mreturn\u001b[0m \u001b[0mfibonacci\u001b[0m\u001b[0;34m(\u001b[0m\u001b[0mn\u001b[0m\u001b[0;34m-\u001b[0m\u001b[0;36m1\u001b[0m\u001b[0;34m)\u001b[0m \u001b[0;34m+\u001b[0m \u001b[0mfibonacci\u001b[0m\u001b[0;34m(\u001b[0m\u001b[0mn\u001b[0m\u001b[0;34m-\u001b[0m\u001b[0;36m2\u001b[0m\u001b[0;34m)\u001b[0m\u001b[0;34m\u001b[0m\u001b[0;34m\u001b[0m\u001b[0m\n\u001b[0m",
            "\u001b[0;32m<ipython-input-1-6daceb12140d>\u001b[0m in \u001b[0;36mfibonacci\u001b[0;34m(n)\u001b[0m\n\u001b[1;32m      4\u001b[0m   \u001b[0;32mif\u001b[0m \u001b[0mn\u001b[0m\u001b[0;34m==\u001b[0m\u001b[0;36m1\u001b[0m \u001b[0;32mor\u001b[0m \u001b[0mn\u001b[0m\u001b[0;34m==\u001b[0m\u001b[0;36m2\u001b[0m\u001b[0;34m:\u001b[0m\u001b[0;34m\u001b[0m\u001b[0;34m\u001b[0m\u001b[0m\n\u001b[1;32m      5\u001b[0m     \u001b[0;32mreturn\u001b[0m \u001b[0;36m1\u001b[0m\u001b[0;34m\u001b[0m\u001b[0;34m\u001b[0m\u001b[0m\n\u001b[0;32m----> 6\u001b[0;31m   \u001b[0;32mreturn\u001b[0m \u001b[0mfibonacci\u001b[0m\u001b[0;34m(\u001b[0m\u001b[0mn\u001b[0m\u001b[0;34m-\u001b[0m\u001b[0;36m1\u001b[0m\u001b[0;34m)\u001b[0m \u001b[0;34m+\u001b[0m \u001b[0mfibonacci\u001b[0m\u001b[0;34m(\u001b[0m\u001b[0mn\u001b[0m\u001b[0;34m-\u001b[0m\u001b[0;36m2\u001b[0m\u001b[0;34m)\u001b[0m\u001b[0;34m\u001b[0m\u001b[0;34m\u001b[0m\u001b[0m\n\u001b[0m",
            "\u001b[0;32m<ipython-input-1-6daceb12140d>\u001b[0m in \u001b[0;36mfibonacci\u001b[0;34m(n)\u001b[0m\n\u001b[1;32m      4\u001b[0m   \u001b[0;32mif\u001b[0m \u001b[0mn\u001b[0m\u001b[0;34m==\u001b[0m\u001b[0;36m1\u001b[0m \u001b[0;32mor\u001b[0m \u001b[0mn\u001b[0m\u001b[0;34m==\u001b[0m\u001b[0;36m2\u001b[0m\u001b[0;34m:\u001b[0m\u001b[0;34m\u001b[0m\u001b[0;34m\u001b[0m\u001b[0m\n\u001b[1;32m      5\u001b[0m     \u001b[0;32mreturn\u001b[0m \u001b[0;36m1\u001b[0m\u001b[0;34m\u001b[0m\u001b[0;34m\u001b[0m\u001b[0m\n\u001b[0;32m----> 6\u001b[0;31m   \u001b[0;32mreturn\u001b[0m \u001b[0mfibonacci\u001b[0m\u001b[0;34m(\u001b[0m\u001b[0mn\u001b[0m\u001b[0;34m-\u001b[0m\u001b[0;36m1\u001b[0m\u001b[0;34m)\u001b[0m \u001b[0;34m+\u001b[0m \u001b[0mfibonacci\u001b[0m\u001b[0;34m(\u001b[0m\u001b[0mn\u001b[0m\u001b[0;34m-\u001b[0m\u001b[0;36m2\u001b[0m\u001b[0;34m)\u001b[0m\u001b[0;34m\u001b[0m\u001b[0;34m\u001b[0m\u001b[0m\n\u001b[0m",
            "\u001b[0;32m<ipython-input-1-6daceb12140d>\u001b[0m in \u001b[0;36mfibonacci\u001b[0;34m(n)\u001b[0m\n\u001b[1;32m      4\u001b[0m   \u001b[0;32mif\u001b[0m \u001b[0mn\u001b[0m\u001b[0;34m==\u001b[0m\u001b[0;36m1\u001b[0m \u001b[0;32mor\u001b[0m \u001b[0mn\u001b[0m\u001b[0;34m==\u001b[0m\u001b[0;36m2\u001b[0m\u001b[0;34m:\u001b[0m\u001b[0;34m\u001b[0m\u001b[0;34m\u001b[0m\u001b[0m\n\u001b[1;32m      5\u001b[0m     \u001b[0;32mreturn\u001b[0m \u001b[0;36m1\u001b[0m\u001b[0;34m\u001b[0m\u001b[0;34m\u001b[0m\u001b[0m\n\u001b[0;32m----> 6\u001b[0;31m   \u001b[0;32mreturn\u001b[0m \u001b[0mfibonacci\u001b[0m\u001b[0;34m(\u001b[0m\u001b[0mn\u001b[0m\u001b[0;34m-\u001b[0m\u001b[0;36m1\u001b[0m\u001b[0;34m)\u001b[0m \u001b[0;34m+\u001b[0m \u001b[0mfibonacci\u001b[0m\u001b[0;34m(\u001b[0m\u001b[0mn\u001b[0m\u001b[0;34m-\u001b[0m\u001b[0;36m2\u001b[0m\u001b[0;34m)\u001b[0m\u001b[0;34m\u001b[0m\u001b[0;34m\u001b[0m\u001b[0m\n\u001b[0m",
            "\u001b[0;32m<ipython-input-1-6daceb12140d>\u001b[0m in \u001b[0;36mfibonacci\u001b[0;34m(n)\u001b[0m\n\u001b[1;32m      4\u001b[0m   \u001b[0;32mif\u001b[0m \u001b[0mn\u001b[0m\u001b[0;34m==\u001b[0m\u001b[0;36m1\u001b[0m \u001b[0;32mor\u001b[0m \u001b[0mn\u001b[0m\u001b[0;34m==\u001b[0m\u001b[0;36m2\u001b[0m\u001b[0;34m:\u001b[0m\u001b[0;34m\u001b[0m\u001b[0;34m\u001b[0m\u001b[0m\n\u001b[1;32m      5\u001b[0m     \u001b[0;32mreturn\u001b[0m \u001b[0;36m1\u001b[0m\u001b[0;34m\u001b[0m\u001b[0;34m\u001b[0m\u001b[0m\n\u001b[0;32m----> 6\u001b[0;31m   \u001b[0;32mreturn\u001b[0m \u001b[0mfibonacci\u001b[0m\u001b[0;34m(\u001b[0m\u001b[0mn\u001b[0m\u001b[0;34m-\u001b[0m\u001b[0;36m1\u001b[0m\u001b[0;34m)\u001b[0m \u001b[0;34m+\u001b[0m \u001b[0mfibonacci\u001b[0m\u001b[0;34m(\u001b[0m\u001b[0mn\u001b[0m\u001b[0;34m-\u001b[0m\u001b[0;36m2\u001b[0m\u001b[0;34m)\u001b[0m\u001b[0;34m\u001b[0m\u001b[0;34m\u001b[0m\u001b[0m\n\u001b[0m",
            "\u001b[0;32m<ipython-input-1-6daceb12140d>\u001b[0m in \u001b[0;36mfibonacci\u001b[0;34m(n)\u001b[0m\n\u001b[1;32m      4\u001b[0m   \u001b[0;32mif\u001b[0m \u001b[0mn\u001b[0m\u001b[0;34m==\u001b[0m\u001b[0;36m1\u001b[0m \u001b[0;32mor\u001b[0m \u001b[0mn\u001b[0m\u001b[0;34m==\u001b[0m\u001b[0;36m2\u001b[0m\u001b[0;34m:\u001b[0m\u001b[0;34m\u001b[0m\u001b[0;34m\u001b[0m\u001b[0m\n\u001b[1;32m      5\u001b[0m     \u001b[0;32mreturn\u001b[0m \u001b[0;36m1\u001b[0m\u001b[0;34m\u001b[0m\u001b[0;34m\u001b[0m\u001b[0m\n\u001b[0;32m----> 6\u001b[0;31m   \u001b[0;32mreturn\u001b[0m \u001b[0mfibonacci\u001b[0m\u001b[0;34m(\u001b[0m\u001b[0mn\u001b[0m\u001b[0;34m-\u001b[0m\u001b[0;36m1\u001b[0m\u001b[0;34m)\u001b[0m \u001b[0;34m+\u001b[0m \u001b[0mfibonacci\u001b[0m\u001b[0;34m(\u001b[0m\u001b[0mn\u001b[0m\u001b[0;34m-\u001b[0m\u001b[0;36m2\u001b[0m\u001b[0;34m)\u001b[0m\u001b[0;34m\u001b[0m\u001b[0;34m\u001b[0m\u001b[0m\n\u001b[0m",
            "\u001b[0;32m<ipython-input-1-6daceb12140d>\u001b[0m in \u001b[0;36mfibonacci\u001b[0;34m(n)\u001b[0m\n\u001b[1;32m      4\u001b[0m   \u001b[0;32mif\u001b[0m \u001b[0mn\u001b[0m\u001b[0;34m==\u001b[0m\u001b[0;36m1\u001b[0m \u001b[0;32mor\u001b[0m \u001b[0mn\u001b[0m\u001b[0;34m==\u001b[0m\u001b[0;36m2\u001b[0m\u001b[0;34m:\u001b[0m\u001b[0;34m\u001b[0m\u001b[0;34m\u001b[0m\u001b[0m\n\u001b[1;32m      5\u001b[0m     \u001b[0;32mreturn\u001b[0m \u001b[0;36m1\u001b[0m\u001b[0;34m\u001b[0m\u001b[0;34m\u001b[0m\u001b[0m\n\u001b[0;32m----> 6\u001b[0;31m   \u001b[0;32mreturn\u001b[0m \u001b[0mfibonacci\u001b[0m\u001b[0;34m(\u001b[0m\u001b[0mn\u001b[0m\u001b[0;34m-\u001b[0m\u001b[0;36m1\u001b[0m\u001b[0;34m)\u001b[0m \u001b[0;34m+\u001b[0m \u001b[0mfibonacci\u001b[0m\u001b[0;34m(\u001b[0m\u001b[0mn\u001b[0m\u001b[0;34m-\u001b[0m\u001b[0;36m2\u001b[0m\u001b[0;34m)\u001b[0m\u001b[0;34m\u001b[0m\u001b[0;34m\u001b[0m\u001b[0m\n\u001b[0m",
            "\u001b[0;32m<ipython-input-1-6daceb12140d>\u001b[0m in \u001b[0;36mfibonacci\u001b[0;34m(n)\u001b[0m\n\u001b[1;32m      4\u001b[0m   \u001b[0;32mif\u001b[0m \u001b[0mn\u001b[0m\u001b[0;34m==\u001b[0m\u001b[0;36m1\u001b[0m \u001b[0;32mor\u001b[0m \u001b[0mn\u001b[0m\u001b[0;34m==\u001b[0m\u001b[0;36m2\u001b[0m\u001b[0;34m:\u001b[0m\u001b[0;34m\u001b[0m\u001b[0;34m\u001b[0m\u001b[0m\n\u001b[1;32m      5\u001b[0m     \u001b[0;32mreturn\u001b[0m \u001b[0;36m1\u001b[0m\u001b[0;34m\u001b[0m\u001b[0;34m\u001b[0m\u001b[0m\n\u001b[0;32m----> 6\u001b[0;31m   \u001b[0;32mreturn\u001b[0m \u001b[0mfibonacci\u001b[0m\u001b[0;34m(\u001b[0m\u001b[0mn\u001b[0m\u001b[0;34m-\u001b[0m\u001b[0;36m1\u001b[0m\u001b[0;34m)\u001b[0m \u001b[0;34m+\u001b[0m \u001b[0mfibonacci\u001b[0m\u001b[0;34m(\u001b[0m\u001b[0mn\u001b[0m\u001b[0;34m-\u001b[0m\u001b[0;36m2\u001b[0m\u001b[0;34m)\u001b[0m\u001b[0;34m\u001b[0m\u001b[0;34m\u001b[0m\u001b[0m\n\u001b[0m",
            "\u001b[0;32m<ipython-input-1-6daceb12140d>\u001b[0m in \u001b[0;36mfibonacci\u001b[0;34m(n)\u001b[0m\n\u001b[1;32m      4\u001b[0m   \u001b[0;32mif\u001b[0m \u001b[0mn\u001b[0m\u001b[0;34m==\u001b[0m\u001b[0;36m1\u001b[0m \u001b[0;32mor\u001b[0m \u001b[0mn\u001b[0m\u001b[0;34m==\u001b[0m\u001b[0;36m2\u001b[0m\u001b[0;34m:\u001b[0m\u001b[0;34m\u001b[0m\u001b[0;34m\u001b[0m\u001b[0m\n\u001b[1;32m      5\u001b[0m     \u001b[0;32mreturn\u001b[0m \u001b[0;36m1\u001b[0m\u001b[0;34m\u001b[0m\u001b[0;34m\u001b[0m\u001b[0m\n\u001b[0;32m----> 6\u001b[0;31m   \u001b[0;32mreturn\u001b[0m \u001b[0mfibonacci\u001b[0m\u001b[0;34m(\u001b[0m\u001b[0mn\u001b[0m\u001b[0;34m-\u001b[0m\u001b[0;36m1\u001b[0m\u001b[0;34m)\u001b[0m \u001b[0;34m+\u001b[0m \u001b[0mfibonacci\u001b[0m\u001b[0;34m(\u001b[0m\u001b[0mn\u001b[0m\u001b[0;34m-\u001b[0m\u001b[0;36m2\u001b[0m\u001b[0;34m)\u001b[0m\u001b[0;34m\u001b[0m\u001b[0;34m\u001b[0m\u001b[0m\n\u001b[0m",
            "\u001b[0;32m<ipython-input-1-6daceb12140d>\u001b[0m in \u001b[0;36mfibonacci\u001b[0;34m(n)\u001b[0m\n\u001b[1;32m      4\u001b[0m   \u001b[0;32mif\u001b[0m \u001b[0mn\u001b[0m\u001b[0;34m==\u001b[0m\u001b[0;36m1\u001b[0m \u001b[0;32mor\u001b[0m \u001b[0mn\u001b[0m\u001b[0;34m==\u001b[0m\u001b[0;36m2\u001b[0m\u001b[0;34m:\u001b[0m\u001b[0;34m\u001b[0m\u001b[0;34m\u001b[0m\u001b[0m\n\u001b[1;32m      5\u001b[0m     \u001b[0;32mreturn\u001b[0m \u001b[0;36m1\u001b[0m\u001b[0;34m\u001b[0m\u001b[0;34m\u001b[0m\u001b[0m\n\u001b[0;32m----> 6\u001b[0;31m   \u001b[0;32mreturn\u001b[0m \u001b[0mfibonacci\u001b[0m\u001b[0;34m(\u001b[0m\u001b[0mn\u001b[0m\u001b[0;34m-\u001b[0m\u001b[0;36m1\u001b[0m\u001b[0;34m)\u001b[0m \u001b[0;34m+\u001b[0m \u001b[0mfibonacci\u001b[0m\u001b[0;34m(\u001b[0m\u001b[0mn\u001b[0m\u001b[0;34m-\u001b[0m\u001b[0;36m2\u001b[0m\u001b[0;34m)\u001b[0m\u001b[0;34m\u001b[0m\u001b[0;34m\u001b[0m\u001b[0m\n\u001b[0m",
            "\u001b[0;32m<ipython-input-1-6daceb12140d>\u001b[0m in \u001b[0;36mfibonacci\u001b[0;34m(n)\u001b[0m\n\u001b[1;32m      4\u001b[0m   \u001b[0;32mif\u001b[0m \u001b[0mn\u001b[0m\u001b[0;34m==\u001b[0m\u001b[0;36m1\u001b[0m \u001b[0;32mor\u001b[0m \u001b[0mn\u001b[0m\u001b[0;34m==\u001b[0m\u001b[0;36m2\u001b[0m\u001b[0;34m:\u001b[0m\u001b[0;34m\u001b[0m\u001b[0;34m\u001b[0m\u001b[0m\n\u001b[1;32m      5\u001b[0m     \u001b[0;32mreturn\u001b[0m \u001b[0;36m1\u001b[0m\u001b[0;34m\u001b[0m\u001b[0;34m\u001b[0m\u001b[0m\n\u001b[0;32m----> 6\u001b[0;31m   \u001b[0;32mreturn\u001b[0m \u001b[0mfibonacci\u001b[0m\u001b[0;34m(\u001b[0m\u001b[0mn\u001b[0m\u001b[0;34m-\u001b[0m\u001b[0;36m1\u001b[0m\u001b[0;34m)\u001b[0m \u001b[0;34m+\u001b[0m \u001b[0mfibonacci\u001b[0m\u001b[0;34m(\u001b[0m\u001b[0mn\u001b[0m\u001b[0;34m-\u001b[0m\u001b[0;36m2\u001b[0m\u001b[0;34m)\u001b[0m\u001b[0;34m\u001b[0m\u001b[0;34m\u001b[0m\u001b[0m\n\u001b[0m",
            "\u001b[0;32m<ipython-input-1-6daceb12140d>\u001b[0m in \u001b[0;36mfibonacci\u001b[0;34m(n)\u001b[0m\n\u001b[1;32m      4\u001b[0m   \u001b[0;32mif\u001b[0m \u001b[0mn\u001b[0m\u001b[0;34m==\u001b[0m\u001b[0;36m1\u001b[0m \u001b[0;32mor\u001b[0m \u001b[0mn\u001b[0m\u001b[0;34m==\u001b[0m\u001b[0;36m2\u001b[0m\u001b[0;34m:\u001b[0m\u001b[0;34m\u001b[0m\u001b[0;34m\u001b[0m\u001b[0m\n\u001b[1;32m      5\u001b[0m     \u001b[0;32mreturn\u001b[0m \u001b[0;36m1\u001b[0m\u001b[0;34m\u001b[0m\u001b[0;34m\u001b[0m\u001b[0m\n\u001b[0;32m----> 6\u001b[0;31m   \u001b[0;32mreturn\u001b[0m \u001b[0mfibonacci\u001b[0m\u001b[0;34m(\u001b[0m\u001b[0mn\u001b[0m\u001b[0;34m-\u001b[0m\u001b[0;36m1\u001b[0m\u001b[0;34m)\u001b[0m \u001b[0;34m+\u001b[0m \u001b[0mfibonacci\u001b[0m\u001b[0;34m(\u001b[0m\u001b[0mn\u001b[0m\u001b[0;34m-\u001b[0m\u001b[0;36m2\u001b[0m\u001b[0;34m)\u001b[0m\u001b[0;34m\u001b[0m\u001b[0;34m\u001b[0m\u001b[0m\n\u001b[0m",
            "\u001b[0;32m<ipython-input-1-6daceb12140d>\u001b[0m in \u001b[0;36mfibonacci\u001b[0;34m(n)\u001b[0m\n\u001b[1;32m      4\u001b[0m   \u001b[0;32mif\u001b[0m \u001b[0mn\u001b[0m\u001b[0;34m==\u001b[0m\u001b[0;36m1\u001b[0m \u001b[0;32mor\u001b[0m \u001b[0mn\u001b[0m\u001b[0;34m==\u001b[0m\u001b[0;36m2\u001b[0m\u001b[0;34m:\u001b[0m\u001b[0;34m\u001b[0m\u001b[0;34m\u001b[0m\u001b[0m\n\u001b[1;32m      5\u001b[0m     \u001b[0;32mreturn\u001b[0m \u001b[0;36m1\u001b[0m\u001b[0;34m\u001b[0m\u001b[0;34m\u001b[0m\u001b[0m\n\u001b[0;32m----> 6\u001b[0;31m   \u001b[0;32mreturn\u001b[0m \u001b[0mfibonacci\u001b[0m\u001b[0;34m(\u001b[0m\u001b[0mn\u001b[0m\u001b[0;34m-\u001b[0m\u001b[0;36m1\u001b[0m\u001b[0;34m)\u001b[0m \u001b[0;34m+\u001b[0m \u001b[0mfibonacci\u001b[0m\u001b[0;34m(\u001b[0m\u001b[0mn\u001b[0m\u001b[0;34m-\u001b[0m\u001b[0;36m2\u001b[0m\u001b[0;34m)\u001b[0m\u001b[0;34m\u001b[0m\u001b[0;34m\u001b[0m\u001b[0m\n\u001b[0m",
            "\u001b[0;32m<ipython-input-1-6daceb12140d>\u001b[0m in \u001b[0;36mfibonacci\u001b[0;34m(n)\u001b[0m\n\u001b[1;32m      4\u001b[0m   \u001b[0;32mif\u001b[0m \u001b[0mn\u001b[0m\u001b[0;34m==\u001b[0m\u001b[0;36m1\u001b[0m \u001b[0;32mor\u001b[0m \u001b[0mn\u001b[0m\u001b[0;34m==\u001b[0m\u001b[0;36m2\u001b[0m\u001b[0;34m:\u001b[0m\u001b[0;34m\u001b[0m\u001b[0;34m\u001b[0m\u001b[0m\n\u001b[1;32m      5\u001b[0m     \u001b[0;32mreturn\u001b[0m \u001b[0;36m1\u001b[0m\u001b[0;34m\u001b[0m\u001b[0;34m\u001b[0m\u001b[0m\n\u001b[0;32m----> 6\u001b[0;31m   \u001b[0;32mreturn\u001b[0m \u001b[0mfibonacci\u001b[0m\u001b[0;34m(\u001b[0m\u001b[0mn\u001b[0m\u001b[0;34m-\u001b[0m\u001b[0;36m1\u001b[0m\u001b[0;34m)\u001b[0m \u001b[0;34m+\u001b[0m \u001b[0mfibonacci\u001b[0m\u001b[0;34m(\u001b[0m\u001b[0mn\u001b[0m\u001b[0;34m-\u001b[0m\u001b[0;36m2\u001b[0m\u001b[0;34m)\u001b[0m\u001b[0;34m\u001b[0m\u001b[0;34m\u001b[0m\u001b[0m\n\u001b[0m",
            "\u001b[0;32m<ipython-input-1-6daceb12140d>\u001b[0m in \u001b[0;36mfibonacci\u001b[0;34m(n)\u001b[0m\n\u001b[1;32m      4\u001b[0m   \u001b[0;32mif\u001b[0m \u001b[0mn\u001b[0m\u001b[0;34m==\u001b[0m\u001b[0;36m1\u001b[0m \u001b[0;32mor\u001b[0m \u001b[0mn\u001b[0m\u001b[0;34m==\u001b[0m\u001b[0;36m2\u001b[0m\u001b[0;34m:\u001b[0m\u001b[0;34m\u001b[0m\u001b[0;34m\u001b[0m\u001b[0m\n\u001b[1;32m      5\u001b[0m     \u001b[0;32mreturn\u001b[0m \u001b[0;36m1\u001b[0m\u001b[0;34m\u001b[0m\u001b[0;34m\u001b[0m\u001b[0m\n\u001b[0;32m----> 6\u001b[0;31m   \u001b[0;32mreturn\u001b[0m \u001b[0mfibonacci\u001b[0m\u001b[0;34m(\u001b[0m\u001b[0mn\u001b[0m\u001b[0;34m-\u001b[0m\u001b[0;36m1\u001b[0m\u001b[0;34m)\u001b[0m \u001b[0;34m+\u001b[0m \u001b[0mfibonacci\u001b[0m\u001b[0;34m(\u001b[0m\u001b[0mn\u001b[0m\u001b[0;34m-\u001b[0m\u001b[0;36m2\u001b[0m\u001b[0;34m)\u001b[0m\u001b[0;34m\u001b[0m\u001b[0;34m\u001b[0m\u001b[0m\n\u001b[0m",
            "\u001b[0;32m<ipython-input-1-6daceb12140d>\u001b[0m in \u001b[0;36mfibonacci\u001b[0;34m(n)\u001b[0m\n\u001b[1;32m      4\u001b[0m   \u001b[0;32mif\u001b[0m \u001b[0mn\u001b[0m\u001b[0;34m==\u001b[0m\u001b[0;36m1\u001b[0m \u001b[0;32mor\u001b[0m \u001b[0mn\u001b[0m\u001b[0;34m==\u001b[0m\u001b[0;36m2\u001b[0m\u001b[0;34m:\u001b[0m\u001b[0;34m\u001b[0m\u001b[0;34m\u001b[0m\u001b[0m\n\u001b[1;32m      5\u001b[0m     \u001b[0;32mreturn\u001b[0m \u001b[0;36m1\u001b[0m\u001b[0;34m\u001b[0m\u001b[0;34m\u001b[0m\u001b[0m\n\u001b[0;32m----> 6\u001b[0;31m   \u001b[0;32mreturn\u001b[0m \u001b[0mfibonacci\u001b[0m\u001b[0;34m(\u001b[0m\u001b[0mn\u001b[0m\u001b[0;34m-\u001b[0m\u001b[0;36m1\u001b[0m\u001b[0;34m)\u001b[0m \u001b[0;34m+\u001b[0m \u001b[0mfibonacci\u001b[0m\u001b[0;34m(\u001b[0m\u001b[0mn\u001b[0m\u001b[0;34m-\u001b[0m\u001b[0;36m2\u001b[0m\u001b[0;34m)\u001b[0m\u001b[0;34m\u001b[0m\u001b[0;34m\u001b[0m\u001b[0m\n\u001b[0m",
            "\u001b[0;32m<ipython-input-1-6daceb12140d>\u001b[0m in \u001b[0;36mfibonacci\u001b[0;34m(n)\u001b[0m\n\u001b[1;32m      4\u001b[0m   \u001b[0;32mif\u001b[0m \u001b[0mn\u001b[0m\u001b[0;34m==\u001b[0m\u001b[0;36m1\u001b[0m \u001b[0;32mor\u001b[0m \u001b[0mn\u001b[0m\u001b[0;34m==\u001b[0m\u001b[0;36m2\u001b[0m\u001b[0;34m:\u001b[0m\u001b[0;34m\u001b[0m\u001b[0;34m\u001b[0m\u001b[0m\n\u001b[1;32m      5\u001b[0m     \u001b[0;32mreturn\u001b[0m \u001b[0;36m1\u001b[0m\u001b[0;34m\u001b[0m\u001b[0;34m\u001b[0m\u001b[0m\n\u001b[0;32m----> 6\u001b[0;31m   \u001b[0;32mreturn\u001b[0m \u001b[0mfibonacci\u001b[0m\u001b[0;34m(\u001b[0m\u001b[0mn\u001b[0m\u001b[0;34m-\u001b[0m\u001b[0;36m1\u001b[0m\u001b[0;34m)\u001b[0m \u001b[0;34m+\u001b[0m \u001b[0mfibonacci\u001b[0m\u001b[0;34m(\u001b[0m\u001b[0mn\u001b[0m\u001b[0;34m-\u001b[0m\u001b[0;36m2\u001b[0m\u001b[0;34m)\u001b[0m\u001b[0;34m\u001b[0m\u001b[0;34m\u001b[0m\u001b[0m\n\u001b[0m",
            "\u001b[0;32m<ipython-input-1-6daceb12140d>\u001b[0m in \u001b[0;36mfibonacci\u001b[0;34m(n)\u001b[0m\n\u001b[1;32m      4\u001b[0m   \u001b[0;32mif\u001b[0m \u001b[0mn\u001b[0m\u001b[0;34m==\u001b[0m\u001b[0;36m1\u001b[0m \u001b[0;32mor\u001b[0m \u001b[0mn\u001b[0m\u001b[0;34m==\u001b[0m\u001b[0;36m2\u001b[0m\u001b[0;34m:\u001b[0m\u001b[0;34m\u001b[0m\u001b[0;34m\u001b[0m\u001b[0m\n\u001b[1;32m      5\u001b[0m     \u001b[0;32mreturn\u001b[0m \u001b[0;36m1\u001b[0m\u001b[0;34m\u001b[0m\u001b[0;34m\u001b[0m\u001b[0m\n\u001b[0;32m----> 6\u001b[0;31m   \u001b[0;32mreturn\u001b[0m \u001b[0mfibonacci\u001b[0m\u001b[0;34m(\u001b[0m\u001b[0mn\u001b[0m\u001b[0;34m-\u001b[0m\u001b[0;36m1\u001b[0m\u001b[0;34m)\u001b[0m \u001b[0;34m+\u001b[0m \u001b[0mfibonacci\u001b[0m\u001b[0;34m(\u001b[0m\u001b[0mn\u001b[0m\u001b[0;34m-\u001b[0m\u001b[0;36m2\u001b[0m\u001b[0;34m)\u001b[0m\u001b[0;34m\u001b[0m\u001b[0;34m\u001b[0m\u001b[0m\n\u001b[0m",
            "\u001b[0;32m<ipython-input-1-6daceb12140d>\u001b[0m in \u001b[0;36mfibonacci\u001b[0;34m(n)\u001b[0m\n\u001b[1;32m      4\u001b[0m   \u001b[0;32mif\u001b[0m \u001b[0mn\u001b[0m\u001b[0;34m==\u001b[0m\u001b[0;36m1\u001b[0m \u001b[0;32mor\u001b[0m \u001b[0mn\u001b[0m\u001b[0;34m==\u001b[0m\u001b[0;36m2\u001b[0m\u001b[0;34m:\u001b[0m\u001b[0;34m\u001b[0m\u001b[0;34m\u001b[0m\u001b[0m\n\u001b[1;32m      5\u001b[0m     \u001b[0;32mreturn\u001b[0m \u001b[0;36m1\u001b[0m\u001b[0;34m\u001b[0m\u001b[0;34m\u001b[0m\u001b[0m\n\u001b[0;32m----> 6\u001b[0;31m   \u001b[0;32mreturn\u001b[0m \u001b[0mfibonacci\u001b[0m\u001b[0;34m(\u001b[0m\u001b[0mn\u001b[0m\u001b[0;34m-\u001b[0m\u001b[0;36m1\u001b[0m\u001b[0;34m)\u001b[0m \u001b[0;34m+\u001b[0m \u001b[0mfibonacci\u001b[0m\u001b[0;34m(\u001b[0m\u001b[0mn\u001b[0m\u001b[0;34m-\u001b[0m\u001b[0;36m2\u001b[0m\u001b[0;34m)\u001b[0m\u001b[0;34m\u001b[0m\u001b[0;34m\u001b[0m\u001b[0m\n\u001b[0m",
            "\u001b[0;32m<ipython-input-1-6daceb12140d>\u001b[0m in \u001b[0;36mfibonacci\u001b[0;34m(n)\u001b[0m\n\u001b[1;32m      4\u001b[0m   \u001b[0;32mif\u001b[0m \u001b[0mn\u001b[0m\u001b[0;34m==\u001b[0m\u001b[0;36m1\u001b[0m \u001b[0;32mor\u001b[0m \u001b[0mn\u001b[0m\u001b[0;34m==\u001b[0m\u001b[0;36m2\u001b[0m\u001b[0;34m:\u001b[0m\u001b[0;34m\u001b[0m\u001b[0;34m\u001b[0m\u001b[0m\n\u001b[1;32m      5\u001b[0m     \u001b[0;32mreturn\u001b[0m \u001b[0;36m1\u001b[0m\u001b[0;34m\u001b[0m\u001b[0;34m\u001b[0m\u001b[0m\n\u001b[0;32m----> 6\u001b[0;31m   \u001b[0;32mreturn\u001b[0m \u001b[0mfibonacci\u001b[0m\u001b[0;34m(\u001b[0m\u001b[0mn\u001b[0m\u001b[0;34m-\u001b[0m\u001b[0;36m1\u001b[0m\u001b[0;34m)\u001b[0m \u001b[0;34m+\u001b[0m \u001b[0mfibonacci\u001b[0m\u001b[0;34m(\u001b[0m\u001b[0mn\u001b[0m\u001b[0;34m-\u001b[0m\u001b[0;36m2\u001b[0m\u001b[0;34m)\u001b[0m\u001b[0;34m\u001b[0m\u001b[0;34m\u001b[0m\u001b[0m\n\u001b[0m",
            "\u001b[0;32m<ipython-input-1-6daceb12140d>\u001b[0m in \u001b[0;36mfibonacci\u001b[0;34m(n)\u001b[0m\n\u001b[1;32m      4\u001b[0m   \u001b[0;32mif\u001b[0m \u001b[0mn\u001b[0m\u001b[0;34m==\u001b[0m\u001b[0;36m1\u001b[0m \u001b[0;32mor\u001b[0m \u001b[0mn\u001b[0m\u001b[0;34m==\u001b[0m\u001b[0;36m2\u001b[0m\u001b[0;34m:\u001b[0m\u001b[0;34m\u001b[0m\u001b[0;34m\u001b[0m\u001b[0m\n\u001b[1;32m      5\u001b[0m     \u001b[0;32mreturn\u001b[0m \u001b[0;36m1\u001b[0m\u001b[0;34m\u001b[0m\u001b[0;34m\u001b[0m\u001b[0m\n\u001b[0;32m----> 6\u001b[0;31m   \u001b[0;32mreturn\u001b[0m \u001b[0mfibonacci\u001b[0m\u001b[0;34m(\u001b[0m\u001b[0mn\u001b[0m\u001b[0;34m-\u001b[0m\u001b[0;36m1\u001b[0m\u001b[0;34m)\u001b[0m \u001b[0;34m+\u001b[0m \u001b[0mfibonacci\u001b[0m\u001b[0;34m(\u001b[0m\u001b[0mn\u001b[0m\u001b[0;34m-\u001b[0m\u001b[0;36m2\u001b[0m\u001b[0;34m)\u001b[0m\u001b[0;34m\u001b[0m\u001b[0;34m\u001b[0m\u001b[0m\n\u001b[0m",
            "\u001b[0;32m<ipython-input-1-6daceb12140d>\u001b[0m in \u001b[0;36mfibonacci\u001b[0;34m(n)\u001b[0m\n\u001b[1;32m      4\u001b[0m   \u001b[0;32mif\u001b[0m \u001b[0mn\u001b[0m\u001b[0;34m==\u001b[0m\u001b[0;36m1\u001b[0m \u001b[0;32mor\u001b[0m \u001b[0mn\u001b[0m\u001b[0;34m==\u001b[0m\u001b[0;36m2\u001b[0m\u001b[0;34m:\u001b[0m\u001b[0;34m\u001b[0m\u001b[0;34m\u001b[0m\u001b[0m\n\u001b[1;32m      5\u001b[0m     \u001b[0;32mreturn\u001b[0m \u001b[0;36m1\u001b[0m\u001b[0;34m\u001b[0m\u001b[0;34m\u001b[0m\u001b[0m\n\u001b[0;32m----> 6\u001b[0;31m   \u001b[0;32mreturn\u001b[0m \u001b[0mfibonacci\u001b[0m\u001b[0;34m(\u001b[0m\u001b[0mn\u001b[0m\u001b[0;34m-\u001b[0m\u001b[0;36m1\u001b[0m\u001b[0;34m)\u001b[0m \u001b[0;34m+\u001b[0m \u001b[0mfibonacci\u001b[0m\u001b[0;34m(\u001b[0m\u001b[0mn\u001b[0m\u001b[0;34m-\u001b[0m\u001b[0;36m2\u001b[0m\u001b[0;34m)\u001b[0m\u001b[0;34m\u001b[0m\u001b[0;34m\u001b[0m\u001b[0m\n\u001b[0m",
            "\u001b[0;32m<ipython-input-1-6daceb12140d>\u001b[0m in \u001b[0;36mfibonacci\u001b[0;34m(n)\u001b[0m\n\u001b[1;32m      4\u001b[0m   \u001b[0;32mif\u001b[0m \u001b[0mn\u001b[0m\u001b[0;34m==\u001b[0m\u001b[0;36m1\u001b[0m \u001b[0;32mor\u001b[0m \u001b[0mn\u001b[0m\u001b[0;34m==\u001b[0m\u001b[0;36m2\u001b[0m\u001b[0;34m:\u001b[0m\u001b[0;34m\u001b[0m\u001b[0;34m\u001b[0m\u001b[0m\n\u001b[1;32m      5\u001b[0m     \u001b[0;32mreturn\u001b[0m \u001b[0;36m1\u001b[0m\u001b[0;34m\u001b[0m\u001b[0;34m\u001b[0m\u001b[0m\n\u001b[0;32m----> 6\u001b[0;31m   \u001b[0;32mreturn\u001b[0m \u001b[0mfibonacci\u001b[0m\u001b[0;34m(\u001b[0m\u001b[0mn\u001b[0m\u001b[0;34m-\u001b[0m\u001b[0;36m1\u001b[0m\u001b[0;34m)\u001b[0m \u001b[0;34m+\u001b[0m \u001b[0mfibonacci\u001b[0m\u001b[0;34m(\u001b[0m\u001b[0mn\u001b[0m\u001b[0;34m-\u001b[0m\u001b[0;36m2\u001b[0m\u001b[0;34m)\u001b[0m\u001b[0;34m\u001b[0m\u001b[0;34m\u001b[0m\u001b[0m\n\u001b[0m",
            "\u001b[0;32m<ipython-input-1-6daceb12140d>\u001b[0m in \u001b[0;36mfibonacci\u001b[0;34m(n)\u001b[0m\n\u001b[1;32m      4\u001b[0m   \u001b[0;32mif\u001b[0m \u001b[0mn\u001b[0m\u001b[0;34m==\u001b[0m\u001b[0;36m1\u001b[0m \u001b[0;32mor\u001b[0m \u001b[0mn\u001b[0m\u001b[0;34m==\u001b[0m\u001b[0;36m2\u001b[0m\u001b[0;34m:\u001b[0m\u001b[0;34m\u001b[0m\u001b[0;34m\u001b[0m\u001b[0m\n\u001b[1;32m      5\u001b[0m     \u001b[0;32mreturn\u001b[0m \u001b[0;36m1\u001b[0m\u001b[0;34m\u001b[0m\u001b[0;34m\u001b[0m\u001b[0m\n\u001b[0;32m----> 6\u001b[0;31m   \u001b[0;32mreturn\u001b[0m \u001b[0mfibonacci\u001b[0m\u001b[0;34m(\u001b[0m\u001b[0mn\u001b[0m\u001b[0;34m-\u001b[0m\u001b[0;36m1\u001b[0m\u001b[0;34m)\u001b[0m \u001b[0;34m+\u001b[0m \u001b[0mfibonacci\u001b[0m\u001b[0;34m(\u001b[0m\u001b[0mn\u001b[0m\u001b[0;34m-\u001b[0m\u001b[0;36m2\u001b[0m\u001b[0;34m)\u001b[0m\u001b[0;34m\u001b[0m\u001b[0;34m\u001b[0m\u001b[0m\n\u001b[0m",
            "\u001b[0;32m<ipython-input-1-6daceb12140d>\u001b[0m in \u001b[0;36mfibonacci\u001b[0;34m(n)\u001b[0m\n\u001b[1;32m      4\u001b[0m   \u001b[0;32mif\u001b[0m \u001b[0mn\u001b[0m\u001b[0;34m==\u001b[0m\u001b[0;36m1\u001b[0m \u001b[0;32mor\u001b[0m \u001b[0mn\u001b[0m\u001b[0;34m==\u001b[0m\u001b[0;36m2\u001b[0m\u001b[0;34m:\u001b[0m\u001b[0;34m\u001b[0m\u001b[0;34m\u001b[0m\u001b[0m\n\u001b[1;32m      5\u001b[0m     \u001b[0;32mreturn\u001b[0m \u001b[0;36m1\u001b[0m\u001b[0;34m\u001b[0m\u001b[0;34m\u001b[0m\u001b[0m\n\u001b[0;32m----> 6\u001b[0;31m   \u001b[0;32mreturn\u001b[0m \u001b[0mfibonacci\u001b[0m\u001b[0;34m(\u001b[0m\u001b[0mn\u001b[0m\u001b[0;34m-\u001b[0m\u001b[0;36m1\u001b[0m\u001b[0;34m)\u001b[0m \u001b[0;34m+\u001b[0m \u001b[0mfibonacci\u001b[0m\u001b[0;34m(\u001b[0m\u001b[0mn\u001b[0m\u001b[0;34m-\u001b[0m\u001b[0;36m2\u001b[0m\u001b[0;34m)\u001b[0m\u001b[0;34m\u001b[0m\u001b[0;34m\u001b[0m\u001b[0m\n\u001b[0m",
            "\u001b[0;31mKeyboardInterrupt\u001b[0m: "
          ]
        }
      ]
    },
    {
      "cell_type": "code",
      "source": [
        "answer=[0,1,1]\n",
        "def fibonacci2(n):\n",
        "  if n >= len(answer):\n",
        "    re = fibonacci2(n-1) + fibonacci2(n-2)\n",
        "    answer.append(re)\n",
        "  return answer[n]"
      ],
      "metadata": {
        "id": "2IHAolvP9L8g"
      },
      "execution_count": null,
      "outputs": []
    },
    {
      "cell_type": "code",
      "source": [
        "for i in range(35,50):\n",
        "  print(\"#\",i,end=':')\n",
        "  s = time.time()\n",
        "  re = fibonacci2(i)\n",
        "  e = time.time()\n",
        "  print(f\"소요시간:{e-s:.4f} 결과:{re}\")"
      ],
      "metadata": {
        "colab": {
          "base_uri": "https://localhost:8080/"
        },
        "id": "yX6jH4Rf-ur8",
        "outputId": "a7f02425-559b-4abd-b17f-f73bf3221e1a"
      },
      "execution_count": null,
      "outputs": [
        {
          "output_type": "stream",
          "name": "stdout",
          "text": [
            "# 35:소요시간:0.0000 결과:9227465\n",
            "# 36:소요시간:0.0000 결과:14930352\n",
            "# 37:소요시간:0.0000 결과:24157817\n",
            "# 38:소요시간:0.0000 결과:39088169\n",
            "# 39:소요시간:0.0000 결과:63245986\n",
            "# 40:소요시간:0.0000 결과:102334155\n",
            "# 41:소요시간:0.0000 결과:165580141\n",
            "# 42:소요시간:0.0000 결과:267914296\n",
            "# 43:소요시간:0.0000 결과:433494437\n",
            "# 44:소요시간:0.0000 결과:701408733\n",
            "# 45:소요시간:0.0000 결과:1134903170\n",
            "# 46:소요시간:0.0000 결과:1836311903\n",
            "# 47:소요시간:0.0000 결과:2971215073\n",
            "# 48:소요시간:0.0000 결과:4807526976\n",
            "# 49:소요시간:0.0000 결과:7778742049\n"
          ]
        }
      ]
    },
    {
      "cell_type": "markdown",
      "source": [
        "## 딥러닝 - 처음이라네."
      ],
      "metadata": {
        "id": "EsybPy0jf95D"
      }
    },
    {
      "cell_type": "code",
      "source": [
        "import tensorflow as tf\n",
        "from tensorflow import keras\n",
        "from tensorflow.keras.datasets import mnist"
      ],
      "metadata": {
        "id": "zk27tKmA-xpT"
      },
      "execution_count": null,
      "outputs": []
    },
    {
      "cell_type": "code",
      "source": [
        "(x_train,y_train), (x_test,y_test) = mnist.load_data()"
      ],
      "metadata": {
        "id": "s6xpZk3rgK0R"
      },
      "execution_count": null,
      "outputs": []
    },
    {
      "cell_type": "code",
      "source": [
        "x_train.shape, x_test.shape"
      ],
      "metadata": {
        "colab": {
          "base_uri": "https://localhost:8080/"
        },
        "id": "BgZ97A61goP7",
        "outputId": "215ad3a0-cec4-4ba7-b140-74a03db3372f"
      },
      "execution_count": null,
      "outputs": [
        {
          "output_type": "execute_result",
          "data": {
            "text/plain": [
              "((60000, 28, 28), (10000, 28, 28))"
            ]
          },
          "metadata": {},
          "execution_count": 7
        }
      ]
    },
    {
      "cell_type": "markdown",
      "source": [
        "### 전처리"
      ],
      "metadata": {
        "id": "dNPEsfpyhkED"
      }
    },
    {
      "cell_type": "code",
      "source": [
        "x_train = x_train.reshape(-1,28*28)\n",
        "x_test = x_test.reshape(-1,28*28)\n",
        "x_train.shape, x_test.shape"
      ],
      "metadata": {
        "colab": {
          "base_uri": "https://localhost:8080/"
        },
        "id": "S57UpbMphHx6",
        "outputId": "10a4eee0-5ce1-4b85-e3a7-7b27afb33b0b"
      },
      "execution_count": null,
      "outputs": [
        {
          "output_type": "execute_result",
          "data": {
            "text/plain": [
              "((60000, 784), (10000, 784))"
            ]
          },
          "metadata": {},
          "execution_count": 8
        }
      ]
    },
    {
      "cell_type": "code",
      "source": [
        "import numpy as np"
      ],
      "metadata": {
        "id": "Cwkc1CXUhwd7"
      },
      "execution_count": null,
      "outputs": []
    },
    {
      "cell_type": "code",
      "source": [
        "np.max(x_train),np.min(x_train)"
      ],
      "metadata": {
        "colab": {
          "base_uri": "https://localhost:8080/"
        },
        "id": "2-5cS7Yahoza",
        "outputId": "e1b8e76b-54f7-4543-b2bc-934f76136e0c"
      },
      "execution_count": null,
      "outputs": [
        {
          "output_type": "execute_result",
          "data": {
            "text/plain": [
              "(255, 0)"
            ]
          },
          "metadata": {},
          "execution_count": 13
        }
      ]
    },
    {
      "cell_type": "code",
      "source": [
        "x_train = x_train/255.0\n",
        "x_test = x_test/255.0"
      ],
      "metadata": {
        "id": "DukQr5o2htmk"
      },
      "execution_count": null,
      "outputs": []
    },
    {
      "cell_type": "code",
      "source": [
        "np.max(x_train),np.min(x_train)"
      ],
      "metadata": {
        "colab": {
          "base_uri": "https://localhost:8080/"
        },
        "id": "s3CWV1RdiJn-",
        "outputId": "db419921-49dd-4342-c65e-9e5119db3371"
      },
      "execution_count": null,
      "outputs": [
        {
          "output_type": "execute_result",
          "data": {
            "text/plain": [
              "(1.0, 0.0)"
            ]
          },
          "metadata": {},
          "execution_count": 15
        }
      ]
    },
    {
      "cell_type": "markdown",
      "source": [
        "### 모델 생성"
      ],
      "metadata": {
        "id": "RKXS51FAjduw"
      }
    },
    {
      "cell_type": "code",
      "source": [
        "from keras import models\n",
        "from keras import layers"
      ],
      "metadata": {
        "id": "-Frj2yLLiKyz"
      },
      "execution_count": null,
      "outputs": []
    },
    {
      "cell_type": "code",
      "source": [
        "model = models.Sequential()"
      ],
      "metadata": {
        "id": "ID5-Qydejk7I"
      },
      "execution_count": null,
      "outputs": []
    },
    {
      "cell_type": "code",
      "source": [
        "model.add(layers.Input(shape = (784,)))\n",
        "model.add(layers.Dense(512,activation='relu'))\n",
        "model.add(layers.Dense(10,activation='softmax'))"
      ],
      "metadata": {
        "id": "dmXEeto4jvR4"
      },
      "execution_count": null,
      "outputs": []
    },
    {
      "cell_type": "code",
      "source": [
        "model.compile(loss=keras.losses.sparse_categorical_crossentropy,\n",
        "              optimizer='adam',\n",
        "              metrics=['accuracy'])\n",
        "model.summary()"
      ],
      "metadata": {
        "colab": {
          "base_uri": "https://localhost:8080/"
        },
        "id": "PWsh1ZPjkuU1",
        "outputId": "23689aa9-57f0-4119-8b81-7e7a8883c6fc"
      },
      "execution_count": null,
      "outputs": [
        {
          "output_type": "stream",
          "name": "stdout",
          "text": [
            "Model: \"sequential\"\n",
            "_________________________________________________________________\n",
            " Layer (type)                Output Shape              Param #   \n",
            "=================================================================\n",
            " input_2 (InputLayer)        multiple                  0         \n",
            "                                                                 \n",
            " dense (Dense)               (None, 512)               401920    \n",
            "                                                                 \n",
            " dense_1 (Dense)             (None, 10)                5130      \n",
            "                                                                 \n",
            "=================================================================\n",
            "Total params: 407,050\n",
            "Trainable params: 407,050\n",
            "Non-trainable params: 0\n",
            "_________________________________________________________________\n"
          ]
        }
      ]
    },
    {
      "cell_type": "markdown",
      "source": [
        "### 학습"
      ],
      "metadata": {
        "id": "PNboI_Q9mDqc"
      }
    },
    {
      "cell_type": "code",
      "source": [
        "hist = model.fit(x_train,y_train,epochs=100,\n",
        "                 batch_size=128,\n",
        "                 validation_split=0.2)"
      ],
      "metadata": {
        "colab": {
          "base_uri": "https://localhost:8080/"
        },
        "id": "M6Y0yH4XlsqJ",
        "outputId": "32ddefe8-9c03-47b8-c749-f928f94cf062"
      },
      "execution_count": null,
      "outputs": [
        {
          "output_type": "stream",
          "name": "stdout",
          "text": [
            "Epoch 1/100\n",
            "375/375 [==============================] - 7s 16ms/step - loss: 0.3009 - accuracy: 0.9148 - val_loss: 0.1512 - val_accuracy: 0.9565\n",
            "Epoch 2/100\n",
            "375/375 [==============================] - 4s 12ms/step - loss: 0.1237 - accuracy: 0.9640 - val_loss: 0.1074 - val_accuracy: 0.9687\n",
            "Epoch 3/100\n",
            "375/375 [==============================] - 5s 12ms/step - loss: 0.0793 - accuracy: 0.9770 - val_loss: 0.0907 - val_accuracy: 0.9732\n",
            "Epoch 4/100\n",
            "375/375 [==============================] - 6s 15ms/step - loss: 0.0577 - accuracy: 0.9832 - val_loss: 0.0797 - val_accuracy: 0.9758\n",
            "Epoch 5/100\n",
            "375/375 [==============================] - 5s 12ms/step - loss: 0.0422 - accuracy: 0.9878 - val_loss: 0.0770 - val_accuracy: 0.9747\n",
            "Epoch 6/100\n",
            "375/375 [==============================] - 6s 16ms/step - loss: 0.0322 - accuracy: 0.9908 - val_loss: 0.0767 - val_accuracy: 0.9775\n",
            "Epoch 7/100\n",
            "375/375 [==============================] - 5s 14ms/step - loss: 0.0223 - accuracy: 0.9946 - val_loss: 0.0743 - val_accuracy: 0.9779\n",
            "Epoch 8/100\n",
            "375/375 [==============================] - 5s 12ms/step - loss: 0.0170 - accuracy: 0.9959 - val_loss: 0.0717 - val_accuracy: 0.9776\n",
            "Epoch 9/100\n",
            "375/375 [==============================] - 6s 15ms/step - loss: 0.0135 - accuracy: 0.9969 - val_loss: 0.0718 - val_accuracy: 0.9793\n",
            "Epoch 10/100\n",
            "375/375 [==============================] - 5s 13ms/step - loss: 0.0092 - accuracy: 0.9984 - val_loss: 0.0767 - val_accuracy: 0.9790\n",
            "Epoch 11/100\n",
            "375/375 [==============================] - 5s 12ms/step - loss: 0.0081 - accuracy: 0.9985 - val_loss: 0.0768 - val_accuracy: 0.9797\n",
            "Epoch 12/100\n",
            "375/375 [==============================] - 6s 15ms/step - loss: 0.0057 - accuracy: 0.9991 - val_loss: 0.0701 - val_accuracy: 0.9818\n",
            "Epoch 13/100\n",
            "375/375 [==============================] - 5s 12ms/step - loss: 0.0037 - accuracy: 0.9996 - val_loss: 0.0866 - val_accuracy: 0.9774\n",
            "Epoch 14/100\n",
            "375/375 [==============================] - 5s 13ms/step - loss: 0.0037 - accuracy: 0.9995 - val_loss: 0.0793 - val_accuracy: 0.9791\n",
            "Epoch 15/100\n",
            "375/375 [==============================] - 7s 19ms/step - loss: 0.0130 - accuracy: 0.9961 - val_loss: 0.1119 - val_accuracy: 0.9730\n",
            "Epoch 16/100\n",
            "375/375 [==============================] - 5s 12ms/step - loss: 0.0092 - accuracy: 0.9972 - val_loss: 0.0889 - val_accuracy: 0.9792\n",
            "Epoch 17/100\n",
            "375/375 [==============================] - 5s 14ms/step - loss: 0.0030 - accuracy: 0.9994 - val_loss: 0.0814 - val_accuracy: 0.9805\n",
            "Epoch 18/100\n",
            "375/375 [==============================] - 5s 12ms/step - loss: 0.0011 - accuracy: 1.0000 - val_loss: 0.0767 - val_accuracy: 0.9823\n",
            "Epoch 19/100\n",
            "375/375 [==============================] - 6s 17ms/step - loss: 6.2318e-04 - accuracy: 1.0000 - val_loss: 0.0774 - val_accuracy: 0.9827\n",
            "Epoch 20/100\n",
            "375/375 [==============================] - 4s 12ms/step - loss: 4.0652e-04 - accuracy: 1.0000 - val_loss: 0.0773 - val_accuracy: 0.9827\n",
            "Epoch 21/100\n",
            "375/375 [==============================] - 5s 12ms/step - loss: 3.2472e-04 - accuracy: 1.0000 - val_loss: 0.0788 - val_accuracy: 0.9826\n",
            "Epoch 22/100\n",
            "375/375 [==============================] - 6s 15ms/step - loss: 2.8297e-04 - accuracy: 1.0000 - val_loss: 0.0788 - val_accuracy: 0.9831\n",
            "Epoch 23/100\n",
            "375/375 [==============================] - 5s 12ms/step - loss: 2.5058e-04 - accuracy: 1.0000 - val_loss: 0.0807 - val_accuracy: 0.9827\n",
            "Epoch 24/100\n",
            "375/375 [==============================] - 5s 13ms/step - loss: 0.0157 - accuracy: 0.9952 - val_loss: 0.1143 - val_accuracy: 0.9754\n",
            "Epoch 25/100\n",
            "375/375 [==============================] - 5s 13ms/step - loss: 0.0119 - accuracy: 0.9959 - val_loss: 0.0880 - val_accuracy: 0.9803\n",
            "Epoch 26/100\n",
            "375/375 [==============================] - 4s 12ms/step - loss: 0.0025 - accuracy: 0.9995 - val_loss: 0.0880 - val_accuracy: 0.9809\n",
            "Epoch 27/100\n",
            "375/375 [==============================] - 6s 15ms/step - loss: 0.0011 - accuracy: 0.9998 - val_loss: 0.0841 - val_accuracy: 0.9827\n",
            "Epoch 28/100\n",
            "375/375 [==============================] - 5s 12ms/step - loss: 3.7848e-04 - accuracy: 1.0000 - val_loss: 0.0844 - val_accuracy: 0.9833\n",
            "Epoch 29/100\n",
            "375/375 [==============================] - 4s 12ms/step - loss: 2.0972e-04 - accuracy: 1.0000 - val_loss: 0.0849 - val_accuracy: 0.9830\n",
            "Epoch 30/100\n",
            "375/375 [==============================] - 6s 16ms/step - loss: 1.6983e-04 - accuracy: 1.0000 - val_loss: 0.0855 - val_accuracy: 0.9826\n",
            "Epoch 31/100\n",
            "375/375 [==============================] - 5s 13ms/step - loss: 1.4483e-04 - accuracy: 1.0000 - val_loss: 0.0863 - val_accuracy: 0.9830\n",
            "Epoch 32/100\n",
            "375/375 [==============================] - 6s 15ms/step - loss: 1.2613e-04 - accuracy: 1.0000 - val_loss: 0.0873 - val_accuracy: 0.9827\n",
            "Epoch 33/100\n",
            "375/375 [==============================] - 5s 13ms/step - loss: 1.0884e-04 - accuracy: 1.0000 - val_loss: 0.0883 - val_accuracy: 0.9834\n",
            "Epoch 34/100\n",
            "375/375 [==============================] - 4s 12ms/step - loss: 9.5175e-05 - accuracy: 1.0000 - val_loss: 0.0884 - val_accuracy: 0.9835\n",
            "Epoch 35/100\n",
            "375/375 [==============================] - 6s 15ms/step - loss: 8.4255e-05 - accuracy: 1.0000 - val_loss: 0.0892 - val_accuracy: 0.9837\n",
            "Epoch 36/100\n",
            "375/375 [==============================] - 5s 13ms/step - loss: 7.3172e-05 - accuracy: 1.0000 - val_loss: 0.0897 - val_accuracy: 0.9832\n",
            "Epoch 37/100\n",
            "375/375 [==============================] - 5s 13ms/step - loss: 6.5043e-05 - accuracy: 1.0000 - val_loss: 0.0904 - val_accuracy: 0.9836\n",
            "Epoch 38/100\n",
            "375/375 [==============================] - 5s 14ms/step - loss: 5.6580e-05 - accuracy: 1.0000 - val_loss: 0.0916 - val_accuracy: 0.9836\n",
            "Epoch 39/100\n",
            "375/375 [==============================] - 5s 12ms/step - loss: 4.8107e-05 - accuracy: 1.0000 - val_loss: 0.0926 - val_accuracy: 0.9836\n",
            "Epoch 40/100\n",
            "375/375 [==============================] - 6s 15ms/step - loss: 0.0084 - accuracy: 0.9979 - val_loss: 0.1691 - val_accuracy: 0.9669\n",
            "Epoch 41/100\n",
            "375/375 [==============================] - 5s 12ms/step - loss: 0.0203 - accuracy: 0.9936 - val_loss: 0.0995 - val_accuracy: 0.9800\n",
            "Epoch 42/100\n",
            "375/375 [==============================] - 5s 13ms/step - loss: 0.0017 - accuracy: 0.9995 - val_loss: 0.0970 - val_accuracy: 0.9810\n",
            "Epoch 43/100\n",
            "375/375 [==============================] - 5s 15ms/step - loss: 3.4723e-04 - accuracy: 1.0000 - val_loss: 0.0918 - val_accuracy: 0.9822\n",
            "Epoch 44/100\n",
            "375/375 [==============================] - 4s 12ms/step - loss: 1.8454e-04 - accuracy: 1.0000 - val_loss: 0.0920 - val_accuracy: 0.9828\n",
            "Epoch 45/100\n",
            "375/375 [==============================] - 5s 14ms/step - loss: 1.3647e-04 - accuracy: 1.0000 - val_loss: 0.0920 - val_accuracy: 0.9833\n",
            "Epoch 46/100\n",
            "375/375 [==============================] - 5s 13ms/step - loss: 1.1271e-04 - accuracy: 1.0000 - val_loss: 0.0929 - val_accuracy: 0.9835\n",
            "Epoch 47/100\n",
            "375/375 [==============================] - 5s 12ms/step - loss: 9.5992e-05 - accuracy: 1.0000 - val_loss: 0.0934 - val_accuracy: 0.9834\n",
            "Epoch 48/100\n",
            "375/375 [==============================] - 6s 15ms/step - loss: 8.1809e-05 - accuracy: 1.0000 - val_loss: 0.0942 - val_accuracy: 0.9833\n",
            "Epoch 49/100\n",
            "375/375 [==============================] - 5s 13ms/step - loss: 7.1417e-05 - accuracy: 1.0000 - val_loss: 0.0952 - val_accuracy: 0.9835\n",
            "Epoch 50/100\n",
            "375/375 [==============================] - 5s 12ms/step - loss: 6.1527e-05 - accuracy: 1.0000 - val_loss: 0.0960 - val_accuracy: 0.9833\n",
            "Epoch 51/100\n",
            "375/375 [==============================] - 7s 19ms/step - loss: 5.2829e-05 - accuracy: 1.0000 - val_loss: 0.0962 - val_accuracy: 0.9835\n",
            "Epoch 52/100\n",
            "375/375 [==============================] - 5s 13ms/step - loss: 4.6467e-05 - accuracy: 1.0000 - val_loss: 0.0972 - val_accuracy: 0.9833\n",
            "Epoch 53/100\n",
            "375/375 [==============================] - 6s 15ms/step - loss: 4.0263e-05 - accuracy: 1.0000 - val_loss: 0.0982 - val_accuracy: 0.9829\n",
            "Epoch 54/100\n",
            "375/375 [==============================] - 5s 12ms/step - loss: 3.5160e-05 - accuracy: 1.0000 - val_loss: 0.0985 - val_accuracy: 0.9837\n",
            "Epoch 55/100\n",
            "375/375 [==============================] - 4s 12ms/step - loss: 3.0176e-05 - accuracy: 1.0000 - val_loss: 0.1001 - val_accuracy: 0.9837\n",
            "Epoch 56/100\n",
            "375/375 [==============================] - 6s 16ms/step - loss: 2.6441e-05 - accuracy: 1.0000 - val_loss: 0.1010 - val_accuracy: 0.9834\n",
            "Epoch 57/100\n",
            "375/375 [==============================] - 5s 12ms/step - loss: 2.3017e-05 - accuracy: 1.0000 - val_loss: 0.1020 - val_accuracy: 0.9832\n",
            "Epoch 58/100\n",
            "375/375 [==============================] - 5s 12ms/step - loss: 2.0181e-05 - accuracy: 1.0000 - val_loss: 0.1023 - val_accuracy: 0.9832\n",
            "Epoch 59/100\n",
            "375/375 [==============================] - 5s 13ms/step - loss: 1.7259e-05 - accuracy: 1.0000 - val_loss: 0.1033 - val_accuracy: 0.9831\n",
            "Epoch 60/100\n",
            "375/375 [==============================] - 4s 12ms/step - loss: 1.4897e-05 - accuracy: 1.0000 - val_loss: 0.1041 - val_accuracy: 0.9837\n",
            "Epoch 61/100\n",
            "375/375 [==============================] - 5s 14ms/step - loss: 1.2651e-05 - accuracy: 1.0000 - val_loss: 0.1051 - val_accuracy: 0.9833\n",
            "Epoch 62/100\n",
            "375/375 [==============================] - 5s 12ms/step - loss: 1.0779e-05 - accuracy: 1.0000 - val_loss: 0.1062 - val_accuracy: 0.9833\n",
            "Epoch 63/100\n",
            "375/375 [==============================] - 4s 12ms/step - loss: 9.5314e-06 - accuracy: 1.0000 - val_loss: 0.1066 - val_accuracy: 0.9834\n",
            "Epoch 64/100\n",
            "375/375 [==============================] - 6s 15ms/step - loss: 7.9584e-06 - accuracy: 1.0000 - val_loss: 0.1084 - val_accuracy: 0.9830\n",
            "Epoch 65/100\n",
            "375/375 [==============================] - 5s 12ms/step - loss: 6.7058e-06 - accuracy: 1.0000 - val_loss: 0.1090 - val_accuracy: 0.9834\n",
            "Epoch 66/100\n",
            "375/375 [==============================] - 5s 12ms/step - loss: 5.8642e-06 - accuracy: 1.0000 - val_loss: 0.1098 - val_accuracy: 0.9834\n",
            "Epoch 67/100\n",
            "375/375 [==============================] - 5s 14ms/step - loss: 4.8061e-06 - accuracy: 1.0000 - val_loss: 0.1111 - val_accuracy: 0.9832\n",
            "Epoch 68/100\n",
            "375/375 [==============================] - 5s 13ms/step - loss: 4.1420e-06 - accuracy: 1.0000 - val_loss: 0.1120 - val_accuracy: 0.9832\n",
            "Epoch 69/100\n",
            "375/375 [==============================] - 6s 15ms/step - loss: 3.7533e-06 - accuracy: 1.0000 - val_loss: 0.1127 - val_accuracy: 0.9837\n",
            "Epoch 70/100\n",
            "375/375 [==============================] - 5s 13ms/step - loss: 2.9183e-06 - accuracy: 1.0000 - val_loss: 0.1144 - val_accuracy: 0.9834\n",
            "Epoch 71/100\n",
            "375/375 [==============================] - 5s 13ms/step - loss: 2.5141e-06 - accuracy: 1.0000 - val_loss: 0.1159 - val_accuracy: 0.9840\n",
            "Epoch 72/100\n",
            "375/375 [==============================] - 6s 15ms/step - loss: 2.0924e-06 - accuracy: 1.0000 - val_loss: 0.1173 - val_accuracy: 0.9837\n",
            "Epoch 73/100\n",
            "375/375 [==============================] - 5s 13ms/step - loss: 1.7258e-06 - accuracy: 1.0000 - val_loss: 0.1182 - val_accuracy: 0.9836\n",
            "Epoch 74/100\n",
            "375/375 [==============================] - 5s 15ms/step - loss: 1.4839e-06 - accuracy: 1.0000 - val_loss: 0.1192 - val_accuracy: 0.9837\n",
            "Epoch 75/100\n",
            "375/375 [==============================] - 5s 13ms/step - loss: 1.2373e-06 - accuracy: 1.0000 - val_loss: 0.1196 - val_accuracy: 0.9836\n",
            "Epoch 76/100\n",
            "375/375 [==============================] - 5s 13ms/step - loss: 1.0057e-06 - accuracy: 1.0000 - val_loss: 0.1225 - val_accuracy: 0.9834\n",
            "Epoch 77/100\n",
            "375/375 [==============================] - 6s 16ms/step - loss: 8.6707e-07 - accuracy: 1.0000 - val_loss: 0.1230 - val_accuracy: 0.9837\n",
            "Epoch 78/100\n",
            "375/375 [==============================] - 5s 12ms/step - loss: 7.3374e-07 - accuracy: 1.0000 - val_loss: 0.1241 - val_accuracy: 0.9835\n",
            "Epoch 79/100\n",
            "375/375 [==============================] - 5s 13ms/step - loss: 6.1339e-07 - accuracy: 1.0000 - val_loss: 0.1246 - val_accuracy: 0.9835\n",
            "Epoch 80/100\n",
            "375/375 [==============================] - 5s 13ms/step - loss: 5.2829e-07 - accuracy: 1.0000 - val_loss: 0.1253 - val_accuracy: 0.9833\n",
            "Epoch 81/100\n",
            "375/375 [==============================] - 4s 12ms/step - loss: 4.4685e-07 - accuracy: 1.0000 - val_loss: 0.1268 - val_accuracy: 0.9831\n",
            "Epoch 82/100\n",
            "375/375 [==============================] - 6s 15ms/step - loss: 3.7415e-07 - accuracy: 1.0000 - val_loss: 0.1281 - val_accuracy: 0.9833\n",
            "Epoch 83/100\n",
            "375/375 [==============================] - 4s 12ms/step - loss: 3.3234e-07 - accuracy: 1.0000 - val_loss: 0.1295 - val_accuracy: 0.9833\n",
            "Epoch 84/100\n",
            "375/375 [==============================] - 5s 12ms/step - loss: 2.8446e-07 - accuracy: 1.0000 - val_loss: 0.1298 - val_accuracy: 0.9838\n",
            "Epoch 85/100\n",
            "375/375 [==============================] - 6s 15ms/step - loss: 2.4403e-07 - accuracy: 1.0000 - val_loss: 0.1315 - val_accuracy: 0.9834\n",
            "Epoch 86/100\n",
            "375/375 [==============================] - 5s 12ms/step - loss: 2.0457e-07 - accuracy: 1.0000 - val_loss: 0.1326 - val_accuracy: 0.9834\n",
            "Epoch 87/100\n",
            "375/375 [==============================] - 5s 14ms/step - loss: 1.7390e-07 - accuracy: 1.0000 - val_loss: 0.1339 - val_accuracy: 0.9835\n",
            "Epoch 88/100\n",
            "375/375 [==============================] - 5s 13ms/step - loss: 1.5239e-07 - accuracy: 1.0000 - val_loss: 0.1348 - val_accuracy: 0.9835\n",
            "Epoch 89/100\n",
            "375/375 [==============================] - 5s 12ms/step - loss: 1.3167e-07 - accuracy: 1.0000 - val_loss: 0.1343 - val_accuracy: 0.9833\n",
            "Epoch 90/100\n",
            "375/375 [==============================] - 6s 15ms/step - loss: 1.1630e-07 - accuracy: 1.0000 - val_loss: 0.1369 - val_accuracy: 0.9834\n",
            "Epoch 91/100\n",
            "375/375 [==============================] - 4s 12ms/step - loss: 1.0334e-07 - accuracy: 1.0000 - val_loss: 0.1371 - val_accuracy: 0.9834\n",
            "Epoch 92/100\n",
            "375/375 [==============================] - 5s 12ms/step - loss: 9.1493e-08 - accuracy: 1.0000 - val_loss: 0.1383 - val_accuracy: 0.9835\n",
            "Epoch 93/100\n",
            "375/375 [==============================] - 6s 15ms/step - loss: 8.0345e-08 - accuracy: 1.0000 - val_loss: 0.1386 - val_accuracy: 0.9837\n",
            "Epoch 94/100\n",
            "375/375 [==============================] - 5s 13ms/step - loss: 7.1511e-08 - accuracy: 1.0000 - val_loss: 0.1401 - val_accuracy: 0.9834\n",
            "Epoch 95/100\n",
            "375/375 [==============================] - 6s 17ms/step - loss: 6.4321e-08 - accuracy: 1.0000 - val_loss: 0.1401 - val_accuracy: 0.9837\n",
            "Epoch 96/100\n",
            "375/375 [==============================] - 6s 15ms/step - loss: 5.7635e-08 - accuracy: 1.0000 - val_loss: 0.1411 - val_accuracy: 0.9837\n",
            "Epoch 97/100\n",
            "375/375 [==============================] - 5s 14ms/step - loss: 5.2132e-08 - accuracy: 1.0000 - val_loss: 0.1419 - val_accuracy: 0.9838\n",
            "Epoch 98/100\n",
            "375/375 [==============================] - 5s 13ms/step - loss: 4.7199e-08 - accuracy: 1.0000 - val_loss: 0.1426 - val_accuracy: 0.9837\n",
            "Epoch 99/100\n",
            "375/375 [==============================] - 5s 12ms/step - loss: 4.3131e-08 - accuracy: 1.0000 - val_loss: 0.1436 - val_accuracy: 0.9836\n",
            "Epoch 100/100\n",
            "375/375 [==============================] - 6s 15ms/step - loss: 3.9918e-08 - accuracy: 1.0000 - val_loss: 0.1438 - val_accuracy: 0.9837\n"
          ]
        }
      ]
    },
    {
      "cell_type": "code",
      "source": [
        "import matplotlib.pyplot as plt"
      ],
      "metadata": {
        "id": "wD0EAtgbmP4S"
      },
      "execution_count": null,
      "outputs": []
    },
    {
      "cell_type": "code",
      "source": [
        "plt.plot(hist.history['loss'] ,'r-',label='loss')\n",
        "plt.plot(hist.history['val_loss'] ,'b-.',label='val loss')\n",
        "plt.legend()\n",
        "plt.show()"
      ],
      "metadata": {
        "colab": {
          "base_uri": "https://localhost:8080/",
          "height": 430
        },
        "id": "sMqDxR1coZlJ",
        "outputId": "c718d6d3-7bb2-4075-fb43-c340d84a1a5d"
      },
      "execution_count": null,
      "outputs": [
        {
          "output_type": "display_data",
          "data": {
            "text/plain": [
              "<Figure size 640x480 with 1 Axes>"
            ],
            "image/png": "[encoded data removed]"
          },
          "metadata": {}
        }
      ]
    },
    {
      "cell_type": "markdown",
      "source": [
        "### 예측 및 평가"
      ],
      "metadata": {
        "id": "486xoQkvpaVV"
      }
    },
    {
      "cell_type": "code",
      "source": [
        "pred = model.predict(x_test)"
      ],
      "metadata": {
        "colab": {
          "base_uri": "https://localhost:8080/"
        },
        "id": "menvTgUGoug3",
        "outputId": "c12bc030-2968-484a-b175-8db8f62197b6"
      },
      "execution_count": null,
      "outputs": [
        {
          "output_type": "stream",
          "name": "stdout",
          "text": [
            "313/313 [==============================] - 2s 5ms/step\n"
          ]
        }
      ]
    },
    {
      "cell_type": "code",
      "source": [
        "pred[0], y_test[0]"
      ],
      "metadata": {
        "colab": {
          "base_uri": "https://localhost:8080/"
        },
        "id": "zRc7PBDZpjGA",
        "outputId": "e86d91bb-7c14-4774-8036-7b1a25b66b7e"
      },
      "execution_count": null,
      "outputs": [
        {
          "output_type": "execute_result",
          "data": {
            "text/plain": [
              "(array([8.7113500e-23, 3.9855440e-25, 1.2130761e-18, 2.0866847e-15,\n",
              "        1.1517134e-37, 3.8282095e-27, 1.3483102e-35, 9.9999994e-01,\n",
              "        2.2738442e-23, 4.1600258e-16], dtype=float32),\n",
              " 7)"
            ]
          },
          "metadata": {},
          "execution_count": 31
        }
      ]
    },
    {
      "cell_type": "code",
      "source": [
        "model.evaluate(x_test,y_test)"
      ],
      "metadata": {
        "colab": {
          "base_uri": "https://localhost:8080/"
        },
        "id": "tU0mKIoYpkph",
        "outputId": "a17708e0-868d-4f43-db13-dd871fe96453"
      },
      "execution_count": null,
      "outputs": [
        {
          "output_type": "stream",
          "name": "stdout",
          "text": [
            "313/313 [==============================] - 2s 5ms/step - loss: 0.1279 - accuracy: 0.9837\n"
          ]
        },
        {
          "output_type": "execute_result",
          "data": {
            "text/plain": [
              "[0.1278533935546875, 0.9836999773979187]"
            ]
          },
          "metadata": {},
          "execution_count": 32
        }
      ]
    },
    {
      "cell_type": "markdown",
      "source": [
        "## 데이터 표현"
      ],
      "metadata": {
        "id": "yfMpaAsUqOWn"
      }
    },
    {
      "cell_type": "markdown",
      "source": [
        "### 스칼라 - 텐서 0"
      ],
      "metadata": {
        "id": "yah4kzGstgeT"
      }
    },
    {
      "cell_type": "code",
      "source": [
        "import numpy as np"
      ],
      "metadata": {
        "id": "Q9o_tCiVp3CC"
      },
      "execution_count": null,
      "outputs": []
    },
    {
      "cell_type": "code",
      "source": [
        "x = np.array(12)\n",
        "x"
      ],
      "metadata": {
        "colab": {
          "base_uri": "https://localhost:8080/"
        },
        "id": "kSyk_2QytQ0c",
        "outputId": "50cdc6b5-390a-4607-e1cb-e3232e2bb2a5"
      },
      "execution_count": null,
      "outputs": [
        {
          "output_type": "execute_result",
          "data": {
            "text/plain": [
              "array(12)"
            ]
          },
          "metadata": {},
          "execution_count": 34
        }
      ]
    },
    {
      "cell_type": "code",
      "source": [
        "x.ndim"
      ],
      "metadata": {
        "colab": {
          "base_uri": "https://localhost:8080/"
        },
        "id": "vSMyML2JtTaY",
        "outputId": "5efb0fc4-1671-4074-aca2-9ef254d4863f"
      },
      "execution_count": null,
      "outputs": [
        {
          "output_type": "execute_result",
          "data": {
            "text/plain": [
              "0"
            ]
          },
          "metadata": {},
          "execution_count": 36
        }
      ]
    },
    {
      "cell_type": "markdown",
      "source": [
        "### 벡터 텐서1"
      ],
      "metadata": {
        "id": "KO-BzxrDtjpR"
      }
    },
    {
      "cell_type": "code",
      "source": [
        "x = np.array([1,2,3,4])\n",
        "x.ndim , x.shape"
      ],
      "metadata": {
        "colab": {
          "base_uri": "https://localhost:8080/"
        },
        "id": "HjAQTrTQtUsJ",
        "outputId": "150a7c35-07fc-46f7-f201-3df1f254596d"
      },
      "execution_count": null,
      "outputs": [
        {
          "output_type": "execute_result",
          "data": {
            "text/plain": [
              "(1, (4,))"
            ]
          },
          "metadata": {},
          "execution_count": 38
        }
      ]
    },
    {
      "cell_type": "markdown",
      "source": [
        "### 행렬 - 텐서2"
      ],
      "metadata": {
        "id": "L-l74374t0K3"
      }
    },
    {
      "cell_type": "code",
      "source": [
        "x = np.array([[1,2,3],[4,5,6]])\n",
        "x.ndim, x.shape"
      ],
      "metadata": {
        "colab": {
          "base_uri": "https://localhost:8080/"
        },
        "id": "LIIBoVxctr_k",
        "outputId": "5a540a68-1382-4c3b-b313-eb2e32224d85"
      },
      "execution_count": null,
      "outputs": [
        {
          "output_type": "execute_result",
          "data": {
            "text/plain": [
              "(2, (2, 3))"
            ]
          },
          "metadata": {},
          "execution_count": 39
        }
      ]
    },
    {
      "cell_type": "code",
      "source": [
        "#다차원\n",
        "x = np.array([[[1,2,3],[4,5,6]],\n",
        "              [[1,2,3],[4,5,6]]])\n",
        "x.ndim,x.shape"
      ],
      "metadata": {
        "colab": {
          "base_uri": "https://localhost:8080/"
        },
        "id": "HUGKmqRIt_Yh",
        "outputId": "a8f3b7c5-72f8-49b7-ff87-bad4282bceaf"
      },
      "execution_count": null,
      "outputs": [
        {
          "output_type": "execute_result",
          "data": {
            "text/plain": [
              "(3, (2, 2, 3))"
            ]
          },
          "metadata": {},
          "execution_count": 40
        }
      ]
    },
    {
      "cell_type": "code",
      "source": [
        "x_train.ndim, x_train.shape , x_train.reshape(-1,28,28).shape"
      ],
      "metadata": {
        "colab": {
          "base_uri": "https://localhost:8080/"
        },
        "id": "DJh2jCqouNQB",
        "outputId": "5549ff19-bac3-46df-af9f-a123eec3f467"
      },
      "execution_count": null,
      "outputs": [
        {
          "output_type": "execute_result",
          "data": {
            "text/plain": [
              "(2, (60000, 784), (60000, 28, 28))"
            ]
          },
          "metadata": {},
          "execution_count": 43
        }
      ]
    },
    {
      "cell_type": "code",
      "source": [
        "img = x_train[0].reshape(28,28)\n",
        "plt.imshow(img)\n",
        "plt.title(str(y_train[0]))\n",
        "plt.show()"
      ],
      "metadata": {
        "colab": {
          "base_uri": "https://localhost:8080/",
          "height": 452
        },
        "id": "xCweVvZQubFv",
        "outputId": "a9d80e29-3b58-413b-e614-f16221863309"
      },
      "execution_count": null,
      "outputs": [
        {
          "output_type": "display_data",
          "data": {
            "text/plain": [
              "<Figure size 640x480 with 1 Axes>"
            ],
            "image/png": "[encoded data removed]"
          },
          "metadata": {}
        }
      ]
    },
    {
      "cell_type": "code",
      "source": [
        "batch1 = x_train[:128]\n",
        "batch2 = x_train[128:256]\n",
        "batch1.shape, batch2.shape"
      ],
      "metadata": {
        "colab": {
          "base_uri": "https://localhost:8080/"
        },
        "id": "xen-vzykvCtf",
        "outputId": "103530bd-3f1e-452b-ac35-ca33f4c4369c"
      },
      "execution_count": null,
      "outputs": [
        {
          "output_type": "execute_result",
          "data": {
            "text/plain": [
              "((128, 784), (128, 784))"
            ]
          },
          "metadata": {},
          "execution_count": 45
        }
      ]
    },
    {
      "cell_type": "code",
      "source": [
        "batches = []\n",
        "for i in range(int(len(x_train)/128)):\n",
        "  batches.append(x_train[i*128:(i+1)*128])\n",
        "len(batches)"
      ],
      "metadata": {
        "colab": {
          "base_uri": "https://localhost:8080/"
        },
        "id": "YJfIlH7ivkD7",
        "outputId": "62e1b136-4446-4c76-f2d8-63d962e608b0"
      },
      "execution_count": null,
      "outputs": [
        {
          "output_type": "execute_result",
          "data": {
            "text/plain": [
              "468"
            ]
          },
          "metadata": {},
          "execution_count": 47
        }
      ]
    },
    {
      "cell_type": "markdown",
      "source": [
        "연산"
      ],
      "metadata": {
        "id": "14wcif0FyE03"
      }
    },
    {
      "cell_type": "code",
      "source": [
        "def add(x2d,y2d):\n",
        "  r2d = x2d.copy()\n",
        "  for i in range(x2d.shape[0]):\n",
        "    for j in range(x2d.shape[1]):\n",
        "      r2d[i,j] = x2d[i,j] + y2d[i,j]\n",
        "  return r2d"
      ],
      "metadata": {
        "id": "KxApsf49v8Om"
      },
      "execution_count": null,
      "outputs": []
    },
    {
      "cell_type": "code",
      "source": [
        "x = np.random.random((3,3))\n",
        "y = np.random.random((3,3))\n",
        "print(x)\n",
        "print(y)\n",
        "add(x,y)"
      ],
      "metadata": {
        "id": "lWXFZs61yRLV"
      },
      "execution_count": null,
      "outputs": []
    },
    {
      "cell_type": "code",
      "source": [
        "x = np.random.random((28,28))\n",
        "y = np.random.random((28,28))\n",
        "x+y"
      ],
      "metadata": {
        "id": "EMhEqDp0yuC9"
      },
      "execution_count": null,
      "outputs": []
    },
    {
      "cell_type": "code",
      "source": [
        "import time"
      ],
      "metadata": {
        "id": "XNUfK0GOzAX5"
      },
      "execution_count": null,
      "outputs": []
    },
    {
      "cell_type": "code",
      "source": [
        "st = time.time()\n",
        "for _ in range(10000):\n",
        "  z = x+y\n",
        "et = time.time()\n",
        "print(f'{et-st:.5f}')"
      ],
      "metadata": {
        "colab": {
          "base_uri": "https://localhost:8080/"
        },
        "id": "GfCeh4_izhYr",
        "outputId": "b9a01ccb-c31c-46e0-cf0f-b83e5ca87b30"
      },
      "execution_count": null,
      "outputs": [
        {
          "output_type": "stream",
          "name": "stdout",
          "text": [
            "0.03288\n"
          ]
        }
      ]
    },
    {
      "cell_type": "code",
      "source": [
        "st = time.time()\n",
        "for _ in range(10000):\n",
        "  z = add(x,y)\n",
        "et = time.time()\n",
        "print(f'{et-st:.5f}')"
      ],
      "metadata": {
        "colab": {
          "base_uri": "https://localhost:8080/"
        },
        "id": "BCrHlDugzwq0",
        "outputId": "1c563207-a047-4d63-89b7-c9105672176b"
      },
      "execution_count": null,
      "outputs": [
        {
          "output_type": "stream",
          "name": "stdout",
          "text": [
            "6.45139\n"
          ]
        }
      ]
    },
    {
      "cell_type": "code",
      "source": [
        "def dot(x,y):\n",
        "  r = np.zeros((x.shape[0],y.shape[1]))\n",
        "  for i in range(x.shape[0]):\n",
        "    s = 0\n",
        "    for j in range(x.shape[1]):\n",
        "      s += x[i,j] *y[j]\n",
        "    r[i]=s\n",
        "  return r"
      ],
      "metadata": {
        "id": "6liwUHp-z9GK"
      },
      "execution_count": null,
      "outputs": []
    },
    {
      "cell_type": "code",
      "source": [
        "x = np.array([[1,2,3],[4,5,6]])\n",
        "y = np.array([[1],[1],[3]])\n",
        "x.shape, y.shape"
      ],
      "metadata": {
        "colab": {
          "base_uri": "https://localhost:8080/"
        },
        "id": "pMH5IFql1PLf",
        "outputId": "5d934977-0604-46b1-a2ea-253492f80f4c"
      },
      "execution_count": null,
      "outputs": [
        {
          "output_type": "execute_result",
          "data": {
            "text/plain": [
              "((2, 3), (3, 1))"
            ]
          },
          "metadata": {},
          "execution_count": 63
        }
      ]
    },
    {
      "cell_type": "code",
      "source": [
        "dot(x,y)"
      ],
      "metadata": {
        "colab": {
          "base_uri": "https://localhost:8080/"
        },
        "id": "cFupgmy61XiU",
        "outputId": "88f14c84-f49f-4ef5-e9e0-c91be29b8731"
      },
      "execution_count": null,
      "outputs": [
        {
          "output_type": "stream",
          "name": "stdout",
          "text": [
            "(1,)\n",
            "(1,)\n"
          ]
        },
        {
          "output_type": "execute_result",
          "data": {
            "text/plain": [
              "array([[12.],\n",
              "       [27.]])"
            ]
          },
          "metadata": {},
          "execution_count": 64
        }
      ]
    },
    {
      "cell_type": "markdown",
      "source": [
        "### 텐서와 기울기"
      ],
      "metadata": {
        "id": "4Fxme--ciK4r"
      }
    },
    {
      "cell_type": "code",
      "source": [
        "import tensorflow as tf"
      ],
      "metadata": {
        "id": "dm8fUg391hTN"
      },
      "execution_count": null,
      "outputs": []
    },
    {
      "cell_type": "code",
      "source": [
        "x = tf.ones(shape=(2,1))\n",
        "print(x)"
      ],
      "metadata": {
        "colab": {
          "base_uri": "https://localhost:8080/"
        },
        "id": "_eU7g5V_x12g",
        "outputId": "02caff55-e4dd-4e7f-c4ca-94ddae301b31"
      },
      "execution_count": null,
      "outputs": [
        {
          "output_type": "stream",
          "name": "stdout",
          "text": [
            "tf.Tensor(\n",
            "[[1.]\n",
            " [1.]], shape=(2, 1), dtype=float32)\n"
          ]
        }
      ]
    },
    {
      "cell_type": "code",
      "source": [
        "x = tf.zeros(shape=(2,1))\n",
        "print(x)"
      ],
      "metadata": {
        "colab": {
          "base_uri": "https://localhost:8080/"
        },
        "id": "DXv8SvMTyA7s",
        "outputId": "2ab302c3-877e-441e-9adb-91ee1c32df4d"
      },
      "execution_count": null,
      "outputs": [
        {
          "output_type": "stream",
          "name": "stdout",
          "text": [
            "tf.Tensor(\n",
            "[[0.]\n",
            " [0.]], shape=(2, 1), dtype=float32)\n"
          ]
        }
      ]
    },
    {
      "cell_type": "code",
      "source": [
        "x = tf.random.normal(shape=(6,1),mean=0,stddev=0.1)\n",
        "print(x)"
      ],
      "metadata": {
        "colab": {
          "base_uri": "https://localhost:8080/"
        },
        "id": "xUGGYKG5yZQL",
        "outputId": "b890fe0f-1127-4f43-9667-bc8ab1aa496d"
      },
      "execution_count": null,
      "outputs": [
        {
          "output_type": "stream",
          "name": "stdout",
          "text": [
            "tf.Tensor(\n",
            "[[ 0.17678384]\n",
            " [-0.08759546]\n",
            " [-0.03975897]\n",
            " [-0.04464398]\n",
            " [-0.12017976]\n",
            " [-0.20935182]], shape=(6, 1), dtype=float32)\n"
          ]
        }
      ]
    },
    {
      "cell_type": "code",
      "source": [
        "x = tf.random.uniform(shape=(6,1),minval=0,maxval=6)\n",
        "print(x)"
      ],
      "metadata": {
        "colab": {
          "base_uri": "https://localhost:8080/"
        },
        "id": "6dRwUgCFyke_",
        "outputId": "facef4d2-9a8c-46b7-b976-d8c1d58c1c1c"
      },
      "execution_count": null,
      "outputs": [
        {
          "output_type": "stream",
          "name": "stdout",
          "text": [
            "tf.Tensor(\n",
            "[[2.0637023 ]\n",
            " [5.354659  ]\n",
            " [3.9308116 ]\n",
            " [0.60208654]\n",
            " [0.6399815 ]\n",
            " [1.7530096 ]], shape=(6, 1), dtype=float32)\n"
          ]
        }
      ]
    },
    {
      "cell_type": "code",
      "source": [
        "v = tf.Variable(initial_value=3)\n",
        "print(v)"
      ],
      "metadata": {
        "colab": {
          "base_uri": "https://localhost:8080/"
        },
        "id": "sOCikRsPy8WM",
        "outputId": "9ad94922-7645-4bf0-a4e5-481af45eccf3"
      },
      "execution_count": null,
      "outputs": [
        {
          "output_type": "stream",
          "name": "stdout",
          "text": [
            "<tf.Variable 'Variable:0' shape=() dtype=int32, numpy=3>\n"
          ]
        }
      ]
    },
    {
      "cell_type": "code",
      "source": [
        "v.assign(7)\n",
        "print(v)"
      ],
      "metadata": {
        "colab": {
          "base_uri": "https://localhost:8080/"
        },
        "id": "Ve01Tf4SzOUD",
        "outputId": "e3e0dc49-bdae-4713-d17a-f722212be19f"
      },
      "execution_count": null,
      "outputs": [
        {
          "output_type": "stream",
          "name": "stdout",
          "text": [
            "<tf.Variable 'Variable:0' shape=() dtype=int32, numpy=7>\n"
          ]
        }
      ]
    },
    {
      "cell_type": "code",
      "source": [
        "v.assign_add(8)\n",
        "print(v)"
      ],
      "metadata": {
        "colab": {
          "base_uri": "https://localhost:8080/"
        },
        "id": "gdhSKz6DzcET",
        "outputId": "ac288497-5d16-4e20-d28e-02f220f4e2fa"
      },
      "execution_count": null,
      "outputs": [
        {
          "output_type": "stream",
          "name": "stdout",
          "text": [
            "<tf.Variable 'Variable:0' shape=() dtype=int32, numpy=15>\n"
          ]
        }
      ]
    },
    {
      "cell_type": "code",
      "source": [
        "x = tf.square(v)\n",
        "print(x)"
      ],
      "metadata": {
        "colab": {
          "base_uri": "https://localhost:8080/"
        },
        "id": "5iGWBHLLzz1T",
        "outputId": "682e8423-4076-4796-86fc-5b76ceaa24f6"
      },
      "execution_count": null,
      "outputs": [
        {
          "output_type": "stream",
          "name": "stdout",
          "text": [
            "tf.Tensor(225, shape=(), dtype=int32)\n"
          ]
        }
      ]
    },
    {
      "cell_type": "code",
      "source": [
        "iv = tf.Variable(initial_value=3.)\n",
        "print(iv)"
      ],
      "metadata": {
        "colab": {
          "base_uri": "https://localhost:8080/"
        },
        "id": "q389saqu0AbY",
        "outputId": "bfc50c26-64ad-4e46-d14e-5ca0e28167a4"
      },
      "execution_count": null,
      "outputs": [
        {
          "output_type": "stream",
          "name": "stdout",
          "text": [
            "<tf.Variable 'Variable:0' shape=() dtype=float32, numpy=3.0>\n"
          ]
        }
      ]
    },
    {
      "cell_type": "code",
      "source": [
        "with tf.GradientTape() as tape:\n",
        "  result = tf.square(iv)"
      ],
      "metadata": {
        "id": "Ol7JilMR0Lbd"
      },
      "execution_count": null,
      "outputs": []
    },
    {
      "cell_type": "code",
      "source": [
        "print(result)"
      ],
      "metadata": {
        "colab": {
          "base_uri": "https://localhost:8080/"
        },
        "id": "EcDL8uQ71As_",
        "outputId": "188b6280-37b5-43fb-f21a-a5c3e1c15ca5"
      },
      "execution_count": null,
      "outputs": [
        {
          "output_type": "stream",
          "name": "stdout",
          "text": [
            "tf.Tensor(9.0, shape=(), dtype=float32)\n"
          ]
        }
      ]
    },
    {
      "cell_type": "code",
      "source": [
        "gradient = tape.gradient(result,iv)\n",
        "print(gradient)"
      ],
      "metadata": {
        "colab": {
          "base_uri": "https://localhost:8080/"
        },
        "id": "Z0dQTHZx1DPm",
        "outputId": "24165a39-9d62-4cce-e73d-cd098d4067fa"
      },
      "execution_count": null,
      "outputs": [
        {
          "output_type": "stream",
          "name": "stdout",
          "text": [
            "tf.Tensor(6.0, shape=(), dtype=float32)\n"
          ]
        }
      ]
    },
    {
      "cell_type": "code",
      "source": [
        "time = tf.Variable(9.)\n",
        "print(time)"
      ],
      "metadata": {
        "colab": {
          "base_uri": "https://localhost:8080/"
        },
        "id": "3TK3ThHa1Wpm",
        "outputId": "49cbaf46-0e03-426a-d7d0-c86ea234029f"
      },
      "execution_count": null,
      "outputs": [
        {
          "output_type": "stream",
          "name": "stdout",
          "text": [
            "<tf.Variable 'Variable:0' shape=() dtype=float32, numpy=9.0>\n"
          ]
        }
      ]
    },
    {
      "cell_type": "code",
      "source": [
        "with tf.GradientTape() as out_tape:\n",
        "  with tf.GradientTape() as in_tape:\n",
        "    position = 4.9 * time**2\n",
        "  speed = in_tape.gradient(position,time)\n",
        "acceleration = out_tape.gradient(speed,time)"
      ],
      "metadata": {
        "id": "ZdYe61Ve2k1B"
      },
      "execution_count": null,
      "outputs": []
    },
    {
      "cell_type": "code",
      "source": [
        "print(position)"
      ],
      "metadata": {
        "colab": {
          "base_uri": "https://localhost:8080/"
        },
        "id": "oZaW96MV3RWq",
        "outputId": "75071c04-5aa9-47c5-e54e-fab621560047"
      },
      "execution_count": null,
      "outputs": [
        {
          "output_type": "stream",
          "name": "stdout",
          "text": [
            "tf.Tensor(396.9, shape=(), dtype=float32)\n"
          ]
        }
      ]
    },
    {
      "cell_type": "code",
      "source": [
        "print(speed)"
      ],
      "metadata": {
        "colab": {
          "base_uri": "https://localhost:8080/"
        },
        "id": "6e_rQH-83PSv",
        "outputId": "ccaf9478-3d8b-402c-8b7c-b29333001d3f"
      },
      "execution_count": null,
      "outputs": [
        {
          "output_type": "stream",
          "name": "stdout",
          "text": [
            "tf.Tensor(88.200005, shape=(), dtype=float32)\n"
          ]
        }
      ]
    },
    {
      "cell_type": "code",
      "source": [
        "print(acceleration)"
      ],
      "metadata": {
        "colab": {
          "base_uri": "https://localhost:8080/"
        },
        "id": "aEP1WN2o3Qq5",
        "outputId": "22b2e27c-ded8-4f06-ddee-b93163f9cf53"
      },
      "execution_count": null,
      "outputs": [
        {
          "output_type": "stream",
          "name": "stdout",
          "text": [
            "tf.Tensor(9.8, shape=(), dtype=float32)\n"
          ]
        }
      ]
    },
    {
      "cell_type": "markdown",
      "source": [
        "### 텐서 플로우 내부 - 선형 분류기"
      ],
      "metadata": {
        "id": "1DiKA4ny5BFo"
      }
    },
    {
      "cell_type": "code",
      "source": [
        "import numpy as np"
      ],
      "metadata": {
        "id": "y1C5xCie3c-9"
      },
      "execution_count": null,
      "outputs": []
    },
    {
      "cell_type": "code",
      "source": [
        "num_samples_per_class = 1000"
      ],
      "metadata": {
        "id": "KjuTknvE5IQV"
      },
      "execution_count": null,
      "outputs": []
    },
    {
      "cell_type": "code",
      "source": [
        "import matplotlib.pyplot as plt"
      ],
      "metadata": {
        "id": "Ho7c64tQ5s18"
      },
      "execution_count": null,
      "outputs": []
    },
    {
      "cell_type": "code",
      "source": [
        "negative_samples = np.random.multivariate_normal(\n",
        "    mean=[0,2],\n",
        "    cov = [[1,0.5],[0.5,1]],\n",
        "    size = num_samples_per_class\n",
        ")\n",
        "print(negative_samples)"
      ],
      "metadata": {
        "colab": {
          "base_uri": "https://localhost:8080/"
        },
        "id": "YoYcJDT85MeG",
        "outputId": "fd6a7a77-5e33-4da5-d0b9-0b457ec473fa"
      },
      "execution_count": null,
      "outputs": [
        {
          "output_type": "stream",
          "name": "stdout",
          "text": [
            "[[-0.28116101  2.5401263 ]\n",
            " [ 0.83750379  3.53953481]\n",
            " [ 0.18308221  1.59354496]\n",
            " ...\n",
            " [-0.276842    2.06860088]\n",
            " [ 0.91894898  0.6524838 ]\n",
            " [ 0.53161921  4.64545169]]\n"
          ]
        }
      ]
    },
    {
      "cell_type": "code",
      "source": [
        "positive_samples = np.random.multivariate_normal(\n",
        "    mean=[3,0],\n",
        "    cov = [[1,0.5],[0.5,1]],\n",
        "    size = num_samples_per_class\n",
        ")\n",
        "print(positive_samples)"
      ],
      "metadata": {
        "colab": {
          "base_uri": "https://localhost:8080/"
        },
        "id": "mqD3fJg_5rs8",
        "outputId": "9955bdcc-e192-4083-d998-f00af0c3cfd6"
      },
      "execution_count": null,
      "outputs": [
        {
          "output_type": "stream",
          "name": "stdout",
          "text": [
            "[[ 2.47255921 -1.00602627]\n",
            " [ 3.13213871  0.99202123]\n",
            " [ 0.16654407 -1.42559999]\n",
            " ...\n",
            " [ 2.96229149 -1.36166732]\n",
            " [ 1.29242551 -0.74912657]\n",
            " [ 3.98772441  1.72503159]]\n"
          ]
        }
      ]
    },
    {
      "cell_type": "code",
      "source": [
        "inputs = np.vstack((negative_samples,positive_samples)).astype(np.float32)\n",
        "print(inputs)"
      ],
      "metadata": {
        "colab": {
          "base_uri": "https://localhost:8080/"
        },
        "id": "OODtcBor6GRR",
        "outputId": "77ce0f2c-b254-4343-c102-fb04997cd0cf"
      },
      "execution_count": null,
      "outputs": [
        {
          "output_type": "stream",
          "name": "stdout",
          "text": [
            "[[-0.281161    2.5401263 ]\n",
            " [ 0.8375038   3.5395348 ]\n",
            " [ 0.18308221  1.593545  ]\n",
            " ...\n",
            " [ 2.9622915  -1.3616673 ]\n",
            " [ 1.2924255  -0.74912655]\n",
            " [ 3.9877243   1.7250316 ]]\n"
          ]
        }
      ]
    },
    {
      "cell_type": "code",
      "source": [
        "a = np.array([[1,2],[3,4]])\n",
        "b = np.array([[5,6],[7,8]])\n",
        "c = np.vstack((a,b))\n",
        "print(c)"
      ],
      "metadata": {
        "colab": {
          "base_uri": "https://localhost:8080/"
        },
        "id": "bBFT1Utf6az0",
        "outputId": "8ba97fa3-d1dd-4c8c-93d6-e7439fa9e215"
      },
      "execution_count": null,
      "outputs": [
        {
          "output_type": "stream",
          "name": "stdout",
          "text": [
            "[[1 2]\n",
            " [3 4]\n",
            " [5 6]\n",
            " [7 8]]\n"
          ]
        }
      ]
    },
    {
      "cell_type": "code",
      "source": [
        "neg_targets = np.zeros((num_samples_per_class,1),dtype='float32')\n",
        "pos_targets = np.ones((num_samples_per_class,1),dtype='float32')"
      ],
      "metadata": {
        "id": "xdQsy3QN6lXf"
      },
      "execution_count": null,
      "outputs": []
    },
    {
      "cell_type": "code",
      "source": [
        "targets = np.vstack((neg_targets,pos_targets))"
      ],
      "metadata": {
        "id": "MRboqC2z7Ksi"
      },
      "execution_count": null,
      "outputs": []
    },
    {
      "cell_type": "code",
      "source": [
        "plt.scatter(inputs[:,0],inputs[:,1],c=targets[:,0])\n",
        "plt.show()"
      ],
      "metadata": {
        "colab": {
          "base_uri": "https://localhost:8080/",
          "height": 430
        },
        "id": "QkHR1g257Qvt",
        "outputId": "0c88adbd-b743-4bc9-dfa0-0d85884b24ef"
      },
      "execution_count": null,
      "outputs": [
        {
          "output_type": "display_data",
          "data": {
            "text/plain": [
              "<Figure size 640x480 with 1 Axes>"
            ],
            "image/png": "[encoded data removed]"
          },
          "metadata": {}
        }
      ]
    },
    {
      "cell_type": "code",
      "source": [
        "input_dim = 2\n",
        "output_dim = 1"
      ],
      "metadata": {
        "id": "kIhVcggx7dqd"
      },
      "execution_count": null,
      "outputs": []
    },
    {
      "cell_type": "code",
      "source": [
        "print(inputs.shape)"
      ],
      "metadata": {
        "colab": {
          "base_uri": "https://localhost:8080/"
        },
        "id": "73nFZPMGIMah",
        "outputId": "527883de-0be3-412d-8e54-f5b4741d0e00"
      },
      "execution_count": null,
      "outputs": [
        {
          "output_type": "stream",
          "name": "stdout",
          "text": [
            "(2000, 2)\n"
          ]
        }
      ]
    },
    {
      "cell_type": "code",
      "source": [
        "W = tf.Variable(tf.random.uniform(shape = (input_dim,output_dim)))"
      ],
      "metadata": {
        "id": "50656g8zCtkF"
      },
      "execution_count": null,
      "outputs": []
    },
    {
      "cell_type": "code",
      "source": [
        "b = tf.Variable(tf.zeros(shape=(output_dim,)))"
      ],
      "metadata": {
        "id": "aw7a1R1bDQH9"
      },
      "execution_count": null,
      "outputs": []
    },
    {
      "cell_type": "code",
      "source": [
        "def model(inputs): #forward\n",
        "  return tf.matmul(inputs,W)+b"
      ],
      "metadata": {
        "id": "IrgV4hbYDe4l"
      },
      "execution_count": null,
      "outputs": []
    },
    {
      "cell_type": "code",
      "source": [
        "def square_loss(targets,predictions):\n",
        "  per_sample_losses = tf.square(targets - predictions)\n",
        "  return tf.reduce_mean(per_sample_losses)"
      ],
      "metadata": {
        "id": "4v6YcZZyEbHQ"
      },
      "execution_count": null,
      "outputs": []
    },
    {
      "cell_type": "code",
      "source": [
        "learning_rate = 0.1 #학습률"
      ],
      "metadata": {
        "id": "fEw94tmcEzjC"
      },
      "execution_count": null,
      "outputs": []
    },
    {
      "cell_type": "code",
      "source": [
        "def train_step(inputs,targets):\n",
        "  with tf.GradientTape() as tape:\n",
        "    predictions = model(inputs) #forward\n",
        "    loss = square_loss(targets, predictions) #손실계산\n",
        "  grad_loss_wrt_W, grad_loss_wrt_b = tape.gradient(loss,[W,b]) #편미분으로 기울기 계산\n",
        "  W.assign_sub(grad_loss_wrt_W*learning_rate)\n",
        "  b.assign_sub(grad_loss_wrt_b*learning_rate)\n",
        "  return loss\n"
      ],
      "metadata": {
        "id": "F20m5o2HF6wj"
      },
      "execution_count": null,
      "outputs": []
    },
    {
      "cell_type": "code",
      "source": [
        "for step in range(40):\n",
        "  loss = train_step(inputs,targets)\n",
        "  print(f'{step}번째 손실:{loss:.4f}')"
      ],
      "metadata": {
        "colab": {
          "base_uri": "https://localhost:8080/"
        },
        "id": "fDe5eASHHxF2",
        "outputId": "ad0fff41-92b7-411a-cc7d-02bad55ec282"
      },
      "execution_count": null,
      "outputs": [
        {
          "output_type": "stream",
          "name": "stdout",
          "text": [
            "0번째 손실:0.3674\n",
            "1번째 손실:0.1277\n",
            "2번째 손실:0.0966\n",
            "3번째 손실:0.0868\n",
            "4번째 손실:0.0803\n",
            "5번째 손실:0.0748\n",
            "6번째 손실:0.0699\n",
            "7번째 손실:0.0657\n",
            "8번째 손실:0.0619\n",
            "9번째 손실:0.0585\n",
            "10번째 손실:0.0555\n",
            "11번째 손실:0.0529\n",
            "12번째 손실:0.0506\n",
            "13번째 손실:0.0485\n",
            "14번째 손실:0.0467\n",
            "15번째 손실:0.0450\n",
            "16번째 손실:0.0436\n",
            "17번째 손실:0.0423\n",
            "18번째 손실:0.0412\n",
            "19번째 손실:0.0402\n",
            "20번째 손실:0.0393\n",
            "21번째 손실:0.0385\n",
            "22번째 손실:0.0378\n",
            "23번째 손실:0.0372\n",
            "24번째 손실:0.0366\n",
            "25번째 손실:0.0361\n",
            "26번째 손실:0.0357\n",
            "27번째 손실:0.0353\n",
            "28번째 손실:0.0350\n",
            "29번째 손실:0.0347\n",
            "30번째 손실:0.0344\n",
            "31번째 손실:0.0342\n",
            "32번째 손실:0.0340\n",
            "33번째 손실:0.0338\n",
            "34번째 손실:0.0336\n",
            "35번째 손실:0.0335\n",
            "36번째 손실:0.0333\n",
            "37번째 손실:0.0332\n",
            "38번째 손실:0.0331\n",
            "39번째 손실:0.0330\n"
          ]
        }
      ]
    },
    {
      "cell_type": "code",
      "source": [
        "predictions = model(inputs)"
      ],
      "metadata": {
        "id": "J0S2-xVxp0yh"
      },
      "execution_count": null,
      "outputs": []
    },
    {
      "cell_type": "code",
      "source": [
        "predictions"
      ],
      "metadata": {
        "colab": {
          "base_uri": "https://localhost:8080/"
        },
        "id": "rZrNAb3eq0nT",
        "outputId": "e1c9a842-bf17-4e96-9cb8-1327efd9a73d"
      },
      "execution_count": null,
      "outputs": [
        {
          "output_type": "execute_result",
          "data": {
            "text/plain": [
              "<tf.Tensor: shape=(2000, 1), dtype=float32, numpy=\n",
              "array([[-0.08516079],\n",
              "       [-0.01625505],\n",
              "       [ 0.14401163],\n",
              "       ...,\n",
              "       [ 1.116448  ],\n",
              "       [ 0.70353293],\n",
              "       [ 0.8598007 ]], dtype=float32)>"
            ]
          },
          "metadata": {},
          "execution_count": 29
        }
      ]
    },
    {
      "cell_type": "code",
      "source": [
        "x1 = np.linspace(-2,5,100)\n",
        "x2 = -W[0]/W[1]*x1 + (0.5-b)/W[1]\n",
        "plt.plot(x1,x2,\"-r\")\n",
        "plt.scatter(inputs[:,0],inputs[:,1],c=targets[:,0])\n",
        "plt.show()"
      ],
      "metadata": {
        "colab": {
          "base_uri": "https://localhost:8080/",
          "height": 434
        },
        "id": "reEytzKEq1uk",
        "outputId": "ad333adc-063f-43bd-9596-424674f2fb87"
      },
      "execution_count": null,
      "outputs": [
        {
          "output_type": "display_data",
          "data": {
            "text/plain": [
              "<Figure size 640x480 with 1 Axes>"
            ],
            "image/png": "[encoded data removed]"
          },
          "metadata": {}
        }
      ]
    },
    {
      "cell_type": "markdown",
      "source": [
        "### 내부 - Layer"
      ],
      "metadata": {
        "id": "Kl8dc5Z0skFq"
      }
    },
    {
      "cell_type": "code",
      "source": [
        "from tensorflow import keras\n",
        "from keras import layers"
      ],
      "metadata": {
        "id": "b7ZDP9Z9sEig"
      },
      "execution_count": null,
      "outputs": []
    },
    {
      "cell_type": "code",
      "source": [
        "class SimpleDense(layers.Layer):\n",
        "  def __init__(self,units,activation=None):\n",
        "    super().__init__()\n",
        "    self.units = units\n",
        "    self.activation = activation\n",
        "  def build(self,input_shape): #모델 파라미터 초기화\n",
        "    input_dim = input_shape[-1]\n",
        "    self.W = self.add_weight(shape=(input_dim,self.units),\n",
        "                             initializer='random_normal')\n",
        "    self.b = self.add_weight(shape=(self.units),\n",
        "                             initializer='zeros')\n",
        "  def call(self,inputs): #forward\n",
        "    y = tf.matmul(inputs,self.W)+self.b\n",
        "    if self.activation is not None:\n",
        "      y = self.activation(y)\n",
        "    return y"
      ],
      "metadata": {
        "id": "5DOGoL1msrLR"
      },
      "execution_count": null,
      "outputs": []
    },
    {
      "cell_type": "code",
      "source": [
        "my_dense = SimpleDense(units=32,activation=tf.nn.relu)\n",
        "input_tensor = tf.ones(shape=(2,784))\n",
        "output_tensor = my_dense(input_tensor)\n",
        "print(output_tensor.shape)"
      ],
      "metadata": {
        "colab": {
          "base_uri": "https://localhost:8080/"
        },
        "id": "PWEdwDm1sp3J",
        "outputId": "cd1ede2e-9a79-4a91-b48a-441b6448be57"
      },
      "execution_count": null,
      "outputs": [
        {
          "output_type": "stream",
          "name": "stdout",
          "text": [
            "(2, 32)\n"
          ]
        }
      ]
    },
    {
      "cell_type": "code",
      "source": [
        "model = keras.Sequential()\n",
        "model.add(SimpleDense(32,activation='relu'))\n",
        "model.add(SimpleDense(64,activation='relu'))\n",
        "model.add(SimpleDense(32,activation='relu'))\n",
        "model.add(SimpleDense(10,activation='softmax'))"
      ],
      "metadata": {
        "id": "13mt-aZiv6MZ"
      },
      "execution_count": null,
      "outputs": []
    },
    {
      "cell_type": "code",
      "source": [
        "model = keras.Sequential()\n",
        "model.add(layers.Dense(1))\n",
        "model.compile(loss='mse',optimizer='adam',metrics=['accuracy'])"
      ],
      "metadata": {
        "id": "d9Njv4mFweqk"
      },
      "execution_count": null,
      "outputs": []
    },
    {
      "cell_type": "code",
      "source": [
        "model = keras.Sequential()\n",
        "model.add(SimpleDense(1))\n",
        "model.compile(loss='mse',optimizer='adam',metrics=['accuracy'])"
      ],
      "metadata": {
        "id": "G7FTWj9-xgSQ"
      },
      "execution_count": null,
      "outputs": []
    },
    {
      "cell_type": "code",
      "source": [
        "model = keras.Sequential()\n",
        "model.add(SimpleDense(1))\n",
        "mse_fun = keras.losses.MeanSquaredError()\n",
        "opt_fun = keras.optimizers.Adam(learning_rate=0.0001)\n",
        "model.compile(loss=mse_fun,optimizer=opt_fun,metrics=['accuracy'])"
      ],
      "metadata": {
        "id": "OUz0KvHSxiK-"
      },
      "execution_count": null,
      "outputs": []
    },
    {
      "cell_type": "code",
      "source": [
        "hist = model.fit(inputs,\n",
        "                 targets,\n",
        "                 epochs=5,\n",
        "                 batch_size=128)"
      ],
      "metadata": {
        "colab": {
          "base_uri": "https://localhost:8080/"
        },
        "id": "ZJWJdNtFzNep",
        "outputId": "78dd6bf5-7ded-44b1-9efd-c5bbfcfafffd"
      },
      "execution_count": null,
      "outputs": [
        {
          "output_type": "stream",
          "name": "stdout",
          "text": [
            "Epoch 1/5\n",
            "16/16 [==============================] - 3s 3ms/step - loss: 0.4548 - accuracy: 0.5000\n",
            "Epoch 2/5\n",
            "16/16 [==============================] - 0s 6ms/step - loss: 0.4542 - accuracy: 0.5000\n",
            "Epoch 3/5\n",
            "16/16 [==============================] - 0s 5ms/step - loss: 0.4536 - accuracy: 0.5000\n",
            "Epoch 4/5\n",
            "16/16 [==============================] - 0s 6ms/step - loss: 0.4530 - accuracy: 0.5000\n",
            "Epoch 5/5\n",
            "16/16 [==============================] - 0s 4ms/step - loss: 0.4524 - accuracy: 0.5000\n"
          ]
        }
      ]
    },
    {
      "cell_type": "code",
      "source": [
        "hist.history"
      ],
      "metadata": {
        "colab": {
          "base_uri": "https://localhost:8080/"
        },
        "id": "72T4bXLD5CVI",
        "outputId": "a99bb73d-07a2-4300-e776-9bc15b53b5e0"
      },
      "execution_count": null,
      "outputs": [
        {
          "output_type": "execute_result",
          "data": {
            "text/plain": [
              "{'loss': [0.4547971785068512,\n",
              "  0.45418938994407654,\n",
              "  0.45357921719551086,\n",
              "  0.45297175645828247,\n",
              "  0.4523642957210541],\n",
              " 'accuracy': [0.5, 0.5, 0.5, 0.5, 0.5]}"
            ]
          },
          "metadata": {},
          "execution_count": 55
        }
      ]
    },
    {
      "cell_type": "code",
      "source": [
        "ip = np.random.permutation(len(inputs))"
      ],
      "metadata": {
        "id": "K74FX-PT5RJU"
      },
      "execution_count": null,
      "outputs": []
    },
    {
      "cell_type": "code",
      "source": [
        "ip2 = np.random.permutation(10)\n",
        "ip2"
      ],
      "metadata": {
        "colab": {
          "base_uri": "https://localhost:8080/"
        },
        "id": "4UrXDIem7VGl",
        "outputId": "1597c474-dd66-409e-e3c2-10d58c8a4bde"
      },
      "execution_count": null,
      "outputs": [
        {
          "output_type": "execute_result",
          "data": {
            "text/plain": [
              "array([1, 0, 4, 6, 7, 5, 3, 2, 9, 8])"
            ]
          },
          "metadata": {},
          "execution_count": 58
        }
      ]
    },
    {
      "cell_type": "code",
      "source": [
        "s_inputs = inputs[ip]\n",
        "s_targets = targets[ip]"
      ],
      "metadata": {
        "id": "-0r_wih17jiA"
      },
      "execution_count": null,
      "outputs": []
    },
    {
      "cell_type": "code",
      "source": [
        "n = len(targets)"
      ],
      "metadata": {
        "id": "eddsTEXo8bEz"
      },
      "execution_count": null,
      "outputs": []
    },
    {
      "cell_type": "code",
      "source": [
        "n"
      ],
      "metadata": {
        "id": "YVZCNSfE9UtI",
        "outputId": "2305e0af-96a1-462a-8dde-cddc490a0f8c",
        "colab": {
          "base_uri": "https://localhost:8080/"
        }
      },
      "execution_count": null,
      "outputs": [
        {
          "output_type": "execute_result",
          "data": {
            "text/plain": [
              "2000"
            ]
          },
          "metadata": {},
          "execution_count": 69
        }
      ]
    },
    {
      "cell_type": "code",
      "source": [
        "train_inputs = s_inputs[:int(n*7/10)]\n",
        "val_inputs = s_inputs[int(n*7/10):int(n*8/10)]\n",
        "test_inputs = s_inputs[int(n*8/10):]\n",
        "\n",
        "train_targets = s_targets[:int(n*7/10)]\n",
        "val_targets = s_targets[int(n*7/10):int(n*8/10)]\n",
        "test_targets = s_targets[int(n*8/10):]"
      ],
      "metadata": {
        "id": "O5La32rH79ZB"
      },
      "execution_count": null,
      "outputs": []
    },
    {
      "cell_type": "code",
      "source": [],
      "metadata": {
        "id": "rZFfn2Ct80p9"
      },
      "execution_count": null,
      "outputs": []
    }
  ]
}