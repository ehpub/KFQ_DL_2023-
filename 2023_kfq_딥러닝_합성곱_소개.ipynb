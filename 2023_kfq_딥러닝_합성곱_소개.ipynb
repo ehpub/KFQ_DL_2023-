{
  "nbformat": 4,
  "nbformat_minor": 0,
  "metadata": {
    "colab": {
      "provenance": [],
      "authorship_tag": "ABX9TyOZmVPhmMwpKFVwyd+RbTC1",
      "include_colab_link": true
    },
    "kernelspec": {
      "name": "python3",
      "display_name": "Python 3"
    },
    "language_info": {
      "name": "python"
    }
  },
  "cells": [
    {
      "cell_type": "markdown",
      "metadata": {
        "id": "view-in-github",
        "colab_type": "text"
      },
      "source": [
        "<a href=\"https://colab.research.google.com/github/ehpub/KFQ_DL_2023-/blob/main/2023_kfq_%EB%94%A5%EB%9F%AC%EB%8B%9D_%ED%95%A9%EC%84%B1%EA%B3%B1_%EC%86%8C%EA%B0%9C.ipynb\" target=\"_parent\"><img src=\"https://colab.research.google.com/assets/colab-badge.svg\" alt=\"Open In Colab\"/></a>"
      ]
    },
    {
      "cell_type": "markdown",
      "source": [
        "참고 교재: https://www.gilbut.co.kr/book/view?bookcode=BN003496"
      ],
      "metadata": {
        "id": "SLi1Ilvpdfpu"
      }
    },
    {
      "cell_type": "code",
      "execution_count": 1,
      "metadata": {
        "id": "KI2w6w8wdeLD"
      },
      "outputs": [],
      "source": [
        "import tensorflow as tf\n",
        "from tensorflow import keras\n",
        "from keras import models\n",
        "from keras import layers\n",
        "from keras.datasets import mnist"
      ]
    },
    {
      "cell_type": "code",
      "source": [
        "(x_train,y_train),(x_test,y_test) = mnist.load_data()\n",
        "x_train = x_train.reshape(-1,28,28,1)\n",
        "x_test = x_test.reshape(-1,28,28,1)\n",
        "x_train = x_train/255.0\n",
        "x_test = x_test/255.0\n",
        "x_train = x_train.astype('float32')\n",
        "x_test = x_test.astype('float32')"
      ],
      "metadata": {
        "id": "MNPBGCeekq-j"
      },
      "execution_count": 3,
      "outputs": []
    },
    {
      "cell_type": "code",
      "source": [
        "inputs = keras.Input(shape=(28,28,1))\n",
        "fm = layers.Conv2D(filters=32,kernel_size=3,\n",
        "                  activation='relu')(inputs)\n",
        "fm = layers.MaxPooling2D(pool_size=2)(fm)\n",
        "fm2 = layers.Conv2D(filters=64,kernel_size=3,\n",
        "                  activation='relu')(fm)\n",
        "fm2 = layers.MaxPooling2D(pool_size=2)(fm2)\n",
        "fm3 = layers.Conv2D(filters=128,kernel_size=3,\n",
        "                  activation='relu')(fm2)\n",
        "x = layers.Flatten()(fm3)\n",
        "outputs = layers.Dense(10,activation='softmax')(x)\n",
        "model = keras.Model(inputs,outputs)"
      ],
      "metadata": {
        "id": "S1xUKoMYlB3t"
      },
      "execution_count": 11,
      "outputs": []
    },
    {
      "cell_type": "code",
      "source": [
        "model.summary()"
      ],
      "metadata": {
        "colab": {
          "base_uri": "https://localhost:8080/"
        },
        "id": "xL-Mn3xAnUkm",
        "outputId": "5c46540b-3b5d-4411-cee5-7091ac1d13f3"
      },
      "execution_count": 12,
      "outputs": [
        {
          "output_type": "stream",
          "name": "stdout",
          "text": [
            "Model: \"model_3\"\n",
            "_________________________________________________________________\n",
            " Layer (type)                Output Shape              Param #   \n",
            "=================================================================\n",
            " input_4 (InputLayer)        [(None, 28, 28, 1)]       0         \n",
            "                                                                 \n",
            " conv2d_9 (Conv2D)           (None, 26, 26, 32)        320       \n",
            "                                                                 \n",
            " max_pooling2d_6 (MaxPooling  (None, 13, 13, 32)       0         \n",
            " 2D)                                                             \n",
            "                                                                 \n",
            " conv2d_10 (Conv2D)          (None, 11, 11, 64)        18496     \n",
            "                                                                 \n",
            " max_pooling2d_7 (MaxPooling  (None, 5, 5, 64)         0         \n",
            " 2D)                                                             \n",
            "                                                                 \n",
            " conv2d_11 (Conv2D)          (None, 3, 3, 128)         73856     \n",
            "                                                                 \n",
            " flatten_3 (Flatten)         (None, 1152)              0         \n",
            "                                                                 \n",
            " dense_3 (Dense)             (None, 10)                11530     \n",
            "                                                                 \n",
            "=================================================================\n",
            "Total params: 104,202\n",
            "Trainable params: 104,202\n",
            "Non-trainable params: 0\n",
            "_________________________________________________________________\n"
          ]
        }
      ]
    },
    {
      "cell_type": "code",
      "source": [
        "model.compile(optimizer='rmsprop',\n",
        "              loss = keras.losses.sparse_categorical_crossentropy,\n",
        "              metrics=['accuracy'])\n",
        "hist = model.fit(x_train,y_train,epochs=5,\n",
        "                 batch_size=64,\n",
        "                 validation_split=0.2)"
      ],
      "metadata": {
        "colab": {
          "base_uri": "https://localhost:8080/"
        },
        "id": "JfVV2qDdnbi4",
        "outputId": "fe9e9d06-2b50-4c4c-f2cd-c7706fd077b7"
      },
      "execution_count": 13,
      "outputs": [
        {
          "output_type": "stream",
          "name": "stdout",
          "text": [
            "Epoch 1/5\n",
            "750/750 [==============================] - 57s 76ms/step - loss: 0.1873 - accuracy: 0.9406 - val_loss: 0.0752 - val_accuracy: 0.9778\n",
            "Epoch 2/5\n",
            "750/750 [==============================] - 54s 71ms/step - loss: 0.0504 - accuracy: 0.9840 - val_loss: 0.0423 - val_accuracy: 0.9873\n",
            "Epoch 3/5\n",
            "750/750 [==============================] - 58s 77ms/step - loss: 0.0334 - accuracy: 0.9896 - val_loss: 0.0516 - val_accuracy: 0.9872\n",
            "Epoch 4/5\n",
            "750/750 [==============================] - 54s 72ms/step - loss: 0.0261 - accuracy: 0.9914 - val_loss: 0.0367 - val_accuracy: 0.9892\n",
            "Epoch 5/5\n",
            "750/750 [==============================] - 54s 72ms/step - loss: 0.0195 - accuracy: 0.9937 - val_loss: 0.0420 - val_accuracy: 0.9888\n"
          ]
        }
      ]
    },
    {
      "cell_type": "code",
      "source": [
        "model.evaluate(x_test,y_test)"
      ],
      "metadata": {
        "colab": {
          "base_uri": "https://localhost:8080/"
        },
        "id": "l89TsOY1ocqJ",
        "outputId": "6af53f46-9e15-47cc-a0c5-ca6dff6ef4a8"
      },
      "execution_count": 14,
      "outputs": [
        {
          "output_type": "stream",
          "name": "stdout",
          "text": [
            "313/313 [==============================] - 3s 10ms/step - loss: 0.0350 - accuracy: 0.9890\n"
          ]
        },
        {
          "output_type": "execute_result",
          "data": {
            "text/plain": [
              "[0.03504285216331482, 0.9890000224113464]"
            ]
          },
          "metadata": {},
          "execution_count": 14
        }
      ]
    },
    {
      "cell_type": "code",
      "source": [],
      "metadata": {
        "id": "fDCCgfTAscqy"
      },
      "execution_count": null,
      "outputs": []
    }
  ]
}